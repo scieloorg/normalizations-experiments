{
 "cells": [
  {
   "cell_type": "markdown",
   "metadata": {},
   "source": [
    "# Applying FastText directly on ISO data"
   ]
  },
  {
   "cell_type": "code",
   "execution_count": 1,
   "metadata": {},
   "outputs": [],
   "source": [
    "from functools import reduce\n",
    "from pathlib import Path\n",
    "import re\n",
    "\n",
    "import pandas as pd\n",
    "\n",
    "from ioisis import iso"
   ]
  },
  {
   "cell_type": "markdown",
   "metadata": {},
   "source": [
    "## Loading ISO data with [`ioisis`](https://github.com/scieloorg/ioisis) 0.1.0 and Pandas"
   ]
  },
  {
   "cell_type": "markdown",
   "metadata": {},
   "source": [
    "This is the directory with ISO data,\n",
    "it can be the mounted `isis2mongo` source data directory,\n",
    "a copy of it,\n",
    "or a symbolic link to the actual path."
   ]
  },
  {
   "cell_type": "code",
   "execution_count": 2,
   "metadata": {},
   "outputs": [],
   "source": [
    "iso_root_dir = \"./iso_files/2019-11-13/\""
   ]
  },
  {
   "cell_type": "markdown",
   "metadata": {},
   "source": [
    "The structure of this directory should be a `COLLECTION/DATASET.iso`,\n",
    "where `COLLECTION` is the 3 lowercase letters code of a collection,\n",
    "and `DATASET` is the name of a dataset\n",
    "(`title`, `artigo`, `bib4cit` or `issue`).\n",
    "For now we'll use just the `artigo.iso` files:"
   ]
  },
  {
   "cell_type": "code",
   "execution_count": 3,
   "metadata": {},
   "outputs": [],
   "source": [
    "iso_file_names_map = {iso_file.parts[-2]: str(iso_file.resolve())\n",
    "                      for iso_file in Path(iso_root_dir).glob(\"???/artigo.iso\")}"
   ]
  },
  {
   "cell_type": "markdown",
   "metadata": {},
   "source": [
    "These functions will let us get the first records\n",
    "from each of these datasets.\n",
    "As we are going to use only the records of the *header* type\n",
    "(the `artigo.iso` data files have more than one schema,\n",
    " one can think that there's a distinct \"table\"\n",
    " for each value of the field $706$)."
   ]
  },
  {
   "cell_type": "code",
   "execution_count": 4,
   "metadata": {},
   "outputs": [],
   "source": [
    "def filter_headers(iterator):\n",
    "    for el in iterator:\n",
    "        if el[\"706\"] == [\"h\"]:\n",
    "            yield el"
   ]
  },
  {
   "cell_type": "code",
   "execution_count": 5,
   "metadata": {},
   "outputs": [],
   "source": [
    "def take(n, iterator):\n",
    "    return [el for unused, el in zip(range(n), iterator)]"
   ]
  },
  {
   "cell_type": "markdown",
   "metadata": {},
   "source": [
    "Let's get the first record from the SciELO Brazil ISO file\n",
    "to see how it looks like:"
   ]
  },
  {
   "cell_type": "code",
   "execution_count": 6,
   "metadata": {},
   "outputs": [
    {
     "data": {
      "text/plain": [
       "defaultdict(list,\n",
       "            {'1': ['br1.1'],\n",
       "             '2': ['S0044-5967(04)03400101'],\n",
       "             '4': ['v34n1'],\n",
       "             '10': ['^rND^1A01^nSilvio Roberto Miranda dos^sSantos',\n",
       "              '^rND^1A01^nIzildinha de Souza^sMiranda',\n",
       "              '^rND^1A01^nManoel Malheiros^sTourinho'],\n",
       "             '12': ['Estimativa de biomassa de sistemas agroflorestais das várzeas do rio juba, Cametá, Pará^lpt',\n",
       "              'Biomass estimation of agroforestry systems of the Juba river floodplain in Cametá, Pará^len'],\n",
       "             '14': ['^f01^l08'],\n",
       "             '30': ['Acta Amaz.'],\n",
       "             '31': ['34'],\n",
       "             '32': ['1'],\n",
       "             '35': ['0044-5967'],\n",
       "             '38': ['ILUS', 'TAB'],\n",
       "             '40': ['pt'],\n",
       "             '42': ['1'],\n",
       "             '49': ['AA010'],\n",
       "             '58': ['Projeto Várzea/UFRA'],\n",
       "             '65': ['20040000'],\n",
       "             '70': ['Universidade Federal Rural da Amazônia-UFRA^iA01^cBelém^sPA^pBrasil^e<a href=\"mailto:izildinha@ufra.edu.br\">izildinha@ufra.edu.br</a>'],\n",
       "             '71': ['oa'],\n",
       "             '72': ['29'],\n",
       "             '83': ['^lpt^aEste trabalho apresenta uma estimativa da biomassa seca (BS) acima do solo e estoque de carbono (EC) de sistemas agroflorestais (SAF) estudados nas várzeas do rio Juba, Cametá, Pará. A BS foi estimada pelo método indireto a partir dos dados de um inventário florestal realizado em sete parcelas de 0,25 ha (50 m x 50 m). Foram inventariados em média 2594 indivíduos/ha com DAP >5 cm. Euterpe oleracea Mart.(açaí) e Theobroma cacao L. (cacau), foram as espécies mais importantes e representaram 80 % dos indivíduos (54 % e 26 %, respectivamente) e as outras espécies (árvores) 20 %. Em média a BS dos SAF foi de 298,44 t/ha. O açaí apresentou BS de 4,47 t/ha (43 % nas folhas e 57 % nos estipes), o cacau 1,45 t/ha (18 % nas folhas e 82 % na madeira) e as árvores 292,52 t/ha (1 % nas folhas e 99 % na madeira). O EC contido na BS total média foi de 134,30 t/ha; as árvores estocaram 131,63 t/ha (98 %), o açaí 2,01 t/ha (1,5 %) e o cacau 0,65 t/ha (0,5 %). O EC médio dos SAF estudados (idade média de 12 anos) representou, em média, cerca de 96 % do carbono que é estocado numa floresta primária de terra firme; cerca de 62 % a mais do estocado em florestas secundárias enriquecidas (idade média de 26 meses) e 23 % a mais do estocado em florestas de várzeas na Amazônia brasileira.',\n",
       "              '^len^aThis work presents an estimation of dry biomass (BS) above ground and stock of carbon (EC) agroforestry systems (SAF), studied in the floodplains of the river Juba in Cametá, Pará. The BS was estimated by the indirect method from the data of a forest inventory carried out in seven plots of 0.25 ha (50 m x 50 m). They were surveyed on average 2594 individuals/ha with DBH >5 cm. Euterpe oleracea Mart.(açaí) and Theobroma cacao L. (cacao), were the most important species and represented 80 % of the individuals (54 % and 26 %, respectively) and the others species (trees) 20 %. On average the BS of the SAF was of 298.44 t/ha. Açaí presented BS of 4.47 t/ha (43 % in leaves and 57 % in stems), cacao 1.45 t/ha (18 % in leaves and 82 % in wood) and the trees 292.52 t/ha (1 % in leaves and 99 % in wood). The EC contained in the BS average total was 134.30 t/ha; the trees had about 131.63 t/ha (98 %), açaí 2.01 t/ha (1.5 %) and cacao 0.65 t/ha (0.5 %). The EC average of SAF studied (average age of 12 years) represented, on average, about of 96 % of carbon that is storaged in a primary forest, about of 62 % more than of storaged in enriched secundary forest (average age of 26 month) and 23 % more than of storaged in forest of floodplains in brasilian Amazonia.'],\n",
       "             '85': ['^dnd^i1',\n",
       "              '^tm^lpt^kSistemas agroflorestais^i1',\n",
       "              '^tm^lpt^kbiomassa^i1',\n",
       "              '^tm^lpt^kcarbono^i1',\n",
       "              '^tm^lpt^kvárzeas^i1',\n",
       "              '^tm^lpt^kAmazônia^i1',\n",
       "              '^dnd^i2',\n",
       "              '^tm^len^kAgroforestry systems^i2',\n",
       "              '^tm^len^kbiomass^i2',\n",
       "              '^tm^len^kcarbon^i2',\n",
       "              '^tm^len^kfloodplains^i2',\n",
       "              '^tm^len^kAmazonia^i2'],\n",
       "             '111': ['07/02/2003'],\n",
       "             '112': ['20030207'],\n",
       "             '113': ['17/12/2003'],\n",
       "             '114': ['20031217'],\n",
       "             '117': ['other'],\n",
       "             '120': ['3.1'],\n",
       "             '121': ['01'],\n",
       "             '158': ['nd'],\n",
       "             '700': ['2'],\n",
       "             '701': ['1'],\n",
       "             '702': ['C:\\\\SciELO\\\\Serial\\\\aa\\\\v34n1\\\\markup\\\\v34n1a01.html'],\n",
       "             '705': ['S'],\n",
       "             '706': ['h'],\n",
       "             '708': ['1'],\n",
       "             '709': ['article'],\n",
       "             '880': ['S0044-59672004000100001'],\n",
       "             '882': ['^v34^n1'],\n",
       "             '936': ['^i0044-5967^y2004^o1']})"
      ]
     },
     "execution_count": 6,
     "metadata": {},
     "output_type": "execute_result"
    }
   ],
   "source": [
    "scl1, = take(1, filter_headers(iso.iter_records(iso_file_names_map[\"scl\"])))\n",
    "scl1"
   ]
  },
  {
   "cell_type": "markdown",
   "metadata": {},
   "source": [
    "It's a dictionary of lists of strings,\n",
    "in the `{field_id: [field, field, field, ...]}` format.\n",
    "Each field string have multiple subfields,\n",
    "where each subfield starts with a `^` symbol\n",
    "and its single-char identifier.\n",
    "This regular expression converts a field string\n",
    "to a list of subfield pairs\n",
    "(similar to the format type 2 of\n",
    "[isis2json](https://github.com/scieloorg/isis2json)):"
   ]
  },
  {
   "cell_type": "code",
   "execution_count": 7,
   "metadata": {},
   "outputs": [],
   "source": [
    "get_all_subfields_pairs = re.compile(r\"(?:^|\\^(.))([^^]*)\").findall"
   ]
  },
  {
   "cell_type": "markdown",
   "metadata": {},
   "source": [
    "What matters most for us\n",
    "is a way to get the pairs of affiliation and contributors\n",
    "with their data in a \"first normal form\" sense joined together,\n",
    "keeping the affiliation data even if it has no linked contributor.\n",
    "We can get a dataframe like that with Pandas:"
   ]
  },
  {
   "cell_type": "code",
   "execution_count": 8,
   "metadata": {},
   "outputs": [],
   "source": [
    "def field_df(record, field_id):\n",
    "    return pd.DataFrame([\n",
    "        {k: v for k, v in get_all_subfields_pairs(field) if v}\n",
    "        for field in record[field_id]\n",
    "    ]).rename(columns=lambda name: field_id + (name or \"_\"))"
   ]
  },
  {
   "cell_type": "code",
   "execution_count": 9,
   "metadata": {},
   "outputs": [
    {
     "data": {
      "text/html": [
       "<div>\n",
       "<style scoped>\n",
       "    .dataframe tbody tr th:only-of-type {\n",
       "        vertical-align: middle;\n",
       "    }\n",
       "\n",
       "    .dataframe tbody tr th {\n",
       "        vertical-align: top;\n",
       "    }\n",
       "\n",
       "    .dataframe thead th {\n",
       "        text-align: right;\n",
       "    }\n",
       "</style>\n",
       "<table border=\"1\" class=\"dataframe\">\n",
       "  <thead>\n",
       "    <tr style=\"text-align: right;\">\n",
       "      <th></th>\n",
       "      <th>70_</th>\n",
       "      <th>70i</th>\n",
       "      <th>70c</th>\n",
       "      <th>70s</th>\n",
       "      <th>70p</th>\n",
       "      <th>70e</th>\n",
       "    </tr>\n",
       "  </thead>\n",
       "  <tbody>\n",
       "    <tr>\n",
       "      <th>0</th>\n",
       "      <td>Universidade Federal Rural da Amazônia-UFRA</td>\n",
       "      <td>A01</td>\n",
       "      <td>Belém</td>\n",
       "      <td>PA</td>\n",
       "      <td>Brasil</td>\n",
       "      <td>&lt;a href=\"mailto:izildinha@ufra.edu.br\"&gt;izildin...</td>\n",
       "    </tr>\n",
       "  </tbody>\n",
       "</table>\n",
       "</div>"
      ],
      "text/plain": [
       "                                           70_  70i    70c 70s     70p  \\\n",
       "0  Universidade Federal Rural da Amazônia-UFRA  A01  Belém  PA  Brasil   \n",
       "\n",
       "                                                 70e  \n",
       "0  <a href=\"mailto:izildinha@ufra.edu.br\">izildin...  "
      ]
     },
     "execution_count": 9,
     "metadata": {},
     "output_type": "execute_result"
    }
   ],
   "source": [
    "scl1_affs = field_df(scl1, \"70\")\n",
    "scl1_affs"
   ]
  },
  {
   "cell_type": "code",
   "execution_count": 10,
   "metadata": {},
   "outputs": [
    {
     "data": {
      "text/html": [
       "<div>\n",
       "<style scoped>\n",
       "    .dataframe tbody tr th:only-of-type {\n",
       "        vertical-align: middle;\n",
       "    }\n",
       "\n",
       "    .dataframe tbody tr th {\n",
       "        vertical-align: top;\n",
       "    }\n",
       "\n",
       "    .dataframe thead th {\n",
       "        text-align: right;\n",
       "    }\n",
       "</style>\n",
       "<table border=\"1\" class=\"dataframe\">\n",
       "  <thead>\n",
       "    <tr style=\"text-align: right;\">\n",
       "      <th></th>\n",
       "      <th>10r</th>\n",
       "      <th>101</th>\n",
       "      <th>10n</th>\n",
       "      <th>10s</th>\n",
       "    </tr>\n",
       "  </thead>\n",
       "  <tbody>\n",
       "    <tr>\n",
       "      <th>0</th>\n",
       "      <td>ND</td>\n",
       "      <td>A01</td>\n",
       "      <td>Silvio Roberto Miranda dos</td>\n",
       "      <td>Santos</td>\n",
       "    </tr>\n",
       "    <tr>\n",
       "      <th>1</th>\n",
       "      <td>ND</td>\n",
       "      <td>A01</td>\n",
       "      <td>Izildinha de Souza</td>\n",
       "      <td>Miranda</td>\n",
       "    </tr>\n",
       "    <tr>\n",
       "      <th>2</th>\n",
       "      <td>ND</td>\n",
       "      <td>A01</td>\n",
       "      <td>Manoel Malheiros</td>\n",
       "      <td>Tourinho</td>\n",
       "    </tr>\n",
       "  </tbody>\n",
       "</table>\n",
       "</div>"
      ],
      "text/plain": [
       "  10r  101                         10n       10s\n",
       "0  ND  A01  Silvio Roberto Miranda dos    Santos\n",
       "1  ND  A01          Izildinha de Souza   Miranda\n",
       "2  ND  A01            Manoel Malheiros  Tourinho"
      ]
     },
     "execution_count": 10,
     "metadata": {},
     "output_type": "execute_result"
    }
   ],
   "source": [
    "scl1_contribs = field_df(scl1, \"10\")\n",
    "scl1_contribs"
   ]
  },
  {
   "cell_type": "code",
   "execution_count": 11,
   "metadata": {},
   "outputs": [
    {
     "data": {
      "text/html": [
       "<div>\n",
       "<style scoped>\n",
       "    .dataframe tbody tr th:only-of-type {\n",
       "        vertical-align: middle;\n",
       "    }\n",
       "\n",
       "    .dataframe tbody tr th {\n",
       "        vertical-align: top;\n",
       "    }\n",
       "\n",
       "    .dataframe thead th {\n",
       "        text-align: right;\n",
       "    }\n",
       "</style>\n",
       "<table border=\"1\" class=\"dataframe\">\n",
       "  <thead>\n",
       "    <tr style=\"text-align: right;\">\n",
       "      <th></th>\n",
       "      <th>70_</th>\n",
       "      <th>70i</th>\n",
       "      <th>70c</th>\n",
       "      <th>70s</th>\n",
       "      <th>70p</th>\n",
       "      <th>70e</th>\n",
       "      <th>10r</th>\n",
       "      <th>101</th>\n",
       "      <th>10n</th>\n",
       "      <th>10s</th>\n",
       "    </tr>\n",
       "  </thead>\n",
       "  <tbody>\n",
       "    <tr>\n",
       "      <th>0</th>\n",
       "      <td>Universidade Federal Rural da Amazônia-UFRA</td>\n",
       "      <td>A01</td>\n",
       "      <td>Belém</td>\n",
       "      <td>PA</td>\n",
       "      <td>Brasil</td>\n",
       "      <td>&lt;a href=\"mailto:izildinha@ufra.edu.br\"&gt;izildin...</td>\n",
       "      <td>ND</td>\n",
       "      <td>A01</td>\n",
       "      <td>Silvio Roberto Miranda dos</td>\n",
       "      <td>Santos</td>\n",
       "    </tr>\n",
       "    <tr>\n",
       "      <th>1</th>\n",
       "      <td>Universidade Federal Rural da Amazônia-UFRA</td>\n",
       "      <td>A01</td>\n",
       "      <td>Belém</td>\n",
       "      <td>PA</td>\n",
       "      <td>Brasil</td>\n",
       "      <td>&lt;a href=\"mailto:izildinha@ufra.edu.br\"&gt;izildin...</td>\n",
       "      <td>ND</td>\n",
       "      <td>A01</td>\n",
       "      <td>Izildinha de Souza</td>\n",
       "      <td>Miranda</td>\n",
       "    </tr>\n",
       "    <tr>\n",
       "      <th>2</th>\n",
       "      <td>Universidade Federal Rural da Amazônia-UFRA</td>\n",
       "      <td>A01</td>\n",
       "      <td>Belém</td>\n",
       "      <td>PA</td>\n",
       "      <td>Brasil</td>\n",
       "      <td>&lt;a href=\"mailto:izildinha@ufra.edu.br\"&gt;izildin...</td>\n",
       "      <td>ND</td>\n",
       "      <td>A01</td>\n",
       "      <td>Manoel Malheiros</td>\n",
       "      <td>Tourinho</td>\n",
       "    </tr>\n",
       "  </tbody>\n",
       "</table>\n",
       "</div>"
      ],
      "text/plain": [
       "                                           70_  70i    70c 70s     70p  \\\n",
       "0  Universidade Federal Rural da Amazônia-UFRA  A01  Belém  PA  Brasil   \n",
       "1  Universidade Federal Rural da Amazônia-UFRA  A01  Belém  PA  Brasil   \n",
       "2  Universidade Federal Rural da Amazônia-UFRA  A01  Belém  PA  Brasil   \n",
       "\n",
       "                                                 70e 10r  101  \\\n",
       "0  <a href=\"mailto:izildinha@ufra.edu.br\">izildin...  ND  A01   \n",
       "1  <a href=\"mailto:izildinha@ufra.edu.br\">izildin...  ND  A01   \n",
       "2  <a href=\"mailto:izildinha@ufra.edu.br\">izildin...  ND  A01   \n",
       "\n",
       "                          10n       10s  \n",
       "0  Silvio Roberto Miranda dos    Santos  \n",
       "1          Izildinha de Souza   Miranda  \n",
       "2            Manoel Malheiros  Tourinho  "
      ]
     },
     "execution_count": 11,
     "metadata": {},
     "output_type": "execute_result"
    }
   ],
   "source": [
    "scl1_aff_contrib_pairs = pd.merge(scl1_affs, scl1_contribs,\n",
    "                                  how=\"left\", left_on=\"70i\", right_on=\"101\")\n",
    "scl1_aff_contrib_pairs"
   ]
  },
  {
   "cell_type": "markdown",
   "metadata": {},
   "source": [
    "From the ISO data, we have less information\n",
    "than what we would get from the XML data,\n",
    "e.g. it doesn't have the citations, nor issue information,\n",
    "but we've got some other information, like the PID.\n",
    "We can \"join\" (in a cartesian product sense)\n",
    "the multiple values of some fields:"
   ]
  },
  {
   "cell_type": "code",
   "execution_count": 12,
   "metadata": {},
   "outputs": [],
   "source": [
    "def cartesian_df(*dfs, free_name=\"_empty\"):\n",
    "    return reduce(\n",
    "        pd.DataFrame.join,\n",
    "        [df.assign(**{free_name: 0}).set_index(free_name) for df in dfs],\n",
    "    ).reset_index(drop=True)"
   ]
  },
  {
   "cell_type": "code",
   "execution_count": 13,
   "metadata": {},
   "outputs": [
    {
     "data": {
      "text/html": [
       "<div>\n",
       "<style scoped>\n",
       "    .dataframe tbody tr th:only-of-type {\n",
       "        vertical-align: middle;\n",
       "    }\n",
       "\n",
       "    .dataframe tbody tr th {\n",
       "        vertical-align: top;\n",
       "    }\n",
       "\n",
       "    .dataframe thead th {\n",
       "        text-align: right;\n",
       "    }\n",
       "</style>\n",
       "<table border=\"1\" class=\"dataframe\">\n",
       "  <thead>\n",
       "    <tr style=\"text-align: right;\">\n",
       "      <th></th>\n",
       "      <th>2_</th>\n",
       "      <th>12_</th>\n",
       "      <th>12l</th>\n",
       "      <th>936i</th>\n",
       "      <th>936y</th>\n",
       "      <th>936o</th>\n",
       "    </tr>\n",
       "  </thead>\n",
       "  <tbody>\n",
       "    <tr>\n",
       "      <th>0</th>\n",
       "      <td>S0044-5967(04)03400101</td>\n",
       "      <td>Estimativa de biomassa de sistemas agroflorest...</td>\n",
       "      <td>pt</td>\n",
       "      <td>0044-5967</td>\n",
       "      <td>2004</td>\n",
       "      <td>1</td>\n",
       "    </tr>\n",
       "    <tr>\n",
       "      <th>1</th>\n",
       "      <td>S0044-5967(04)03400101</td>\n",
       "      <td>Biomass estimation of agroforestry systems of ...</td>\n",
       "      <td>en</td>\n",
       "      <td>0044-5967</td>\n",
       "      <td>2004</td>\n",
       "      <td>1</td>\n",
       "    </tr>\n",
       "  </tbody>\n",
       "</table>\n",
       "</div>"
      ],
      "text/plain": [
       "                       2_                                                12_  \\\n",
       "0  S0044-5967(04)03400101  Estimativa de biomassa de sistemas agroflorest...   \n",
       "1  S0044-5967(04)03400101  Biomass estimation of agroforestry systems of ...   \n",
       "\n",
       "  12l       936i  936y 936o  \n",
       "0  pt  0044-5967  2004    1  \n",
       "1  en  0044-5967  2004    1  "
      ]
     },
     "execution_count": 13,
     "metadata": {},
     "output_type": "execute_result"
    }
   ],
   "source": [
    "scl1_other = cartesian_df(field_df(scl1, \"2\"), field_df(scl1, \"12\"), field_df(scl1, \"936\"))\n",
    "scl1_other"
   ]
  },
  {
   "cell_type": "markdown",
   "metadata": {},
   "source": [
    "That article has a title in more than one language.\n",
    "We can use the cartesian product again to join these rows\n",
    "with the affiliation-contributor pairs\n",
    "in order to get a dataframe from a single ISO record,\n",
    "and we can also replace these field/subfield IDs\n",
    "by some meaningful names:"
   ]
  },
  {
   "cell_type": "code",
   "execution_count": 14,
   "metadata": {},
   "outputs": [],
   "source": [
    "COLUMN_NAMES = {\n",
    "    \"70_\": \"orgname\",\n",
    "    \"701\": \"orgdiv1\",\n",
    "    \"702\": \"orgdiv2\",\n",
    "    \"703\": \"orgdiv3\",\n",
    "    \"704\": \"normalized\",\n",
    "    \"708\": \"c8\",\n",
    "    \"709\": \"original\",\n",
    "    \"70e\": \"email\",\n",
    "    \"70c\": \"city\",\n",
    "    \"70d\": \"division\",\n",
    "    \"70s\": \"state\",\n",
    "    \"70p\": \"country\",\n",
    "    \"70q\": \"country_full\",\n",
    "    \"70z\": \"zip\",\n",
    "    \"70i\": \"affid\",\n",
    "    \"70l\": \"label\",\n",
    "    \"101\": \"affid\",\n",
    "    \"10s\": \"surname\",\n",
    "    \"10n\": \"names\",\n",
    "    \"10p\": \"prefix\",\n",
    "    \"10z\": \"suffix\",\n",
    "    \"10r\": \"role\",\n",
    "    \"10k\": \"orcid\",\n",
    "    \"2_\": \"pid\",\n",
    "    \"12_\": \"title\",\n",
    "    \"12l\": \"title_lang\",\n",
    "    \"936i\": \"issn\",\n",
    "    \"936y\": \"year\",\n",
    "    \"936o\": \"number\",\n",
    "}"
   ]
  },
  {
   "cell_type": "code",
   "execution_count": 15,
   "metadata": {},
   "outputs": [],
   "source": [
    "def record2df(record):\n",
    "    field_dfs = {field_id: field_df(record, field_id)\n",
    "                 for field_id in [\"70\", \"10\", \"2\", \"12\", \"936\"]}\n",
    "    return cartesian_df(\n",
    "        pd.merge(field_dfs.pop(\"70\"), field_dfs.pop(\"10\"),\n",
    "                 how=\"left\", left_on=\"70i\", right_on=\"101\"),\n",
    "        *field_dfs.values(),\n",
    "    ).rename(columns=COLUMN_NAMES)"
   ]
  },
  {
   "cell_type": "code",
   "execution_count": 16,
   "metadata": {},
   "outputs": [
    {
     "data": {
      "text/html": [
       "<div>\n",
       "<style scoped>\n",
       "    .dataframe tbody tr th:only-of-type {\n",
       "        vertical-align: middle;\n",
       "    }\n",
       "\n",
       "    .dataframe tbody tr th {\n",
       "        vertical-align: top;\n",
       "    }\n",
       "\n",
       "    .dataframe thead th {\n",
       "        text-align: right;\n",
       "    }\n",
       "</style>\n",
       "<table border=\"1\" class=\"dataframe\">\n",
       "  <thead>\n",
       "    <tr style=\"text-align: right;\">\n",
       "      <th></th>\n",
       "      <th>orgname</th>\n",
       "      <th>affid</th>\n",
       "      <th>city</th>\n",
       "      <th>state</th>\n",
       "      <th>country</th>\n",
       "      <th>role</th>\n",
       "      <th>affid</th>\n",
       "      <th>names</th>\n",
       "      <th>surname</th>\n",
       "      <th>pid</th>\n",
       "      <th>title</th>\n",
       "      <th>title_lang</th>\n",
       "      <th>issn</th>\n",
       "      <th>year</th>\n",
       "      <th>number</th>\n",
       "    </tr>\n",
       "  </thead>\n",
       "  <tbody>\n",
       "    <tr>\n",
       "      <th>0</th>\n",
       "      <td>Universidade Federal Rural da Amazônia-UFRA</td>\n",
       "      <td>A01</td>\n",
       "      <td>Belém</td>\n",
       "      <td>PA</td>\n",
       "      <td>Brasil</td>\n",
       "      <td>ND</td>\n",
       "      <td>A01</td>\n",
       "      <td>Silvio Roberto Miranda dos</td>\n",
       "      <td>Santos</td>\n",
       "      <td>S0044-5967(04)03400101</td>\n",
       "      <td>Estimativa de biomassa de sistemas agroflorest...</td>\n",
       "      <td>pt</td>\n",
       "      <td>0044-5967</td>\n",
       "      <td>2004</td>\n",
       "      <td>1</td>\n",
       "    </tr>\n",
       "    <tr>\n",
       "      <th>1</th>\n",
       "      <td>Universidade Federal Rural da Amazônia-UFRA</td>\n",
       "      <td>A01</td>\n",
       "      <td>Belém</td>\n",
       "      <td>PA</td>\n",
       "      <td>Brasil</td>\n",
       "      <td>ND</td>\n",
       "      <td>A01</td>\n",
       "      <td>Silvio Roberto Miranda dos</td>\n",
       "      <td>Santos</td>\n",
       "      <td>S0044-5967(04)03400101</td>\n",
       "      <td>Biomass estimation of agroforestry systems of ...</td>\n",
       "      <td>en</td>\n",
       "      <td>0044-5967</td>\n",
       "      <td>2004</td>\n",
       "      <td>1</td>\n",
       "    </tr>\n",
       "    <tr>\n",
       "      <th>2</th>\n",
       "      <td>Universidade Federal Rural da Amazônia-UFRA</td>\n",
       "      <td>A01</td>\n",
       "      <td>Belém</td>\n",
       "      <td>PA</td>\n",
       "      <td>Brasil</td>\n",
       "      <td>ND</td>\n",
       "      <td>A01</td>\n",
       "      <td>Izildinha de Souza</td>\n",
       "      <td>Miranda</td>\n",
       "      <td>S0044-5967(04)03400101</td>\n",
       "      <td>Estimativa de biomassa de sistemas agroflorest...</td>\n",
       "      <td>pt</td>\n",
       "      <td>0044-5967</td>\n",
       "      <td>2004</td>\n",
       "      <td>1</td>\n",
       "    </tr>\n",
       "    <tr>\n",
       "      <th>3</th>\n",
       "      <td>Universidade Federal Rural da Amazônia-UFRA</td>\n",
       "      <td>A01</td>\n",
       "      <td>Belém</td>\n",
       "      <td>PA</td>\n",
       "      <td>Brasil</td>\n",
       "      <td>ND</td>\n",
       "      <td>A01</td>\n",
       "      <td>Izildinha de Souza</td>\n",
       "      <td>Miranda</td>\n",
       "      <td>S0044-5967(04)03400101</td>\n",
       "      <td>Biomass estimation of agroforestry systems of ...</td>\n",
       "      <td>en</td>\n",
       "      <td>0044-5967</td>\n",
       "      <td>2004</td>\n",
       "      <td>1</td>\n",
       "    </tr>\n",
       "    <tr>\n",
       "      <th>4</th>\n",
       "      <td>Universidade Federal Rural da Amazônia-UFRA</td>\n",
       "      <td>A01</td>\n",
       "      <td>Belém</td>\n",
       "      <td>PA</td>\n",
       "      <td>Brasil</td>\n",
       "      <td>ND</td>\n",
       "      <td>A01</td>\n",
       "      <td>Manoel Malheiros</td>\n",
       "      <td>Tourinho</td>\n",
       "      <td>S0044-5967(04)03400101</td>\n",
       "      <td>Estimativa de biomassa de sistemas agroflorest...</td>\n",
       "      <td>pt</td>\n",
       "      <td>0044-5967</td>\n",
       "      <td>2004</td>\n",
       "      <td>1</td>\n",
       "    </tr>\n",
       "    <tr>\n",
       "      <th>5</th>\n",
       "      <td>Universidade Federal Rural da Amazônia-UFRA</td>\n",
       "      <td>A01</td>\n",
       "      <td>Belém</td>\n",
       "      <td>PA</td>\n",
       "      <td>Brasil</td>\n",
       "      <td>ND</td>\n",
       "      <td>A01</td>\n",
       "      <td>Manoel Malheiros</td>\n",
       "      <td>Tourinho</td>\n",
       "      <td>S0044-5967(04)03400101</td>\n",
       "      <td>Biomass estimation of agroforestry systems of ...</td>\n",
       "      <td>en</td>\n",
       "      <td>0044-5967</td>\n",
       "      <td>2004</td>\n",
       "      <td>1</td>\n",
       "    </tr>\n",
       "  </tbody>\n",
       "</table>\n",
       "</div>"
      ],
      "text/plain": [
       "                                       orgname affid   city state country  \\\n",
       "0  Universidade Federal Rural da Amazônia-UFRA   A01  Belém    PA  Brasil   \n",
       "1  Universidade Federal Rural da Amazônia-UFRA   A01  Belém    PA  Brasil   \n",
       "2  Universidade Federal Rural da Amazônia-UFRA   A01  Belém    PA  Brasil   \n",
       "3  Universidade Federal Rural da Amazônia-UFRA   A01  Belém    PA  Brasil   \n",
       "4  Universidade Federal Rural da Amazônia-UFRA   A01  Belém    PA  Brasil   \n",
       "5  Universidade Federal Rural da Amazônia-UFRA   A01  Belém    PA  Brasil   \n",
       "\n",
       "  role affid                       names   surname                     pid  \\\n",
       "0   ND   A01  Silvio Roberto Miranda dos    Santos  S0044-5967(04)03400101   \n",
       "1   ND   A01  Silvio Roberto Miranda dos    Santos  S0044-5967(04)03400101   \n",
       "2   ND   A01          Izildinha de Souza   Miranda  S0044-5967(04)03400101   \n",
       "3   ND   A01          Izildinha de Souza   Miranda  S0044-5967(04)03400101   \n",
       "4   ND   A01            Manoel Malheiros  Tourinho  S0044-5967(04)03400101   \n",
       "5   ND   A01            Manoel Malheiros  Tourinho  S0044-5967(04)03400101   \n",
       "\n",
       "                                               title title_lang       issn  \\\n",
       "0  Estimativa de biomassa de sistemas agroflorest...         pt  0044-5967   \n",
       "1  Biomass estimation of agroforestry systems of ...         en  0044-5967   \n",
       "2  Estimativa de biomassa de sistemas agroflorest...         pt  0044-5967   \n",
       "3  Biomass estimation of agroforestry systems of ...         en  0044-5967   \n",
       "4  Estimativa de biomassa de sistemas agroflorest...         pt  0044-5967   \n",
       "5  Biomass estimation of agroforestry systems of ...         en  0044-5967   \n",
       "\n",
       "   year number  \n",
       "0  2004      1  \n",
       "1  2004      1  \n",
       "2  2004      1  \n",
       "3  2004      1  \n",
       "4  2004      1  \n",
       "5  2004      1  "
      ]
     },
     "execution_count": 16,
     "metadata": {},
     "output_type": "execute_result"
    }
   ],
   "source": [
    "record2df(scl1).drop(columns=[\"email\"])"
   ]
  }
 ],
 "metadata": {
  "kernelspec": {
   "display_name": "Python 3",
   "language": "python",
   "name": "python3"
  },
  "language_info": {
   "codemirror_mode": {
    "name": "ipython",
    "version": 3
   },
   "file_extension": ".py",
   "mimetype": "text/x-python",
   "name": "python",
   "nbconvert_exporter": "python",
   "pygments_lexer": "ipython3",
   "version": "3.7.4"
  }
 },
 "nbformat": 4,
 "nbformat_minor": 2
}
