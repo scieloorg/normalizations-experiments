{
 "cells": [
  {
   "cell_type": "markdown",
   "metadata": {},
   "source": [
    "# Example of how to use the trained model based on Word2Vec"
   ]
  },
  {
   "cell_type": "markdown",
   "metadata": {},
   "source": [
    "Trained files to download:\n",
    "\n",
    "* [dictionary_w2v_both.dump](https://drive.google.com/open?id=1z4vAm2m3ANp48b2XnRtSlNDM2Gp4vrMX)\n",
    "* [rf_w2v_200.dump](https://drive.google.com/open?id=1EEI-sY-nprjzQ1yyS11F_fhocAKzRpIt)\n",
    "* [rf_w2v_1000.dump](https://drive.google.com/open?id=1_HeYOyjPlM6s1taoXSpG48XjIWd6A921)"
   ]
  },
  {
   "cell_type": "markdown",
   "metadata": {},
   "source": [
    "This is an example of the based on `word2vec`.\n",
    "No neural network is required,\n",
    "the actual model is an already trained random forest\n",
    "applied on a document vector that can be obtained\n",
    "by simply multiplying a bag of words vector\n",
    "and the matrix of eigenvectors,\n",
    "stored in the \"`u`\" attribute in the model object."
   ]
  },
  {
   "cell_type": "code",
   "execution_count": 1,
   "metadata": {},
   "outputs": [
    {
     "name": "stdout",
     "output_type": "stream",
     "text": [
      "CPU times: user 2.09 s, sys: 1.84 s, total: 3.93 s\n",
      "Wall time: 11.3 s\n"
     ]
    }
   ],
   "source": [
    "%%time\n",
    "import re\n",
    "from unidecode import unidecode\n",
    "\n",
    "from gensim.matutils import corpus2csc\n",
    "from joblib import load\n",
    "import pandas as pd\n",
    "\n",
    "TEXT_ONLY_REGEX = re.compile(\"[^a-zA-Z ]\")\n",
    "\n",
    "def pre_normalize(name):\n",
    "    return TEXT_ONLY_REGEX.sub(\"\", unidecode(name).lower())\n",
    "\n",
    "dictionary = load(\"dictionary_w2v_both.dump\")\n",
    "rf_model = load(\"rf_w2v_200.dump\")\n",
    "\n",
    "def predict(msg):\n",
    "    return rf_model.predict(\n",
    "        corpus2csc([\n",
    "            dictionary.doc2bow(pre_normalize(msg).split())\n",
    "        ], num_terms=len(dictionary)).T @ rf_model.u\n",
    "    )[0]\n",
    "\n",
    "def predict_proba(msg):\n",
    "    result = rf_model.predict_proba(\n",
    "        corpus2csc([\n",
    "            dictionary.doc2bow(pre_normalize(msg).split())\n",
    "        ], num_terms=len(dictionary)).T @ rf_model.u\n",
    "    )\n",
    "    result_series = pd.Series(result.ravel(), index=rf_model.classes_)\n",
    "    return result_series[result_series > 0].sort_values(ascending=False)"
   ]
  },
  {
   "cell_type": "markdown",
   "metadata": {},
   "source": [
    "This is the example that appeared in the training notebook."
   ]
  },
  {
   "cell_type": "code",
   "execution_count": 2,
   "metadata": {},
   "outputs": [],
   "source": [
    "spain_example = (\n",
    "    \"Cádiz \"\n",
    "    \"2 Universidad de Cádiz Facultad de Ciencias del Mar y Ambientales \"\n",
    "        \"Departamento de Química-Física Cádiz \"\n",
    "        \"Departamento de Química-Física, \"\n",
    "        \"Facultad de Ciencias del Mar y Ambientales, \"\n",
    "        \"Universidad de Cádiz, \"\n",
    "        \"UNESCO/UNITWIN WiCoP, \"\n",
    "        \"Campus de Excelencia International del Mar (CEIMAR). \"\n",
    "        \"(Polígono Río San Pedro s/n, Puerto Real 11510) \"\n",
    "        \"Universidad de Cádiz \"\n",
    "    \"Metals impact into the Paranaguá Estuarine Complex (Brazil) \"\n",
    "        \"during the exceptional flood of 2011 \"\n",
    "    \"Rocha Marilia Lopes da \"\n",
    "    \"Rocha \"\n",
    "    \"Facultad de Ciencias del Mar y Ambientales \"\n",
    "    \"Departamento de Química-Física \"\n",
    "    \"Universidad de Cádiz \"\n",
    "    \"Universidad de Cádiz \"\n",
    "    \"Departamento de Química-Física, \"\n",
    "        \"Facultad de Ciencias del Mar y Ambientales, \"\n",
    "        \"Universidad de Cádiz, \"\n",
    "        \"UNESCO/UNITWIN WiCoP, \"\n",
    "        \"Campus de Excelencia International del Mar (CEIMAR). \"\n",
    "        \"(Polígono Río San Pedro s/n, Puerto Real 11510, Cádiz, ) \"\n",
    "    \"Universidad de Cádiz \"\n",
    "    \"Brazilian Journal of Oceanography \"\n",
    "    \"Universidade de São Paulo, Instituto Oceanográfico\"\n",
    ")"
   ]
  },
  {
   "cell_type": "code",
   "execution_count": 3,
   "metadata": {},
   "outputs": [
    {
     "name": "stdout",
     "output_type": "stream",
     "text": [
      "CPU times: user 34.6 ms, sys: 24.1 ms, total: 58.7 ms\n",
      "Wall time: 66.1 ms\n"
     ]
    },
    {
     "data": {
      "text/plain": [
       "'ES'"
      ]
     },
     "execution_count": 3,
     "metadata": {},
     "output_type": "execute_result"
    }
   ],
   "source": [
    "%%time\n",
    "predict(spain_example)"
   ]
  },
  {
   "cell_type": "markdown",
   "metadata": {},
   "source": [
    "Using the `predict_proba` function one can see the probabilities."
   ]
  },
  {
   "cell_type": "code",
   "execution_count": 4,
   "metadata": {},
   "outputs": [
    {
     "name": "stdout",
     "output_type": "stream",
     "text": [
      "CPU times: user 71.7 ms, sys: 1.36 ms, total: 73.1 ms\n",
      "Wall time: 82.9 ms\n"
     ]
    },
    {
     "data": {
      "text/plain": [
       "ES    0.522222\n",
       "CO    0.111111\n",
       "BR    0.100000\n",
       "CL    0.066667\n",
       "PE    0.055556\n",
       "MX    0.033333\n",
       "EC    0.022222\n",
       "VE    0.011111\n",
       "UY    0.011111\n",
       "NI    0.011111\n",
       "FR    0.011111\n",
       "CU    0.011111\n",
       "CR    0.011111\n",
       "BO    0.011111\n",
       "AR    0.011111\n",
       "dtype: float64"
      ]
     },
     "execution_count": 4,
     "metadata": {},
     "output_type": "execute_result"
    }
   ],
   "source": [
    "%%time\n",
    "predict_proba(spain_example)"
   ]
  },
  {
   "cell_type": "markdown",
   "metadata": {},
   "source": [
    "The same for another example,\n",
    "an Italy example coming from the 2018-06-04 Clea's CSV output,\n",
    "but with the country name removed from the message contents."
   ]
  },
  {
   "cell_type": "code",
   "execution_count": 5,
   "metadata": {},
   "outputs": [
    {
     "name": "stdout",
     "output_type": "stream",
     "text": [
      "CPU times: user 60 ms, sys: 16.5 ms, total: 76.5 ms\n",
      "Wall time: 75.1 ms\n"
     ]
    },
    {
     "data": {
      "text/plain": [
       "IT    0.633333\n",
       "BR    0.122222\n",
       "US    0.088889\n",
       "GB    0.055556\n",
       "TR    0.011111\n",
       "TH    0.011111\n",
       "RU    0.011111\n",
       "MX    0.011111\n",
       "FR    0.011111\n",
       "CZ    0.011111\n",
       "CN    0.011111\n",
       "BE    0.011111\n",
       "AU    0.011111\n",
       "dtype: float64"
      ]
     },
     "execution_count": 5,
     "metadata": {},
     "output_type": "execute_result"
    }
   ],
   "source": [
    "%%time\n",
    "predict_proba(\n",
    "    \"Pontedera \"\n",
    "    \"Workcenter of Jerzy Grotowski and Thomas Richards - Pontedera, \"\n",
    "    \" Workcenter of Jerzy Grotowski and Thomas Richards Pontedera  \"\n",
    "    \"Sobre The Living Room \"\n",
    "    \"Thomas,Richards Thomas, \"\n",
    "    \"Richards, \"\n",
    "    \"Workcenter of Jerzy Grotowski and Thomas Richards, \"\n",
    "    \"Workcenter of Jerzy Grotowski and Thomas Richards \"\n",
    "    \"Pontedera,  \"\n",
    "    \"Revista Brasileira de Estudos da Presença \"\n",
    "    \"Universidade Federal do Rio Grande do Sul \"\n",
    ")"
   ]
  },
  {
   "cell_type": "markdown",
   "metadata": {},
   "source": [
    "Remind the message contents should include (in any order):\n",
    "\n",
    "- Affiliation city and state\n",
    "- Raw affiliation text coming from the XML\n",
    "- Document title\n",
    "- Contributor mini-bio, prefix, name and surname\n",
    "- Institution name (3x), division, subdivision\n",
    "- Journal title\n",
    "- Publisher name\n",
    "\n",
    "For a single author-affiliation pair in a document."
   ]
  }
 ],
 "metadata": {
  "kernelspec": {
   "display_name": "Python 3",
   "language": "python",
   "name": "python3"
  },
  "language_info": {
   "codemirror_mode": {
    "name": "ipython",
    "version": 3
   },
   "file_extension": ".py",
   "mimetype": "text/x-python",
   "name": "python",
   "nbconvert_exporter": "python",
   "pygments_lexer": "ipython3",
   "version": "3.7.2"
  }
 },
 "nbformat": 4,
 "nbformat_minor": 2
}
