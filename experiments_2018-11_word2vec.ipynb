{
 "cells": [
  {
   "cell_type": "markdown",
   "metadata": {},
   "source": [
    "# A word2vec approach with `gensim`"
   ]
  },
  {
   "cell_type": "markdown",
   "metadata": {},
   "source": [
    "*(To run this notebook in a deterministic way,\n",
    "  enforce this environment variable: `PYTHONHASHSEED=12`)*"
   ]
  },
  {
   "cell_type": "markdown",
   "metadata": {},
   "source": [
    "What's `word2vec`?\n",
    "Roughly speaking, it's a shallow neural network model\n",
    "that can be trained to create a word embedding for NLP.\n",
    "There are two architectures:\n",
    "\n",
    "* Continuous BoW (Bag of Words),\n",
    "  this one tries to predict a word given the context;\n",
    "* Continuous skip-gram,\n",
    "  this one tries to predict the context from a given word."
   ]
  },
  {
   "cell_type": "markdown",
   "metadata": {},
   "source": [
    "Here we'll use `gensim` again, it's an open source library\n",
    "that was created as part of the\n",
    "[Radim Řehůřek's Ph.D. Thesis](\n",
    "  https://radimrehurek.com/phd_rehurek.pdf\n",
    "), *Scalability of semantic analysis\n",
    "    in natural language processing*, 2011.\n",
    "His thesis is mainly towards LSA (Latent Semantic Analysis),\n",
    "and LDA (Latent Dirichlet Allocation).\n",
    "However, `word2vec` was published after that,\n",
    "by Tomas Mikolov, Kai Chen, Greg Corrado and Jeffrey Dean\n",
    "(a team of Google researchers),\n",
    "in the *Efficient Estimation of\n",
    "        Word Representations in Vector Space*, 2013\n",
    "\\[[PDF](https://arxiv.org/pdf/1301.3781.pdf),\n",
    "  [C++ code](https://code.google.com/archive/p/word2vec/)\\].\n",
    "Radim Řehůřek himself added `word2vec` to his `gensim` library,\n",
    "and published a [short tutorial for it](\n",
    "  https://rare-technologies.com/word2vec-tutorial/\n",
    ")."
   ]
  },
  {
   "cell_type": "markdown",
   "metadata": {},
   "source": [
    "## Wikipedia trigram model"
   ]
  },
  {
   "cell_type": "markdown",
   "metadata": {},
   "source": [
    "For a first try of `word2vec` in \\[Brazilian\\] Portuguese,\n",
    "one can see the Felipe Parpinelli's\n",
    "[word2vec-pt-br](https://github.com/felipeparpinelli/)\n",
    "repository (unfortunately, only available for Python 2).\n",
    "However, [he trained a trigram vector model and published it](\n",
    "  https://drive.google.com/file/d/0B_eXEo_eUPCDWnJ0YWtUdW1kVFk/view\n",
    "),\n",
    "so we can directly use here in Python 3.7 with `gensim`.\n",
    "The model is a 2GB file whose SHA256 is\n",
    "`5421465d49a5f709f81cec3607c64b1e6a0724fdce94f9d507a48fe07f95d098`."
   ]
  },
  {
   "cell_type": "code",
   "execution_count": 1,
   "metadata": {},
   "outputs": [],
   "source": [
    "from gensim.models import KeyedVectors\n",
    "import numpy as np\n",
    "import pandas as pd"
   ]
  },
  {
   "cell_type": "code",
   "execution_count": 2,
   "metadata": {},
   "outputs": [],
   "source": [
    "wiki_model = KeyedVectors.load_word2vec_format(\"wiki.pt.trigram.vector\", binary=True)"
   ]
  },
  {
   "cell_type": "markdown",
   "metadata": {},
   "source": [
    "It has a vocabulary of more than one million words and expressions,\n",
    "all in lower case, with underscores as separators:"
   ]
  },
  {
   "cell_type": "code",
   "execution_count": 3,
   "metadata": {},
   "outputs": [
    {
     "data": {
      "text/plain": [
       "1264918"
      ]
     },
     "execution_count": 3,
     "metadata": {},
     "output_type": "execute_result"
    }
   ],
   "source": [
    "len(wiki_model.vocab)"
   ]
  },
  {
   "cell_type": "markdown",
   "metadata": {},
   "source": [
    "### Word similarity and \"maths with words\""
   ]
  },
  {
   "cell_type": "markdown",
   "metadata": {},
   "source": [
    "As of today, in the cited repository,\n",
    "Parpinelli is only using two model methods:\n",
    "`most_similar` and `doesnt_match`.\n",
    "The first one can be used to find similar words,\n",
    "with a similarity measurement\n",
    "ranging from $0$ to $1$.\n",
    "This example shows the name of cities\n",
    "in the São Paulo state, Brazil,\n",
    "given the name of one city:"
   ]
  },
  {
   "cell_type": "code",
   "execution_count": 4,
   "metadata": {},
   "outputs": [
    {
     "name": "stderr",
     "output_type": "stream",
     "text": [
      "/usr/lib/python3.7/site-packages/gensim/matutils.py:737: FutureWarning: Conversion of the second argument of issubdtype from `int` to `np.signedinteger` is deprecated. In future, it will be treated as `np.int64 == np.dtype(int).type`.\n",
      "  if np.issubdtype(vec.dtype, np.int):\n"
     ]
    },
    {
     "data": {
      "text/plain": [
       "[('ribeirão_preto', 0.7867798805236816),\n",
       " ('sorocaba', 0.7684873342514038),\n",
       " ('jundiaí', 0.7378007173538208),\n",
       " ('araraquara', 0.7296241521835327),\n",
       " ('são_paulo', 0.7239118814468384),\n",
       " ('guarulhos', 0.7190227508544922),\n",
       " ('bauru', 0.708629310131073),\n",
       " ('botucatu', 0.6960499882698059),\n",
       " ('taubaté', 0.6935198307037354),\n",
       " ('mogi_das_cruzes', 0.6845329403877258)]"
      ]
     },
     "execution_count": 4,
     "metadata": {},
     "output_type": "execute_result"
    }
   ],
   "source": [
    "wiki_model.most_similar(\"campinas\")"
   ]
  },
  {
   "cell_type": "markdown",
   "metadata": {},
   "source": [
    "These are the words\n",
    "that have the highest similarity with `campinas`.\n",
    "Such list of tuples can be easily converted\n",
    "to a Pandas dataframe:"
   ]
  },
  {
   "cell_type": "code",
   "execution_count": 5,
   "metadata": {},
   "outputs": [
    {
     "data": {
      "text/html": [
       "<div>\n",
       "<style scoped>\n",
       "    .dataframe tbody tr th:only-of-type {\n",
       "        vertical-align: middle;\n",
       "    }\n",
       "\n",
       "    .dataframe tbody tr th {\n",
       "        vertical-align: top;\n",
       "    }\n",
       "\n",
       "    .dataframe thead th {\n",
       "        text-align: right;\n",
       "    }\n",
       "</style>\n",
       "<table border=\"1\" class=\"dataframe\">\n",
       "  <thead>\n",
       "    <tr style=\"text-align: right;\">\n",
       "      <th></th>\n",
       "      <th>similarity</th>\n",
       "    </tr>\n",
       "    <tr>\n",
       "      <th>token</th>\n",
       "      <th></th>\n",
       "    </tr>\n",
       "  </thead>\n",
       "  <tbody>\n",
       "    <tr>\n",
       "      <th>ribeirão_preto</th>\n",
       "      <td>0.786780</td>\n",
       "    </tr>\n",
       "    <tr>\n",
       "      <th>sorocaba</th>\n",
       "      <td>0.768487</td>\n",
       "    </tr>\n",
       "    <tr>\n",
       "      <th>jundiaí</th>\n",
       "      <td>0.737801</td>\n",
       "    </tr>\n",
       "    <tr>\n",
       "      <th>araraquara</th>\n",
       "      <td>0.729624</td>\n",
       "    </tr>\n",
       "    <tr>\n",
       "      <th>são_paulo</th>\n",
       "      <td>0.723912</td>\n",
       "    </tr>\n",
       "    <tr>\n",
       "      <th>guarulhos</th>\n",
       "      <td>0.719023</td>\n",
       "    </tr>\n",
       "    <tr>\n",
       "      <th>bauru</th>\n",
       "      <td>0.708629</td>\n",
       "    </tr>\n",
       "    <tr>\n",
       "      <th>botucatu</th>\n",
       "      <td>0.696050</td>\n",
       "    </tr>\n",
       "    <tr>\n",
       "      <th>taubaté</th>\n",
       "      <td>0.693520</td>\n",
       "    </tr>\n",
       "    <tr>\n",
       "      <th>mogi_das_cruzes</th>\n",
       "      <td>0.684533</td>\n",
       "    </tr>\n",
       "  </tbody>\n",
       "</table>\n",
       "</div>"
      ],
      "text/plain": [
       "                 similarity\n",
       "token                      \n",
       "ribeirão_preto     0.786780\n",
       "sorocaba           0.768487\n",
       "jundiaí            0.737801\n",
       "araraquara         0.729624\n",
       "são_paulo          0.723912\n",
       "guarulhos          0.719023\n",
       "bauru              0.708629\n",
       "botucatu           0.696050\n",
       "taubaté            0.693520\n",
       "mogi_das_cruzes    0.684533"
      ]
     },
     "execution_count": 5,
     "metadata": {},
     "output_type": "execute_result"
    }
   ],
   "source": [
    "pd.DataFrame(\n",
    "    wiki_model.most_similar(\"campinas\"),\n",
    "    columns=[\"token\", \"similarity\"],\n",
    ").set_index(\"token\")"
   ]
  },
  {
   "cell_type": "markdown",
   "metadata": {},
   "source": [
    "As we're trying to predict the context vector from a word,\n",
    "what this gives is that\n",
    "all these words can easily appear in the same contexts.\n",
    "Though the training process of `word2vec` is unsupervised\n",
    "(it's a dimensionality reduction algorithm)\n"
   ]
  },
  {
   "cell_type": "markdown",
   "metadata": {},
   "source": [
    "Instead of a single word,\n",
    "we can also give a list of *positive* and *negative* words,\n",
    "performing something akin to this math:\n",
    "\n",
    "$$\n",
    "\\begin{array}{cll}\n",
    "{}   & Brasília & \\text{# federal capital of Brazil} \\\\\n",
    "{} - & Brasil   & \\text{# Brazil, in Brazilian Portuguese} \\\\\n",
    "{} + & Alemanha & \\text{# Germany, in Brazilian Portuguese} \\\\ \\hline\n",
    "{}   & ???\n",
    "\\end{array}\n",
    "$$"
   ]
  },
  {
   "cell_type": "code",
   "execution_count": 6,
   "metadata": {},
   "outputs": [
    {
     "data": {
      "text/plain": [
       "[('berlin', 0.5845881104469299)]"
      ]
     },
     "execution_count": 6,
     "metadata": {},
     "output_type": "execute_result"
    }
   ],
   "source": [
    "wiki_model.most_similar(\n",
    "    positive=[\"brasilia\", \"alemanha\"],\n",
    "    negative=[\"brasil\"],\n",
    "    topn=1,\n",
    ")"
   ]
  },
  {
   "cell_type": "markdown",
   "metadata": {},
   "source": [
    "The typical \"equation\" is $king - man + woman$,\n",
    "the first example in the 2013 paper,\n",
    "which here also yields $queen$\n",
    "(but with all the words in Brazilian Portuguese):"
   ]
  },
  {
   "cell_type": "code",
   "execution_count": 7,
   "metadata": {},
   "outputs": [
    {
     "data": {
      "text/plain": [
       "[('rainha', 0.6084680557250977)]"
      ]
     },
     "execution_count": 7,
     "metadata": {},
     "output_type": "execute_result"
    }
   ],
   "source": [
    "wiki_model.most_similar(\n",
    "    positive=[\"rei\", \"mulher\"], # [\"king\", \"woman\"]\n",
    "    negative=[\"homem\"],         # [\"man\"]\n",
    "    topn=1,\n",
    ")"
   ]
  },
  {
   "cell_type": "markdown",
   "metadata": {},
   "source": [
    "### Word vector normalization"
   ]
  },
  {
   "cell_type": "markdown",
   "metadata": {},
   "source": [
    "We can also get the vector regarding a word to make some actual maths with it:"
   ]
  },
  {
   "cell_type": "code",
   "execution_count": 8,
   "metadata": {},
   "outputs": [
    {
     "data": {
      "text/plain": [
       "numpy.ndarray"
      ]
     },
     "execution_count": 8,
     "metadata": {},
     "output_type": "execute_result"
    }
   ],
   "source": [
    "type(wiki_model[\"brasilia\"])"
   ]
  },
  {
   "cell_type": "code",
   "execution_count": 9,
   "metadata": {},
   "outputs": [
    {
     "data": {
      "text/plain": [
       "(400,)"
      ]
     },
     "execution_count": 9,
     "metadata": {},
     "output_type": "execute_result"
    }
   ],
   "source": [
    "wiki_model[\"brasilia\"].shape"
   ]
  },
  {
   "cell_type": "markdown",
   "metadata": {},
   "source": [
    "But in this case, using the `similar_by_vector` method,\n",
    "we need to manually remove the similarity with itself:"
   ]
  },
  {
   "cell_type": "code",
   "execution_count": 10,
   "metadata": {},
   "outputs": [
    {
     "data": {
      "text/plain": [
       "[('campinas', 1.0),\n",
       " ('ribeirão_preto', 0.7867798805236816),\n",
       " ('sorocaba', 0.7684873342514038),\n",
       " ('jundiaí', 0.7378007769584656),\n",
       " ('araraquara', 0.7296241521835327)]"
      ]
     },
     "execution_count": 10,
     "metadata": {},
     "output_type": "execute_result"
    }
   ],
   "source": [
    "wiki_model.similar_by_vector(wiki_model[\"campinas\"], topn=5)"
   ]
  },
  {
   "cell_type": "markdown",
   "metadata": {},
   "source": [
    "And performing the maths doesn't result in the same vectors,\n",
    "as not all vectors will have the same weight:"
   ]
  },
  {
   "cell_type": "code",
   "execution_count": 11,
   "metadata": {},
   "outputs": [
    {
     "data": {
      "text/html": [
       "<div>\n",
       "<style scoped>\n",
       "    .dataframe tbody tr th:only-of-type {\n",
       "        vertical-align: middle;\n",
       "    }\n",
       "\n",
       "    .dataframe tbody tr th {\n",
       "        vertical-align: top;\n",
       "    }\n",
       "\n",
       "    .dataframe thead th {\n",
       "        text-align: right;\n",
       "    }\n",
       "</style>\n",
       "<table border=\"1\" class=\"dataframe\">\n",
       "  <thead>\n",
       "    <tr style=\"text-align: right;\">\n",
       "      <th></th>\n",
       "      <th>similarity</th>\n",
       "    </tr>\n",
       "    <tr>\n",
       "      <th>token</th>\n",
       "      <th></th>\n",
       "    </tr>\n",
       "  </thead>\n",
       "  <tbody>\n",
       "    <tr>\n",
       "      <th>magdeburg</th>\n",
       "      <td>0.542283</td>\n",
       "    </tr>\n",
       "    <tr>\n",
       "      <th>erfurt</th>\n",
       "      <td>0.525711</td>\n",
       "    </tr>\n",
       "    <tr>\n",
       "      <th>krefeld</th>\n",
       "      <td>0.520014</td>\n",
       "    </tr>\n",
       "    <tr>\n",
       "      <th>alta_baviera</th>\n",
       "      <td>0.517179</td>\n",
       "    </tr>\n",
       "    <tr>\n",
       "      <th>aachen</th>\n",
       "      <td>0.516245</td>\n",
       "    </tr>\n",
       "    <tr>\n",
       "      <th>freiburg</th>\n",
       "      <td>0.516041</td>\n",
       "    </tr>\n",
       "    <tr>\n",
       "      <th>baixa_saxónia</th>\n",
       "      <td>0.508358</td>\n",
       "    </tr>\n",
       "    <tr>\n",
       "      <th>salzburg</th>\n",
       "      <td>0.506056</td>\n",
       "    </tr>\n",
       "    <tr>\n",
       "      <th>ulm</th>\n",
       "      <td>0.505461</td>\n",
       "    </tr>\n",
       "    <tr>\n",
       "      <th>koblenz</th>\n",
       "      <td>0.505086</td>\n",
       "    </tr>\n",
       "  </tbody>\n",
       "</table>\n",
       "</div>"
      ],
      "text/plain": [
       "               similarity\n",
       "token                    \n",
       "magdeburg        0.542283\n",
       "erfurt           0.525711\n",
       "krefeld          0.520014\n",
       "alta_baviera     0.517179\n",
       "aachen           0.516245\n",
       "freiburg         0.516041\n",
       "baixa_saxónia    0.508358\n",
       "salzburg         0.506056\n",
       "ulm              0.505461\n",
       "koblenz          0.505086"
      ]
     },
     "execution_count": 11,
     "metadata": {},
     "output_type": "execute_result"
    }
   ],
   "source": [
    "pd.DataFrame(\n",
    "    wiki_model.similar_by_vector(\n",
    "        wiki_model[\"brasilia\"] - wiki_model[\"brasil\"] + wiki_model[\"alemanha\"],\n",
    "        topn=10,\n",
    "    ),\n",
    "    columns=[\"token\", \"similarity\"],\n",
    ").set_index(\"token\")"
   ]
  },
  {
   "cell_type": "code",
   "execution_count": 12,
   "metadata": {},
   "outputs": [
    {
     "data": {
      "text/html": [
       "<div>\n",
       "<style scoped>\n",
       "    .dataframe tbody tr th:only-of-type {\n",
       "        vertical-align: middle;\n",
       "    }\n",
       "\n",
       "    .dataframe tbody tr th {\n",
       "        vertical-align: top;\n",
       "    }\n",
       "\n",
       "    .dataframe thead th {\n",
       "        text-align: right;\n",
       "    }\n",
       "</style>\n",
       "<table border=\"1\" class=\"dataframe\">\n",
       "  <thead>\n",
       "    <tr style=\"text-align: right;\">\n",
       "      <th></th>\n",
       "      <th>similarity</th>\n",
       "    </tr>\n",
       "    <tr>\n",
       "      <th>token</th>\n",
       "      <th></th>\n",
       "    </tr>\n",
       "  </thead>\n",
       "  <tbody>\n",
       "    <tr>\n",
       "      <th>rei</th>\n",
       "      <td>0.713224</td>\n",
       "    </tr>\n",
       "    <tr>\n",
       "      <th>rainha</th>\n",
       "      <td>0.626994</td>\n",
       "    </tr>\n",
       "    <tr>\n",
       "      <th>consorte</th>\n",
       "      <td>0.553226</td>\n",
       "    </tr>\n",
       "    <tr>\n",
       "      <th>rainha_viúva</th>\n",
       "      <td>0.531954</td>\n",
       "    </tr>\n",
       "    <tr>\n",
       "      <th>mulher</th>\n",
       "      <td>0.513182</td>\n",
       "    </tr>\n",
       "    <tr>\n",
       "      <th>rainha_consorte</th>\n",
       "      <td>0.508050</td>\n",
       "    </tr>\n",
       "    <tr>\n",
       "      <th>rainha_isabel</th>\n",
       "      <td>0.507507</td>\n",
       "    </tr>\n",
       "    <tr>\n",
       "      <th>monarca</th>\n",
       "      <td>0.502872</td>\n",
       "    </tr>\n",
       "    <tr>\n",
       "      <th>princesa</th>\n",
       "      <td>0.501628</td>\n",
       "    </tr>\n",
       "    <tr>\n",
       "      <th>rainha_regente</th>\n",
       "      <td>0.498720</td>\n",
       "    </tr>\n",
       "  </tbody>\n",
       "</table>\n",
       "</div>"
      ],
      "text/plain": [
       "                 similarity\n",
       "token                      \n",
       "rei                0.713224\n",
       "rainha             0.626994\n",
       "consorte           0.553226\n",
       "rainha_viúva       0.531954\n",
       "mulher             0.513182\n",
       "rainha_consorte    0.508050\n",
       "rainha_isabel      0.507507\n",
       "monarca            0.502872\n",
       "princesa           0.501628\n",
       "rainha_regente     0.498720"
      ]
     },
     "execution_count": 12,
     "metadata": {},
     "output_type": "execute_result"
    }
   ],
   "source": [
    "pd.DataFrame(\n",
    "    wiki_model.similar_by_vector(\n",
    "        wiki_model[\"rei\"] - wiki_model[\"homem\"] + wiki_model[\"mulher\"],\n",
    "        topn=10,\n",
    "    ),\n",
    "    columns=[\"token\", \"similarity\"],\n",
    ").set_index(\"token\")"
   ]
  },
  {
   "cell_type": "markdown",
   "metadata": {},
   "source": [
    "That's because the vector magnitude is way too different,\n",
    "and we care mostly about the vector direction,\n",
    "not the vector magnitude.\n",
    "Let's calculate the vector magnitude/norm\n",
    "for each of these words:"
   ]
  },
  {
   "cell_type": "code",
   "execution_count": 13,
   "metadata": {},
   "outputs": [
    {
     "data": {
      "text/plain": [
       "{'brasilia': 9.4632, 'brasil': 28.960426, 'alemanha': 24.099485}"
      ]
     },
     "execution_count": 13,
     "metadata": {},
     "output_type": "execute_result"
    }
   ],
   "source": [
    "{k: np.sqrt((wiki_model[k] ** 2).sum())\n",
    " for k in [\"brasilia\", \"brasil\", \"alemanha\"]}"
   ]
  },
  {
   "cell_type": "code",
   "execution_count": 14,
   "metadata": {},
   "outputs": [
    {
     "data": {
      "text/plain": [
       "{'rei': 2.9873471, 'homem': 2.229483, 'mulher': 2.2330337}"
      ]
     },
     "execution_count": 14,
     "metadata": {},
     "output_type": "execute_result"
    }
   ],
   "source": [
    "{k: np.sqrt((wiki_model[k] ** 2).var())\n",
    " for k in [\"rei\", \"homem\", \"mulher\"]}"
   ]
  },
  {
   "cell_type": "markdown",
   "metadata": {},
   "source": [
    "To give the same weight to these vectors,\n",
    "we need to normalize them before doing that sum/subtraction math.\n",
    "We can simply divide the vectors by the numbers above (their norm),\n",
    "but that's already done by the `word_vec` method\n",
    "when `use_norm=True`:"
   ]
  },
  {
   "cell_type": "code",
   "execution_count": 15,
   "metadata": {},
   "outputs": [
    {
     "data": {
      "text/plain": [
       "1.0"
      ]
     },
     "execution_count": 15,
     "metadata": {},
     "output_type": "execute_result"
    }
   ],
   "source": [
    "(wiki_model.word_vec(\"rei\", use_norm=True) ** 2).sum()"
   ]
  },
  {
   "cell_type": "markdown",
   "metadata": {},
   "source": [
    "Calculating the most similar vectors again\n",
    "(using the direction, not the magnitude):"
   ]
  },
  {
   "cell_type": "code",
   "execution_count": 16,
   "metadata": {},
   "outputs": [
    {
     "data": {
      "text/html": [
       "<div>\n",
       "<style scoped>\n",
       "    .dataframe tbody tr th:only-of-type {\n",
       "        vertical-align: middle;\n",
       "    }\n",
       "\n",
       "    .dataframe tbody tr th {\n",
       "        vertical-align: top;\n",
       "    }\n",
       "\n",
       "    .dataframe thead th {\n",
       "        text-align: right;\n",
       "    }\n",
       "</style>\n",
       "<table border=\"1\" class=\"dataframe\">\n",
       "  <thead>\n",
       "    <tr style=\"text-align: right;\">\n",
       "      <th></th>\n",
       "      <th>similarity</th>\n",
       "    </tr>\n",
       "    <tr>\n",
       "      <th>token</th>\n",
       "      <th></th>\n",
       "    </tr>\n",
       "  </thead>\n",
       "  <tbody>\n",
       "    <tr>\n",
       "      <th>berlin</th>\n",
       "      <td>0.584588</td>\n",
       "    </tr>\n",
       "    <tr>\n",
       "      <th>hamburg</th>\n",
       "      <td>0.580028</td>\n",
       "    </tr>\n",
       "    <tr>\n",
       "      <th>salzburg</th>\n",
       "      <td>0.579465</td>\n",
       "    </tr>\n",
       "    <tr>\n",
       "      <th>münchen</th>\n",
       "      <td>0.572176</td>\n",
       "    </tr>\n",
       "    <tr>\n",
       "      <th>freiburg</th>\n",
       "      <td>0.571325</td>\n",
       "    </tr>\n",
       "    <tr>\n",
       "      <th>sinsheim</th>\n",
       "      <td>0.562500</td>\n",
       "    </tr>\n",
       "    <tr>\n",
       "      <th>köln</th>\n",
       "      <td>0.561137</td>\n",
       "    </tr>\n",
       "    <tr>\n",
       "      <th>nürnberg</th>\n",
       "      <td>0.560043</td>\n",
       "    </tr>\n",
       "    <tr>\n",
       "      <th>krefeld</th>\n",
       "      <td>0.559181</td>\n",
       "    </tr>\n",
       "    <tr>\n",
       "      <th>frankfurt_oder</th>\n",
       "      <td>0.558645</td>\n",
       "    </tr>\n",
       "  </tbody>\n",
       "</table>\n",
       "</div>"
      ],
      "text/plain": [
       "                similarity\n",
       "token                     \n",
       "berlin            0.584588\n",
       "hamburg           0.580028\n",
       "salzburg          0.579465\n",
       "münchen           0.572176\n",
       "freiburg          0.571325\n",
       "sinsheim          0.562500\n",
       "köln              0.561137\n",
       "nürnberg          0.560043\n",
       "krefeld           0.559181\n",
       "frankfurt_oder    0.558645"
      ]
     },
     "execution_count": 16,
     "metadata": {},
     "output_type": "execute_result"
    }
   ],
   "source": [
    "pd.DataFrame(\n",
    "    wiki_model.similar_by_vector(\n",
    "          wiki_model.word_vec(\"brasilia\", True)\n",
    "        - wiki_model.word_vec(\"brasil\", True)\n",
    "        + wiki_model.word_vec(\"alemanha\", True),\n",
    "        topn=10,\n",
    "    ),\n",
    "    columns=[\"token\", \"similarity\"],\n",
    ").set_index(\"token\")"
   ]
  },
  {
   "cell_type": "code",
   "execution_count": 17,
   "metadata": {},
   "outputs": [
    {
     "data": {
      "text/html": [
       "<div>\n",
       "<style scoped>\n",
       "    .dataframe tbody tr th:only-of-type {\n",
       "        vertical-align: middle;\n",
       "    }\n",
       "\n",
       "    .dataframe tbody tr th {\n",
       "        vertical-align: top;\n",
       "    }\n",
       "\n",
       "    .dataframe thead th {\n",
       "        text-align: right;\n",
       "    }\n",
       "</style>\n",
       "<table border=\"1\" class=\"dataframe\">\n",
       "  <thead>\n",
       "    <tr style=\"text-align: right;\">\n",
       "      <th></th>\n",
       "      <th>similarity</th>\n",
       "    </tr>\n",
       "    <tr>\n",
       "      <th>token</th>\n",
       "      <th></th>\n",
       "    </tr>\n",
       "  </thead>\n",
       "  <tbody>\n",
       "    <tr>\n",
       "      <th>rei</th>\n",
       "      <td>0.656337</td>\n",
       "    </tr>\n",
       "    <tr>\n",
       "      <th>rainha</th>\n",
       "      <td>0.608468</td>\n",
       "    </tr>\n",
       "    <tr>\n",
       "      <th>consorte</th>\n",
       "      <td>0.547408</td>\n",
       "    </tr>\n",
       "    <tr>\n",
       "      <th>mulher</th>\n",
       "      <td>0.534614</td>\n",
       "    </tr>\n",
       "    <tr>\n",
       "      <th>rainha_viúva</th>\n",
       "      <td>0.525085</td>\n",
       "    </tr>\n",
       "    <tr>\n",
       "      <th>esposa</th>\n",
       "      <td>0.499288</td>\n",
       "    </tr>\n",
       "    <tr>\n",
       "      <th>rainha_consorte</th>\n",
       "      <td>0.498275</td>\n",
       "    </tr>\n",
       "    <tr>\n",
       "      <th>princesa</th>\n",
       "      <td>0.494415</td>\n",
       "    </tr>\n",
       "    <tr>\n",
       "      <th>rainha_isabel</th>\n",
       "      <td>0.493366</td>\n",
       "    </tr>\n",
       "    <tr>\n",
       "      <th>rainha_regente</th>\n",
       "      <td>0.490066</td>\n",
       "    </tr>\n",
       "  </tbody>\n",
       "</table>\n",
       "</div>"
      ],
      "text/plain": [
       "                 similarity\n",
       "token                      \n",
       "rei                0.656337\n",
       "rainha             0.608468\n",
       "consorte           0.547408\n",
       "mulher             0.534614\n",
       "rainha_viúva       0.525085\n",
       "esposa             0.499288\n",
       "rainha_consorte    0.498275\n",
       "princesa           0.494415\n",
       "rainha_isabel      0.493366\n",
       "rainha_regente     0.490066"
      ]
     },
     "execution_count": 17,
     "metadata": {},
     "output_type": "execute_result"
    }
   ],
   "source": [
    "pd.DataFrame(\n",
    "    wiki_model.similar_by_vector(\n",
    "          wiki_model.word_vec(\"rei\", True)\n",
    "        - wiki_model.word_vec(\"homem\", True)\n",
    "        + wiki_model.word_vec(\"mulher\", True),\n",
    "        topn=10,\n",
    "    ),\n",
    "    columns=[\"token\", \"similarity\"],\n",
    ").set_index(\"token\")"
   ]
  },
  {
   "cell_type": "markdown",
   "metadata": {},
   "source": [
    "That's what the `most_similar` method does,\n",
    "and it's also what the original *word2vec* implementation does,\n",
    "as the method documentation states:\n",
    "\n",
    "> The method corresponds to the `word-analogy` and `distance` scripts\n",
    "> in the original word2vec implementation."
   ]
  },
  {
   "cell_type": "markdown",
   "metadata": {},
   "source": [
    "As an explanation of the maths,\n",
    "we're looking for a vector $b^*$ that maximizes $b^* \\cdot (b - a + a^*)$,\n",
    "working with unit-length vectors $b$, $a$ and $a^*$\n",
    "that corresponds to the input words.\n",
    "That can also be written as a maximization of\n",
    "$b^* \\cdot b - b^* \\cdot a + b^* \\cdot a^*$,\n",
    "or, defining a binary operator $\\cos$ as the cosine similarity\n",
    "(dot product divided by the norms of each vector), we can write it as:\n",
    "\n",
    "$$\\arg \\max_{b^*} \\cos(b^*, b) - \\cos(b^*, a) + \\cos(b^*, a^*)$$"
   ]
  },
  {
   "cell_type": "markdown",
   "metadata": {},
   "source": [
    "### Alternative similarity formula"
   ]
  },
  {
   "cell_type": "markdown",
   "metadata": {},
   "source": [
    "Omer Levy and Yoav Goldberg, in\n",
    "*Linguistic Regularities in Sparse and Explicit Word Representations*, 2014\n",
    "\\[[PDF](http://www.aclweb.org/anthology/W14-1618)\\],\n",
    "named as *3CosAdd* the similarity algorithm we've just seen,\n",
    "and they proposed an alternative \"multiplicative\" algorithm called *3CosMul*,\n",
    "that reminds us of applying the logarithm of each addend/subtrahend\n",
    "in the \"sum/subtraction of cosine similarities\" function we were maximizing.\n",
    "This new equation can also be seen as something like\n",
    "taking a geometric mean of the terms, instead of a simple average.\n",
    "\n",
    "$$\n",
    "\\arg \\max_{b^*} \\dfrac{\\cos(b^*, b) \\cos(b^*, a^*)}\n",
    "                      {\\cos(b^*, a) + \\varepsilon}\n",
    "$$\n",
    "\n",
    "That's exactly what the `most_similar_cosmul` method does!"
   ]
  },
  {
   "cell_type": "code",
   "execution_count": 18,
   "metadata": {},
   "outputs": [
    {
     "data": {
      "text/plain": [
       "[('frankfurt_oder', 0.9992457628250122),\n",
       " ('hamburg', 0.9958572387695312),\n",
       " ('salzburg', 0.993118941783905),\n",
       " ('magdeburg', 0.979534387588501),\n",
       " ('krefeld', 0.9781520962715149),\n",
       " ('oberhausen', 0.9737989902496338),\n",
       " ('zürich', 0.9721503853797913),\n",
       " ('budapest', 0.9673693776130676),\n",
       " ('berlin', 0.9658992290496826),\n",
       " ('vienna', 0.9648484587669373)]"
      ]
     },
     "execution_count": 18,
     "metadata": {},
     "output_type": "execute_result"
    }
   ],
   "source": [
    "wiki_model.most_similar_cosmul(\n",
    "    positive=[\"brasilia\", \"alemanha\"],\n",
    "    negative=[\"brasil\"],\n",
    "    topn=10,\n",
    ")"
   ]
  },
  {
   "cell_type": "code",
   "execution_count": 19,
   "metadata": {},
   "outputs": [
    {
     "data": {
      "text/plain": [
       "[('rainha', 0.9783447980880737),\n",
       " ('consorte', 0.9311118721961975),\n",
       " ('rainha_viúva', 0.9254377484321594),\n",
       " ('rainha_consorte', 0.9043235778808594),\n",
       " ('rainha_isabel', 0.8911893963813782),\n",
       " ('rainha_regente', 0.8879780173301697),\n",
       " ('infanta', 0.8857831358909607),\n",
       " ('princesa', 0.8801829814910889),\n",
       " ('rainha_reinante', 0.8782250881195068),\n",
       " ('concubina', 0.8746837377548218)]"
      ]
     },
     "execution_count": 19,
     "metadata": {},
     "output_type": "execute_result"
    }
   ],
   "source": [
    "wiki_model.most_similar_cosmul(\n",
    "    positive=[\"rei\", \"mulher\"],\n",
    "    negative=[\"homem\"],\n",
    "    topn=10,\n",
    ")"
   ]
  },
  {
   "cell_type": "markdown",
   "metadata": {},
   "source": [
    "It kept *rainha* (queen) as the most similar word\n",
    "in the $king - man + woman$ equation,\n",
    "but *berlin* (Berlin) is no longer the most similar word\n",
    "in the $Brasília - Brazil + Germany$ equation.\n",
    "The similarity values are way higher,\n",
    "but Vienna is the federal capital of Austria,\n",
    "it's no longer a city in Germany.\n",
    "In some sense, these $2$ cherry-picked examples\n",
    "aren't better in *3CosMul* than in *3CosAdd*,\n",
    "that suffices for us to avoid dropping any of these."
   ]
  },
  {
   "cell_type": "markdown",
   "metadata": {},
   "source": [
    "### Lack of data cleaning"
   ]
  },
  {
   "cell_type": "markdown",
   "metadata": {},
   "source": [
    "We've found that some words aren't properly cleaned in the input,\n",
    "and that might rule out what we would expect\n",
    "with \"words maths\" like the ones previously performed here.\n",
    "An example is the word *frequency*,\n",
    "which in portuguese is *frequência*,\n",
    "yet it appear in the dataset with some different writings:"
   ]
  },
  {
   "cell_type": "code",
   "execution_count": 20,
   "metadata": {},
   "outputs": [
    {
     "data": {
      "text/plain": [
       "[('frequência', 1.0),\n",
       " ('freqüência', 0.8619202971458435),\n",
       " ('frequencia', 0.6580279469490051),\n",
       " ('amplitude', 0.6013369560241699),\n",
       " ('frequências', 0.6001715660095215)]"
      ]
     },
     "execution_count": 20,
     "metadata": {},
     "output_type": "execute_result"
    }
   ],
   "source": [
    "wiki_model.similar_by_vector(wiki_model[\"frequência\"], topn=5)"
   ]
  },
  {
   "cell_type": "markdown",
   "metadata": {},
   "source": [
    "The $frequency - hertz + seconds$ equation\n",
    "is expected to return something like *period*, *duration* or *time*,\n",
    "but none of these appears as the $5$ most similar words/expressions:"
   ]
  },
  {
   "cell_type": "code",
   "execution_count": 21,
   "metadata": {},
   "outputs": [
    {
     "data": {
      "text/plain": [
       "[('cinco_minutos', 0.5157788991928101),\n",
       " ('minutos', 0.5141439437866211),\n",
       " ('freqüência', 0.506064772605896),\n",
       " ('dez_minutos', 0.47891607880592346),\n",
       " ('cada_vez', 0.47068893909454346)]"
      ]
     },
     "execution_count": 21,
     "metadata": {},
     "output_type": "execute_result"
    }
   ],
   "source": [
    "wiki_model.most_similar(\n",
    "    positive=[\"frequência\", \"segundos\"],\n",
    "    negative=[\"hertz\"],\n",
    "    topn=5,\n",
    ")"
   ]
  },
  {
   "cell_type": "markdown",
   "metadata": {},
   "source": [
    "Translation of each result, in order:\n",
    "\n",
    "- Five minutes\n",
    "- Minutes\n",
    "- Frequency (another writing of the same word)\n",
    "- Ten minutes\n",
    "- Each time/turn/cycle\n",
    "  (*vez* have nothing to do with the physical meaning of *time*)\n",
    "\n",
    "The fifth entry have something to do with the idea of a cycle,\n",
    "but the word *frequency* appeared again,\n",
    "and it's strange to see these time durations in minutes\n",
    "as distinct tokens.\n",
    "Using *3CosMul* doesn't help that much,\n",
    "its new entries are *do* (of) and *já* (already / right now):"
   ]
  },
  {
   "cell_type": "code",
   "execution_count": 22,
   "metadata": {},
   "outputs": [
    {
     "data": {
      "text/plain": [
       "[('do', 0.9138926267623901),\n",
       " ('já', 0.9123607873916626),\n",
       " ('cinco_minutos', 0.9002106785774231),\n",
       " ('cada_vez', 0.890281081199646),\n",
       " ('minutos', 0.8871634006500244)]"
      ]
     },
     "execution_count": 22,
     "metadata": {},
     "output_type": "execute_result"
    }
   ],
   "source": [
    "wiki_model.most_similar_cosmul(\n",
    "    positive=[\"frequência\", \"segundos\"],\n",
    "    negative=[\"hertz\"],\n",
    "    topn=5,\n",
    ")"
   ]
  },
  {
   "cell_type": "markdown",
   "metadata": {},
   "source": [
    "An expected result was *período*,\n",
    "but there are entries with:\n",
    "\n",
    "- A missed acute accent\n",
    "- A typo (perído)"
   ]
  },
  {
   "cell_type": "code",
   "execution_count": 23,
   "metadata": {},
   "outputs": [
    {
     "data": {
      "text/plain": [
       "[('período', 1.0),\n",
       " ('periodo', 0.7241699695587158),\n",
       " ('perído', 0.6035453081130981),\n",
       " ('longo_período', 0.5876239538192749),\n",
       " ('períodos', 0.5766887068748474)]"
      ]
     },
     "execution_count": 23,
     "metadata": {},
     "output_type": "execute_result"
    }
   ],
   "source": [
    "wiki_model.similar_by_vector(wiki_model[\"período\"], topn=5)"
   ]
  },
  {
   "cell_type": "markdown",
   "metadata": {},
   "source": [
    "And these are obviously not the only words\n",
    "that hadn't been properly cleaned.\n",
    "Perhaps the result wasn't as expected\n",
    "in the last \"word math\" calculation\n",
    "because of this \"word splitting\",\n",
    "though there's no reason to believe\n",
    "that these alternative writings have some systematic bias."
   ]
  },
  {
   "cell_type": "code",
   "execution_count": 24,
   "metadata": {},
   "outputs": [
    {
     "data": {
      "text/plain": [
       "[('periodo', 1.0000001192092896),\n",
       " ('período', 0.7241699695587158),\n",
       " ('perído', 0.7190518379211426),\n",
       " ('conturbado_período', 0.6516879200935364),\n",
       " ('interregno', 0.6100722551345825)]"
      ]
     },
     "execution_count": 24,
     "metadata": {},
     "output_type": "execute_result"
    }
   ],
   "source": [
    "wiki_model.similar_by_vector(wiki_model[\"periodo\"], topn=5)"
   ]
  },
  {
   "cell_type": "markdown",
   "metadata": {},
   "source": [
    "(Floats are evil:\n",
    " the sums going on behind the scenes\n",
    " aren't free from rounding issues,\n",
    " that's why the similarity of a word with itself\n",
    " was given as greater than one)."
   ]
  },
  {
   "cell_type": "markdown",
   "metadata": {},
   "source": [
    "Instead of using this Wikipedia-based model,\n",
    "we're going to train a specific model\n",
    "based on the documents' metadata,\n",
    "so let's free the memory required by this huge model\n",
    "($\\approx 2 \\text{GB}$ binary data in disk,\n",
    " but about twice that in RAM)\n",
    "in order to be able to run the entire notebook.\n",
    "Everything here should fit in memory (RAM, not just disk)!"
   ]
  },
  {
   "cell_type": "code",
   "execution_count": 25,
   "metadata": {},
   "outputs": [
    {
     "name": "stdout",
     "output_type": "stream",
     "text": [
      "2.0G\twiki.pt.trigram.vector\r\n"
     ]
    }
   ],
   "source": [
    "!du -Dhs wiki.pt.trigram.vector"
   ]
  },
  {
   "cell_type": "code",
   "execution_count": 26,
   "metadata": {},
   "outputs": [],
   "source": [
    "del wiki_model"
   ]
  },
  {
   "cell_type": "markdown",
   "metadata": {},
   "source": [
    "## Training a `word2vec` model"
   ]
  },
  {
   "cell_type": "markdown",
   "metadata": {},
   "source": [
    "How could a `word2vec` model replace an LSI model\n",
    "to create a word embedding\n",
    "that would be helpful on\n",
    "either finding invalid/inconsistent entries\n",
    "or filling missing values\n",
    "on a dataset of document affiliations?\n",
    "\n",
    "Let's perform the same procedure applied on LSI in the previous experiment,\n",
    "but, this time, let's use it to train a word2vec model.\n",
    "\n",
    "The goal is to:\n",
    "\n",
    "- Fit a `word2vec` model with the CSV created on 2018-06-04,\n",
    "  ignoring the country fields;\n",
    "- Fit a random forest model to detect the country from the `word2vec` vectors."
   ]
  },
  {
   "cell_type": "markdown",
   "metadata": {},
   "source": [
    "### Simple/small example data"
   ]
  },
  {
   "cell_type": "markdown",
   "metadata": {},
   "source": [
    "Let's use the `gensim` word list example:"
   ]
  },
  {
   "cell_type": "code",
   "execution_count": 27,
   "metadata": {},
   "outputs": [
    {
     "data": {
      "text/plain": [
       "[['human', 'interface', 'computer'],\n",
       " ['survey', 'user', 'computer', 'system', 'response', 'time'],\n",
       " ['eps', 'user', 'interface', 'system'],\n",
       " ['system', 'human', 'system', 'eps'],\n",
       " ['user', 'response', 'time'],\n",
       " ['trees'],\n",
       " ['graph', 'trees'],\n",
       " ['graph', 'minors', 'trees'],\n",
       " ['graph', 'minors', 'survey']]"
      ]
     },
     "execution_count": 27,
     "metadata": {},
     "output_type": "execute_result"
    }
   ],
   "source": [
    "from gensim.test.utils import common_texts\n",
    "common_texts"
   ]
  },
  {
   "cell_type": "markdown",
   "metadata": {},
   "source": [
    "Training the model is quite straightforward.\n",
    "In order to have a deterministic result,\n",
    "the fixed random state seed didn't suffice,\n",
    "so this notebook was loaded in an environment\n",
    "with the variable `PYTHONHASHSEED` set to $12$,\n",
    "and the number of workers below must be $1$."
   ]
  },
  {
   "cell_type": "code",
   "execution_count": 28,
   "metadata": {},
   "outputs": [],
   "source": [
    "from gensim.models import Word2Vec\n",
    "simple_model = Word2Vec(common_texts,\n",
    "        # Model parameters\n",
    "    size=100,\n",
    "    window=5,\n",
    "    min_count=1, # Don't ignore rare words\n",
    "    sg=1, # Skip-gram architecture\n",
    "        # Training parameters\n",
    "    seed=15, # Random state\n",
    "    workers=1, # Required to be deterministic\n",
    ")"
   ]
  },
  {
   "cell_type": "markdown",
   "metadata": {},
   "source": [
    "The embedded vectors are stored as a numpy array:"
   ]
  },
  {
   "cell_type": "code",
   "execution_count": 29,
   "metadata": {},
   "outputs": [
    {
     "name": "stdout",
     "output_type": "stream",
     "text": [
      "(12, 100)\n"
     ]
    },
    {
     "data": {
      "text/plain": [
       "array([[-0.00428557,  0.00216113,  0.00402854, ...,  0.00140277,\n",
       "        -0.00334452, -0.0032006 ],\n",
       "       [ 0.00060753,  0.00063772, -0.00476925, ..., -0.00487864,\n",
       "         0.00183349, -0.00452836],\n",
       "       [ 0.00369058, -0.00262321,  0.00200117, ...,  0.00498826,\n",
       "        -0.00470721, -0.00199498],\n",
       "       ...,\n",
       "       [-0.00433799, -0.0018811 , -0.0010456 , ..., -0.00308982,\n",
       "        -0.00239783, -0.00022038],\n",
       "       [-0.00088028, -0.00305871, -0.00320308, ..., -0.00349069,\n",
       "         0.00279495, -0.00116475],\n",
       "       [ 0.0047669 , -0.00347038,  0.00227696, ...,  0.0008532 ,\n",
       "         0.0040411 , -0.00405969]], dtype=float32)"
      ]
     },
     "execution_count": 29,
     "metadata": {},
     "output_type": "execute_result"
    }
   ],
   "source": [
    "print(simple_model.wv.vectors.shape)\n",
    "simple_model.wv.vectors"
   ]
  },
  {
   "cell_type": "markdown",
   "metadata": {},
   "source": [
    "The word to which each row belongs is stored in the `index2word` list:"
   ]
  },
  {
   "cell_type": "code",
   "execution_count": 30,
   "metadata": {},
   "outputs": [
    {
     "data": {
      "text/plain": [
       "['system',\n",
       " 'user',\n",
       " 'trees',\n",
       " 'graph',\n",
       " 'human',\n",
       " 'interface',\n",
       " 'computer',\n",
       " 'survey',\n",
       " 'response',\n",
       " 'time',\n",
       " 'eps',\n",
       " 'minors']"
      ]
     },
     "execution_count": 30,
     "metadata": {},
     "output_type": "execute_result"
    }
   ],
   "source": [
    "simple_model.wv.index2word"
   ]
  },
  {
   "cell_type": "markdown",
   "metadata": {},
   "source": [
    "Checking the words indices/order:"
   ]
  },
  {
   "cell_type": "code",
   "execution_count": 31,
   "metadata": {},
   "outputs": [
    {
     "data": {
      "text/plain": [
       "True"
      ]
     },
     "execution_count": 31,
     "metadata": {},
     "output_type": "execute_result"
    }
   ],
   "source": [
    "np.all(simple_model.wv.vectors ==\n",
    "       np.array([simple_model.wv[word]\n",
    "                 for idx, word in enumerate(simple_model.wv.index2word)])\n",
    "      )"
   ]
  },
  {
   "cell_type": "markdown",
   "metadata": {},
   "source": [
    "That information should be enough\n",
    "for us to create a model with the actual data."
   ]
  },
  {
   "cell_type": "markdown",
   "metadata": {},
   "source": [
    "### Getting the word lists and training `word2vec` w/ non-country text fields from Clea's CSV"
   ]
  },
  {
   "cell_type": "markdown",
   "metadata": {},
   "source": [
    "We'll work with the same dataset\n",
    "(coming from Clea's output, created on 2018-06-04)\n",
    "as the previous notebook regarding LSI/LSA (created on 2018-08-23):"
   ]
  },
  {
   "cell_type": "code",
   "execution_count": 32,
   "metadata": {},
   "outputs": [],
   "source": [
    "dataset = pd.read_csv(\"inner_join_2018-06-04.csv\",\n",
    "                      dtype=str,\n",
    "                      keep_default_na=False) \\\n",
    "            .drop_duplicates()"
   ]
  },
  {
   "cell_type": "markdown",
   "metadata": {},
   "source": [
    "The first cleaning step is the same one from that experiment,\n",
    "which removes accents (keeping the letters), lowercases everything\n",
    "and removes any other character."
   ]
  },
  {
   "cell_type": "code",
   "execution_count": 33,
   "metadata": {},
   "outputs": [],
   "source": [
    "import re\n",
    "from unidecode import unidecode\n",
    "\n",
    "TEXT_ONLY_REGEX = re.compile(\"[^a-zA-Z ]\")\n",
    "\n",
    "def pre_normalize(name):\n",
    "    return TEXT_ONLY_REGEX.sub(\"\", unidecode(name).lower())"
   ]
  },
  {
   "cell_type": "markdown",
   "metadata": {},
   "source": [
    "Using the same stopwords as before, we can create a function\n",
    "that gets a dataset and casts it as a word list.\n",
    "Here we don't need to worry about uncommon (single occurrence) words,\n",
    "since that's a `word2vec` parameter."
   ]
  },
  {
   "cell_type": "code",
   "execution_count": 34,
   "metadata": {},
   "outputs": [],
   "source": [
    "stop_words = [\"da\", \"de\", \"desta\", \"do\", \"em\", \"ii\", \"iii\", \"in\", \"mesma\", \"no\", \"pela\", \"pelos\"]\n",
    "\n",
    "def df2wlist(dset, stop_words=stop_words):\n",
    "    return dset.T.apply(\n",
    "        lambda row: [\n",
    "            word for word in pre_normalize(\" \".join(row)).split()\n",
    "                 if word not in stop_words\n",
    "                 and len(word) > 1\n",
    "        ]\n",
    "    )"
   ]
  },
  {
   "cell_type": "markdown",
   "metadata": {},
   "source": [
    "The following entries are all the field names from that CSV\n",
    "with some content that might be useful for us\n",
    "from which we want to find the `addr_country_code`.\n",
    "When training with a joined-columns word list,\n",
    "the order of the fields matters!"
   ]
  },
  {
   "cell_type": "code",
   "execution_count": 35,
   "metadata": {},
   "outputs": [],
   "source": [
    "x_fields = [\n",
    "    \"addr_city\",\n",
    "    \"addr_state\",\n",
    "    \"aff_text\",\n",
    "    \"article_title\",\n",
    "    \"contrib_bio\",\n",
    "    \"contrib_prefix\",\n",
    "    \"contrib_name\",\n",
    "    \"contrib_surname\",\n",
    "    \"institution_orgdiv1\",\n",
    "    \"institution_orgdiv2\",\n",
    "    \"institution_orgname\",\n",
    "    \"institution_orgname_rewritten\",\n",
    "    \"institution_original\",\n",
    "    \"institution_orgname_rewritten\",\n",
    "    \"journal_title\",\n",
    "    \"publisher_name\",\n",
    "]"
   ]
  },
  {
   "cell_type": "markdown",
   "metadata": {},
   "source": [
    "From this, we can get the desired wordlist:"
   ]
  },
  {
   "cell_type": "code",
   "execution_count": 36,
   "metadata": {},
   "outputs": [
    {
     "name": "stdout",
     "output_type": "stream",
     "text": [
      "CPU times: user 15.3 s, sys: 202 ms, total: 15.5 s\n",
      "Wall time: 15.6 s\n"
     ]
    }
   ],
   "source": [
    "%%time\n",
    "wlist = df2wlist(dataset[x_fields])"
   ]
  },
  {
   "cell_type": "code",
   "execution_count": 37,
   "metadata": {},
   "outputs": [
    {
     "data": {
      "text/plain": [
       "94655    [universidade, estado, rio, janeiro, instituto...\n",
       "94656    [ciudad, buenos, aires, ciudad, buenos, aires,...\n",
       "94657    [joao, pessoa, pb, universidade, federal, para...\n",
       "94658    [sao, paulo, universidade, sao, paulo, departa...\n",
       "94659    [campinas, sp, universidade, estadual, campina...\n",
       "dtype: object"
      ]
     },
     "execution_count": 37,
     "metadata": {},
     "output_type": "execute_result"
    }
   ],
   "source": [
    "wlist.tail()"
   ]
  },
  {
   "cell_type": "code",
   "execution_count": 38,
   "metadata": {},
   "outputs": [
    {
     "name": "stdout",
     "output_type": "stream",
     "text": [
      "CPU times: user 4min 25s, sys: 290 ms, total: 4min 26s\n",
      "Wall time: 4min 26s\n"
     ]
    }
   ],
   "source": [
    "%%time\n",
    "model = Word2Vec(wlist,\n",
    "        # Model parameters\n",
    "    size=200,\n",
    "    window=7,\n",
    "    min_count=2, # Ignore uncommon words\n",
    "    sg=1, # Skip-gram architecture\n",
    "        # Training parameters\n",
    "    seed=15, # Random state\n",
    "    workers=1, # Required to be deterministic\n",
    ")"
   ]
  },
  {
   "cell_type": "markdown",
   "metadata": {},
   "source": [
    "That was really fast!\n",
    "it would be faster if we used $4$ workers in a quadcore machine,\n",
    "but in order to enforce deterministic results,\n",
    "we're constrained to a single worker.\n",
    "\n",
    "Although the `word2vec` neural network model is shallow,\n",
    "the data we've got here might be too small.\n",
    "Anyway, we know how to compare words,\n",
    "but we still doesn't know how to compare documents."
   ]
  },
  {
   "cell_type": "markdown",
   "metadata": {},
   "source": [
    "## Using the `word2vec` model to calculate the similarity of documents"
   ]
  },
  {
   "cell_type": "markdown",
   "metadata": {},
   "source": [
    "At first, let's try to compare pairs of documents in the simple model,\n",
    "then we'll try to generalize the similarity equations\n",
    "to train machine learning algorithms\n",
    "using the `word2vec` embedding."
   ]
  },
  {
   "cell_type": "markdown",
   "metadata": {},
   "source": [
    "### Soft cosine similarity in the simple example"
   ]
  },
  {
   "cell_type": "markdown",
   "metadata": {},
   "source": [
    "The word2vec gives us a *word* embedding vector space model,\n",
    "not a *document* embedding one.\n",
    "Let's try one approach to query for similar documents in a corpus\n",
    "using the `word2vec` embeddings together with a bag of words model,\n",
    "based on [this tutorial](\n",
    "  https://github.com/RaRe-Technologies/gensim/blob/develop/docs/notebooks/soft_cosine_tutorial.ipynb\n",
    ")."
   ]
  },
  {
   "cell_type": "code",
   "execution_count": 39,
   "metadata": {},
   "outputs": [],
   "source": [
    "from gensim.corpora import Dictionary\n",
    "from gensim.matutils import softcossim, corpus2dense\n",
    "import matplotlib.pyplot as plt\n",
    "import seaborn as sns\n",
    "%matplotlib inline"
   ]
  },
  {
   "cell_type": "markdown",
   "metadata": {},
   "source": [
    "We'll build a similarity matrix for the words.\n",
    "It can be seen as a matrix to transform a bag of words vector\n",
    "into a linear space where the axis for similar words\n",
    "have stronger projections."
   ]
  },
  {
   "cell_type": "code",
   "execution_count": 40,
   "metadata": {},
   "outputs": [
    {
     "name": "stderr",
     "output_type": "stream",
     "text": [
      "/usr/lib/python3.7/site-packages/gensim/matutils.py:737: FutureWarning: Conversion of the second argument of issubdtype from `int` to `np.signedinteger` is deprecated. In future, it will be treated as `np.int64 == np.dtype(int).type`.\n",
      "  if np.issubdtype(vec.dtype, np.int):\n"
     ]
    },
    {
     "data": {
      "text/plain": [
       "<12x12 sparse matrix of type '<class 'numpy.float32'>'\n",
       "\twith 92 stored elements in Compressed Sparse Column format>"
      ]
     },
     "execution_count": 40,
     "metadata": {},
     "output_type": "execute_result"
    },
    {
     "data": {
      "image/png": "[encoded data removed]",
      "text/plain": [
       "<Figure size 1008x432 with 2 Axes>"
      ]
     },
     "metadata": {
      "needs_background": "light"
     },
     "output_type": "display_data"
    }
   ],
   "source": [
    "simple_dictionary = Dictionary(common_texts)\n",
    "simple_similarity_matrix = simple_model.wv.similarity_matrix(simple_dictionary)\n",
    "sns.heatmap(\n",
    "    simple_similarity_matrix.todense(),\n",
    "    annot=True,\n",
    "    ax=plt.subplots(figsize=(14, 6))[1],\n",
    "    xticklabels=simple_dictionary.values(),\n",
    "    yticklabels=simple_dictionary.values(),\n",
    ").set(title=\"Similarity matrix for the dictionary of words from the $common\\_text$ corpus\")\n",
    "simple_similarity_matrix"
   ]
  },
  {
   "cell_type": "code",
   "execution_count": 41,
   "metadata": {},
   "outputs": [
    {
     "data": {
      "image/png": "[encoded data removed]",
      "text/plain": [
       "<Figure size 1008x432 with 2 Axes>"
      ]
     },
     "metadata": {
      "needs_background": "light"
     },
     "output_type": "display_data"
    }
   ],
   "source": [
    "sns.heatmap(\n",
    "    simple_similarity_matrix.todense() - np.eye(12),\n",
    "    mask=np.eye(12),\n",
    "    annot=True,\n",
    "    ax=plt.subplots(figsize=(14, 6))[1],\n",
    "    xticklabels=simple_dictionary.values(),\n",
    "    yticklabels=simple_dictionary.values(),\n",
    ").set(title=\"Similarity matrix for the dictionary of words from the $common\\_text$ corpus, \"\n",
    "            \"but the self-identity cells\");"
   ]
  },
  {
   "cell_type": "markdown",
   "metadata": {},
   "source": [
    "It's always a symmetric matrix,\n",
    "since the similarity of words $a$ and $b$\n",
    "and the similarity of words $b$ and $a$\n",
    "are just the same."
   ]
  },
  {
   "cell_type": "code",
   "execution_count": 42,
   "metadata": {},
   "outputs": [
    {
     "data": {
      "text/plain": [
       "<12x12 sparse matrix of type '<class 'numpy.bool_'>'\n",
       "\twith 0 stored elements in Compressed Sparse Row format>"
      ]
     },
     "execution_count": 42,
     "metadata": {},
     "output_type": "execute_result"
    }
   ],
   "source": [
    "simple_similarity_matrix.T != simple_similarity_matrix"
   ]
  },
  {
   "cell_type": "markdown",
   "metadata": {},
   "source": [
    "With that matrix,\n",
    "we can compute the similarity of any pair of documents,\n",
    "based on the bag of words (BoW) vector of both documents."
   ]
  },
  {
   "cell_type": "code",
   "execution_count": 43,
   "metadata": {},
   "outputs": [
    {
     "data": {
      "text/plain": [
       "0.007636782798778332"
      ]
     },
     "execution_count": 43,
     "metadata": {},
     "output_type": "execute_result"
    }
   ],
   "source": [
    "sysattack_msg = \"the computer system is under attack\"\n",
    "sysattack_bow = simple_dictionary.doc2bow(sysattack_msg.split())\n",
    "softcossim(sysattack_bow,\n",
    "           simple_dictionary.doc2bow(\"this survey interface have some minors\".split()),\n",
    "           simple_similarity_matrix)"
   ]
  },
  {
   "cell_type": "code",
   "execution_count": 44,
   "metadata": {},
   "outputs": [
    {
     "data": {
      "text/plain": [
       "0.5058680176734923"
      ]
     },
     "execution_count": 44,
     "metadata": {},
     "output_type": "execute_result"
    }
   ],
   "source": [
    "softcossim(sysattack_bow,\n",
    "           simple_dictionary.doc2bow(\"our trees aren't in the system\".split()),\n",
    "           simple_similarity_matrix)"
   ]
  },
  {
   "cell_type": "code",
   "execution_count": 45,
   "metadata": {},
   "outputs": [
    {
     "data": {
      "text/plain": [
       "0.5750714192519532"
      ]
     },
     "execution_count": 45,
     "metadata": {},
     "output_type": "execute_result"
    }
   ],
   "source": [
    "# This one is compared with a corpus entry\n",
    "softcossim(sysattack_bow,\n",
    "           simple_dictionary.doc2bow(\"survey user computer system response time\".split()),\n",
    "           simple_similarity_matrix)"
   ]
  },
  {
   "cell_type": "markdown",
   "metadata": {},
   "source": [
    "We can compute the similarity of an arbitrary document\n",
    "with all documents in a corpus\n",
    "from the bag of words vectors."
   ]
  },
  {
   "cell_type": "code",
   "execution_count": 46,
   "metadata": {},
   "outputs": [],
   "source": [
    "from gensim.similarities import SoftCosineSimilarity"
   ]
  },
  {
   "cell_type": "code",
   "execution_count": 47,
   "metadata": {},
   "outputs": [
    {
     "name": "stderr",
     "output_type": "stream",
     "text": [
      "/usr/lib/python3.7/site-packages/gensim/matutils.py:502: FutureWarning: arrays to stack must be passed as a \"sequence\" type such as list or tuple. Support for non-sequence iterables such as generators is deprecated as of NumPy 1.16 and will raise an error in the future.\n",
      "  result = np.column_stack(sparse2full(doc, num_terms) for doc in corpus)\n"
     ]
    }
   ],
   "source": [
    "simple_bow_corpus = [simple_dictionary.doc2bow(document) for document in common_texts]\n",
    "simple_bow_dense = corpus2dense(simple_bow_corpus, num_terms=len(simple_dictionary))\n",
    "sysattack_bow_vect = corpus2dense([sysattack_bow], num_terms=len(simple_dictionary))"
   ]
  },
  {
   "cell_type": "code",
   "execution_count": 48,
   "metadata": {},
   "outputs": [
    {
     "data": {
      "text/plain": [
       "(12, 9)"
      ]
     },
     "execution_count": 48,
     "metadata": {},
     "output_type": "execute_result"
    },
    {
     "data": {
      "image/png": "[encoded data removed]",
      "text/plain": [
       "<Figure size 864x288 with 2 Axes>"
      ]
     },
     "metadata": {
      "needs_background": "light"
     },
     "output_type": "display_data"
    }
   ],
   "source": [
    "sns.heatmap(\n",
    "    np.concatenate([simple_bow_dense,\n",
    "                    np.zeros_like(sysattack_bow_vect),\n",
    "                    sysattack_bow_vect],\n",
    "                    axis=1),\n",
    "    mask=np.concatenate([np.zeros_like(simple_bow_dense),\n",
    "                         np.ones_like(sysattack_bow_vect),\n",
    "                         np.zeros_like(sysattack_bow_vect)],\n",
    "                         axis=1),\n",
    "    annot=True,\n",
    "    ax=plt.subplots(figsize=(12, 4))[1],\n",
    "    xticklabels=[\" \".join(wlist) for wlist in common_texts] +\n",
    "                [\"\", sysattack_msg],\n",
    "    yticklabels=[simple_dictionary.id2token[k] for k in range(len(simple_dictionary))],\n",
    ").set(title=\"Bag of words vectors for the $common\\_text$ corpus \"\n",
    "            \" and an external word list\")\n",
    "simple_bow_dense.shape # Each column is a document"
   ]
  },
  {
   "cell_type": "code",
   "execution_count": 49,
   "metadata": {},
   "outputs": [
    {
     "data": {
      "text/plain": [
       "array([0.41339546, 0.57507142, 0.37038886, 0.59098528, 0.00326234,\n",
       "       0.00829864, 0.0215836 , 0.01783829, 0.01417663])"
      ]
     },
     "execution_count": 49,
     "metadata": {},
     "output_type": "execute_result"
    }
   ],
   "source": [
    "simple_scs = SoftCosineSimilarity(simple_bow_corpus, simple_similarity_matrix)\n",
    "sysattack_similarities = simple_scs[sysattack_bow]\n",
    "sysattack_similarities"
   ]
  },
  {
   "cell_type": "code",
   "execution_count": 50,
   "metadata": {},
   "outputs": [
    {
     "data": {
      "image/png": "[encoded data removed]",
      "text/plain": [
       "<Figure size 432x288 with 2 Axes>"
      ]
     },
     "metadata": {
      "needs_background": "light"
     },
     "output_type": "display_data"
    }
   ],
   "source": [
    "sns.heatmap(\n",
    "    pd.DataFrame(\n",
    "        [(common_texts[idx], sysattack_similarities[idx])\n",
    "         for idx in np.argsort(sysattack_similarities)[::-1]],\n",
    "        columns=[\"wordlist\", \"similarity\"]\n",
    "    ).set_index(\"wordlist\"),\n",
    "    annot=True,\n",
    "    fmt=\"f\",\n",
    ").set(title=f'Similarity with \"{sysattack_msg}\"');"
   ]
  },
  {
   "cell_type": "markdown",
   "metadata": {},
   "source": [
    "That's the document similarity based on `word2vec`\n",
    "and the soft cosine formula.\n",
    "For a $k$-NN using $k = 1$,\n",
    "we can get just the most similar document using this approach."
   ]
  },
  {
   "cell_type": "markdown",
   "metadata": {},
   "source": [
    "#### Explanation and new basis for the soft cosine similarity"
   ]
  },
  {
   "cell_type": "markdown",
   "metadata": {},
   "source": [
    "To use another supervised learning algorithm\n",
    "(e.g. random forests)\n",
    "on the documents we have,\n",
    "we need to find a fixed set of features\n",
    "based on the word2vec representation\n",
    "that can be used to represent a document,\n",
    "instead of just comparing each new input\n",
    "with all corpus entries\n",
    "in a brute force approach."
   ]
  },
  {
   "cell_type": "markdown",
   "metadata": {},
   "source": [
    "The question is:\n",
    "*can we find a linear transformation matrix\n",
    "that converts any pair of bag of words vectors\n",
    "so that their dot product normalized by their norm\n",
    "is the soft cosine similarity?*\n",
    "The answer is:\n",
    "usually, not a real-valued one,\n",
    "which won't be of much use anyway,\n",
    "but we can find a linear space\n",
    "if we neglect the (perhaps complex) scaling factors."
   ]
  },
  {
   "cell_type": "markdown",
   "metadata": {},
   "source": [
    "Following the equation $2$ found in\n",
    "*SimBow at SemEval-2017 Task 3: Soft-Cosine Semantic Similarity\n",
    "between Questions for Community Question Answering*\n",
    "by Delphine Charlet and Géraldine Damnati (2017)\n",
    "[\\[PDF\\]](https://aclweb.org/anthology/S/S17/S17-2051.pdf),\n",
    "the soft cosine similarity is calculated as:\n",
    "\n",
    "$$\n",
    "\\cos_M(X, Y) = \\dfrac{X^T M Y}{\\sqrt{X^T M X}\n",
    "                               \\sqrt{Y^T M Y}}\n",
    "$$\n",
    "\n",
    "Where $X$ and $Y$ are the *bag of words* model of the two documents.\n",
    "The similarity matrix we've just found is $M$,\n",
    "as explicit in the\n",
    "[WordEmbeddingsKeyedVectors.similarity_matrix docstring](\n",
    "https://radimrehurek.com/gensim/models/keyedvectors.html#gensim.models.keyedvectors.WordEmbeddingsKeyedVectors.similarity_matrix\n",
    ").\n",
    "Assuming it's symmetric\n",
    "(the similarity between the word whose bag of words is the vector $X$\n",
    " and the word whose bag of words is the vector $Y$\n",
    " is the same when we evaluate it the other way around),\n",
    "we can write $M = U \\Lambda U^T$.\n",
    "We won't use the Cholesky decomposition here\n",
    "since our matrix might be singular and might have negative eigenvalues\n",
    "(it doesn't apply for matrices that aren't positive definite),\n",
    "but we can perform a decomposition to get the eigenvectors."
   ]
  },
  {
   "cell_type": "markdown",
   "metadata": {},
   "source": [
    "Say $v_i$ is the normalized word embedding vector\n",
    "found by the `word2vec` model\n",
    "for the $i^{th}$ word\n",
    "divided by its norm in that word embedding space,\n",
    "then the entries of the similarity matrix are:\n",
    "\n",
    "$$\n",
    "m_{i,j} = \\max (0, v_i \\cdot v_j )^2\n",
    "$$\n",
    "\n",
    "Therefore, $0 \\le m_{i,j} = m_{j,i} \\le 1$\n",
    "and $m_{i,i} = 1$.\n",
    "This diagonal of ones tells us that the mean value of our eigenvalues is $1$.\n",
    "But that's not enough to get just non-negative eigenvalues,\n",
    "since, as an example, an $M$ like:\n",
    "\n",
    "$$\n",
    "\\left[\\begin{array}{ccc}\n",
    "1             & \\dfrac{7}{10} & \\dfrac{4}{5} \\\\\n",
    "\\dfrac{7}{10} & 1             & 0 \\\\\n",
    "\\dfrac{4}{5}  & 0             & 1 \\\\\n",
    "\\end{array}\\right]\n",
    "$$\n",
    "\n",
    "would have a negative eigenvalue,\n",
    "so $\\Lambda^{1/2}$ isn't a real-valued matrix."
   ]
  },
  {
   "cell_type": "code",
   "execution_count": 51,
   "metadata": {},
   "outputs": [
    {
     "data": {
      "text/plain": [
       "array([-0.06301458,  2.06301458,  1.        ])"
      ]
     },
     "execution_count": 51,
     "metadata": {},
     "output_type": "execute_result"
    }
   ],
   "source": [
    "bad_matrix = [[1, .7, .8], [.7, 1, 0], [.8, 0, 1]]\n",
    "np.linalg.eigvals(bad_matrix)"
   ]
  },
  {
   "cell_type": "markdown",
   "metadata": {},
   "source": [
    "For any real-valued matrix $H$,\n",
    "we know the entries in the diagonal of $H \\cdot H^T$\n",
    "are all sums of squares, so they can't be negative.\n",
    "Therefore we can't write $M = H \\cdot H^T$\n",
    "unless $M$ is semi-definite positive\n",
    "or $H$ is complex-valued.\n",
    "\n",
    "Such a negative value would make the $1 - \\cos_M(X, Y)$ \"distance\"\n",
    "violate the triangle inequality,\n",
    "that is, some dimension would have\n",
    "some sort of \"attractive\" behavior\n",
    "(a larger difference in such dimension would give a smaller \"distance\"),\n",
    "and the outcome can be a negative \"distance\"\n",
    "(or a similarity greater than $100\\%$).\n",
    "That's not an actual distance measure / metric."
   ]
  },
  {
   "cell_type": "code",
   "execution_count": 52,
   "metadata": {},
   "outputs": [
    {
     "data": {
      "text/plain": [
       "array([[-0.00134702]])"
      ]
     },
     "execution_count": 52,
     "metadata": {},
     "output_type": "execute_result"
    }
   ],
   "source": [
    "# Example of \"negative distance\" (similarity greater than 100%)\n",
    "bad_x_raw = np.array([2, 3, 1])[:, None]\n",
    "bad_x = bad_x_raw / np.sqrt(bad_x_raw.T @ bad_matrix @ bad_x_raw)\n",
    "bad_y_raw = np.array([6, 5, 1])[:, None]\n",
    "bad_y = bad_y_raw / np.sqrt(bad_y_raw.T @ bad_matrix @ bad_y_raw)\n",
    "1 - bad_x.T @ bad_matrix @ bad_y"
   ]
  },
  {
   "cell_type": "markdown",
   "metadata": {},
   "source": [
    "We can get rid from the dimensions with negative eigenvalues,\n",
    "clipping the eigenvalues on zero,\n",
    "or we can keep just the few biggest eigenvectors\n",
    "in an approach similar to LSA.\n",
    "That would make the $1 - \\cos_M(X, Y)$ at least non-negative:"
   ]
  },
  {
   "cell_type": "code",
   "execution_count": 53,
   "metadata": {},
   "outputs": [
    {
     "data": {
      "text/plain": [
       "array([[1.03150729, 0.6792523 , 0.77628835],\n",
       "       [0.6792523 , 1.01366245, 0.01561423],\n",
       "       [0.77628835, 0.01561423, 1.01784484]])"
      ]
     },
     "execution_count": 53,
     "metadata": {},
     "output_type": "execute_result"
    }
   ],
   "source": [
    "bad_lambda, bad_u = np.linalg.eigh([[1, .7, .8], [.7, 1, 0], [.8, 0, 1]])\n",
    "bad_resynth = bad_u @ np.diag(np.clip(bad_lambda, 0, None)) @ bad_u.T\n",
    "bad_resynth"
   ]
  },
  {
   "cell_type": "code",
   "execution_count": 54,
   "metadata": {},
   "outputs": [
    {
     "data": {
      "text/plain": [
       "array([[ 0.03150729, -0.0207477 , -0.02371165],\n",
       "       [-0.0207477 ,  0.01366245,  0.01561423],\n",
       "       [-0.02371165,  0.01561423,  0.01784484]])"
      ]
     },
     "execution_count": 54,
     "metadata": {},
     "output_type": "execute_result"
    }
   ],
   "source": [
    "bad_resynth - bad_matrix"
   ]
  },
  {
   "cell_type": "code",
   "execution_count": 55,
   "metadata": {},
   "outputs": [
    {
     "data": {
      "text/plain": [
       "array([[0.00034045]])"
      ]
     },
     "execution_count": 55,
     "metadata": {},
     "output_type": "execute_result"
    }
   ],
   "source": [
    "bad_x_rs = bad_x_raw / np.sqrt(bad_x_raw.T @ bad_resynth @ bad_x_raw)\n",
    "bad_y_rs = bad_y_raw / np.sqrt(bad_y_raw.T @ bad_resynth @ bad_y_raw)\n",
    "1 - bad_x_rs.T @ bad_resynth @ bad_y_rs"
   ]
  },
  {
   "cell_type": "markdown",
   "metadata": {},
   "source": [
    "However, the greatest singular value\n",
    "(square root of the greatest eigenvalue of $M M^T$,\n",
    " which is semi-positive definite)\n",
    "might appear as a negative eigenvalue of $M$.\n",
    "That's because $M$ is symmetric and, performing SVD:\n",
    "\n",
    "$$\n",
    "\\begin{align}\n",
    "M &= U \\Sigma V^T \\\\\n",
    "M^T &= V \\Sigma U^T \\\\\n",
    "M^2 = M M^T &= U \\Sigma^2 U^T \\\\\n",
    "M^2 = M^T M &= V \\Sigma^2 V^T \\\\\n",
    "U \\Sigma^2 U^T &= V \\Sigma^2 V^T\n",
    "\\end{align}\n",
    "$$\n",
    "\n",
    "Then $U$ and $V$ should have *almost* the same eigenvectors:\n",
    "their direction might be opposite.\n",
    "The eigenvectors of $M$ should be $\\lambda_i = \\sigma_i$\n",
    "when the eigenvectors in $U$ and $V$ are the same,\n",
    "and $\\lambda_i = -\\sigma_i$ when they have the opposite direction."
   ]
  },
  {
   "cell_type": "markdown",
   "metadata": {},
   "source": [
    "Our options are:\n",
    "\n",
    "- Use a complex-valued vector after transforming the bag of words vector;\n",
    "- Use a \\[perhaps badly\\] clipped matrix\n",
    "  that doesn't include the contribution of negative eigenvalues;\n",
    "- Ignore the \\[perhaps negative\\] scaling factor\n",
    "  of the soft cosine similarity formula.\n",
    "\n",
    "To apply the data into a random forest model,\n",
    "let's stick with the last one.\n",
    "Also, we should use a low rank matrix\n",
    "in order to reduce the dimensionality of the bag of words model\n",
    "when converting BoW vectors to this new document embedding vector space\n",
    "based on the word2vec word embedding."
   ]
  },
  {
   "cell_type": "markdown",
   "metadata": {},
   "source": [
    "#### Change of basis to calculate similarity on a simple model"
   ]
  },
  {
   "cell_type": "markdown",
   "metadata": {},
   "source": [
    "In the simple model, all eigenvalues are $\\approx 1$\n",
    "(as the similarity matrix is almost $I$):"
   ]
  },
  {
   "cell_type": "code",
   "execution_count": 56,
   "metadata": {},
   "outputs": [
    {
     "data": {
      "text/plain": [
       "array([0.93414533, 0.95981336, 0.9677515 , 0.9689995 , 0.9813136 ,\n",
       "       0.99766135, 1.0004498 , 1.0085737 , 1.0117586 , 1.0288727 ,\n",
       "       1.0396414 , 1.1010193 ], dtype=float32)"
      ]
     },
     "execution_count": 56,
     "metadata": {},
     "output_type": "execute_result"
    }
   ],
   "source": [
    "simple_eigvals, simple_u = np.linalg.eigh(simple_similarity_matrix.todense())\n",
    "simple_eigvals"
   ]
  },
  {
   "cell_type": "markdown",
   "metadata": {},
   "source": [
    "Let's apply this decomposition on each BoW vector $X$,\n",
    "using the found eigenvectors to convert them to $X_U = U^T X$."
   ]
  },
  {
   "cell_type": "code",
   "execution_count": 57,
   "metadata": {},
   "outputs": [
    {
     "name": "stdout",
     "output_type": "stream",
     "text": [
      "(12, 9) (12, 1)\n"
     ]
    }
   ],
   "source": [
    "simple_docv = simple_u.A.T @ simple_bow_dense\n",
    "sysattack_query = simple_u.A.T @ sysattack_bow_vect\n",
    "print(simple_docv.shape, sysattack_query.shape)"
   ]
  },
  {
   "cell_type": "code",
   "execution_count": 58,
   "metadata": {},
   "outputs": [
    {
     "data": {
      "image/png": "[encoded data removed]",
      "text/plain": [
       "<Figure size 864x288 with 2 Axes>"
      ]
     },
     "metadata": {
      "needs_background": "light"
     },
     "output_type": "display_data"
    }
   ],
   "source": [
    "sns.heatmap(\n",
    "    np.concatenate([simple_docv,\n",
    "                    np.zeros_like(sysattack_query),\n",
    "                    sysattack_query],\n",
    "                    axis=1),\n",
    "    mask=np.concatenate([np.zeros_like(simple_docv),\n",
    "                         np.ones_like(sysattack_query),\n",
    "                         np.zeros_like(sysattack_query)],\n",
    "                         axis=1),\n",
    "    annot=True,\n",
    "    ax=plt.subplots(figsize=(12, 4))[1],\n",
    "    xticklabels=[\" \".join(wlist) for wlist in common_texts] +\n",
    "                [\"\", sysattack_msg],\n",
    ").set(title=\"Unscaled vectors for calculating the soft cosine\");"
   ]
  },
  {
   "cell_type": "markdown",
   "metadata": {},
   "source": [
    "We can calculate the soft cosine similarities as before,\n",
    "using the new matrices,\n",
    "\n",
    "$$\n",
    "\\cos_{\\Lambda}(X_U, Y_U) =\n",
    "  \\dfrac{X_U^T \\Lambda Y_U}{\\sqrt{X_U^T \\Lambda X_U}\n",
    "                            \\sqrt{Y_U^T \\Lambda Y_U}}\n",
    "$$\n",
    "\n",
    "The new matrix $\\Lambda$ is diagonal,\n",
    "perhaps with negative entries (not in this example).\n",
    "We'll find the same results,\n",
    "we've just segregated the scaling factor from the rotation/shearing."
   ]
  },
  {
   "cell_type": "code",
   "execution_count": 59,
   "metadata": {},
   "outputs": [
    {
     "data": {
      "text/plain": [
       "array([0.41339546, 0.5750714 , 0.37038887, 0.5909853 , 0.00326233,\n",
       "       0.00829865, 0.02158359, 0.01783828, 0.01417662], dtype=float32)"
      ]
     },
     "execution_count": 59,
     "metadata": {},
     "output_type": "execute_result"
    }
   ],
   "source": [
    "ss_alt = (\n",
    "    sysattack_query.T * simple_eigvals @ simple_docv /\n",
    "    np.sqrt(\n",
    "        np.sum(simple_docv.T ** 2 * simple_eigvals, axis=1) *\n",
    "        np.sum(sysattack_query.ravel() ** 2 * simple_eigvals)\n",
    "    )\n",
    ").ravel()\n",
    "ss_alt"
   ]
  },
  {
   "cell_type": "code",
   "execution_count": 60,
   "metadata": {},
   "outputs": [
    {
     "data": {
      "text/plain": [
       "array([ True,  True,  True,  True,  True,  True,  True,  True,  True])"
      ]
     },
     "execution_count": 60,
     "metadata": {},
     "output_type": "execute_result"
    }
   ],
   "source": [
    "np.isclose(sysattack_similarities, ss_alt)"
   ]
  },
  {
   "cell_type": "markdown",
   "metadata": {},
   "source": [
    "#### Dimensionality reduction (low rank approximation)"
   ]
  },
  {
   "cell_type": "markdown",
   "metadata": {},
   "source": [
    "We don't want to keep every input dimension.\n",
    "Here we'll apply the same idea from LSA,\n",
    "compressing the input\n",
    "by zeroing the smallest singular values\n",
    "(i.e., the dimensions with the smallest contributions\n",
    "       in the resulting similarity value).\n",
    "The difference is:\n",
    "now we're compressing the `word2vec` word similarity matrix\n",
    "instead of TF-IDF."
   ]
  },
  {
   "cell_type": "code",
   "execution_count": 61,
   "metadata": {},
   "outputs": [],
   "source": [
    "from gensim.matutils import corpus2csc\n",
    "import scipy.sparse.linalg as sla"
   ]
  },
  {
   "cell_type": "code",
   "execution_count": 62,
   "metadata": {},
   "outputs": [
    {
     "data": {
      "text/plain": [
       "<12x9 sparse matrix of type '<class 'numpy.float64'>'\n",
       "\twith 28 stored elements in Compressed Sparse Column format>"
      ]
     },
     "execution_count": 62,
     "metadata": {},
     "output_type": "execute_result"
    }
   ],
   "source": [
    "simple_bow_sparse = corpus2csc(simple_bow_corpus, num_terms=len(simple_dictionary))\n",
    "simple_bow_sparse"
   ]
  },
  {
   "cell_type": "code",
   "execution_count": 63,
   "metadata": {},
   "outputs": [
    {
     "name": "stdout",
     "output_type": "stream",
     "text": [
      "(9, 9) (9, 1)\n"
     ]
    },
    {
     "data": {
      "text/plain": [
       "array([0.96899945, 0.9813135 , 0.99766135, 1.0004497 , 1.0085735 ,\n",
       "       1.0117586 , 1.0288725 , 1.0396415 , 1.1010196 ], dtype=float32)"
      ]
     },
     "execution_count": 63,
     "metadata": {},
     "output_type": "execute_result"
    }
   ],
   "source": [
    "s_eigvals, s_u = sla.eigsh(simple_similarity_matrix,\n",
    "                           v0=np.ones_like(sysattack_bow_vect),\n",
    "                           k=9)\n",
    "s_docv = s_u.T @ simple_bow_sparse\n",
    "s_query = s_u.T @ sysattack_bow_vect\n",
    "print(s_docv.shape, s_query.shape)\n",
    "s_eigvals"
   ]
  },
  {
   "cell_type": "code",
   "execution_count": 64,
   "metadata": {},
   "outputs": [
    {
     "data": {
      "image/png": "[encoded data removed]",
      "text/plain": [
       "<Figure size 864x288 with 2 Axes>"
      ]
     },
     "metadata": {
      "needs_background": "light"
     },
     "output_type": "display_data"
    }
   ],
   "source": [
    "sns.heatmap(\n",
    "    np.concatenate([s_docv,\n",
    "                    np.zeros_like(s_query),\n",
    "                    s_query],\n",
    "                    axis=1),\n",
    "    mask=np.concatenate([np.zeros_like(s_docv),\n",
    "                         np.ones_like(s_query),\n",
    "                         np.zeros_like(s_query)],\n",
    "                         axis=1),\n",
    "    annot=True,\n",
    "    ax=plt.subplots(figsize=(12, 4))[1],\n",
    "    xticklabels=[\" \".join(wlist) for wlist in common_texts] +\n",
    "                [\"\", sysattack_msg],\n",
    ").set(title=\"Unscaled vectors' components with the biggest eigenvalue magnitude\");"
   ]
  },
  {
   "cell_type": "code",
   "execution_count": 65,
   "metadata": {},
   "outputs": [
    {
     "data": {
      "text/plain": [
       "array([ 0.4017654 ,  0.5465508 ,  0.42929605,  0.72427435, -0.05248171,\n",
       "        0.00107828,  0.08800511,  0.02655048,  0.02946378])"
      ]
     },
     "execution_count": 65,
     "metadata": {},
     "output_type": "execute_result"
    }
   ],
   "source": [
    "ss_dimred = (\n",
    "    s_query.T * s_eigvals @ s_docv /\n",
    "    np.sqrt(\n",
    "        np.sum(s_docv.T ** 2 * s_eigvals, axis=1) *\n",
    "        np.sum(s_query.ravel() ** 2 * s_eigvals)\n",
    "    )\n",
    ").ravel()\n",
    "ss_dimred"
   ]
  },
  {
   "cell_type": "code",
   "execution_count": 66,
   "metadata": {},
   "outputs": [],
   "source": [
    "ss_df = pd.DataFrame(\n",
    "    [(common_texts[idx], sysattack_similarities[idx], ss_dimred[idx])\n",
    "     for idx in np.argsort(sysattack_similarities)[::-1]],\n",
    "    columns=[\"wordlist\", \"similarity\", \"approximation\"]\n",
    ").set_index(\"wordlist\")"
   ]
  },
  {
   "cell_type": "code",
   "execution_count": 67,
   "metadata": {},
   "outputs": [
    {
     "data": {
      "image/png": "[encoded data removed]",
      "text/plain": [
       "<Figure size 432x288 with 2 Axes>"
      ]
     },
     "metadata": {
      "needs_background": "light"
     },
     "output_type": "display_data"
    }
   ],
   "source": [
    "sns.heatmap(ss_df, annot=True, fmt=\"f\").set(\n",
    "    title=f'Similarity with \"{sysattack_msg}\"',\n",
    ");"
   ]
  },
  {
   "cell_type": "code",
   "execution_count": 68,
   "metadata": {},
   "outputs": [
    {
     "data": {
      "image/png": "[encoded data removed]",
      "text/plain": [
       "<Figure size 1008x360 with 1 Axes>"
      ]
     },
     "metadata": {
      "needs_background": "light"
     },
     "output_type": "display_data"
    }
   ],
   "source": [
    "ss_df.plot(figsize=(14, 5))\n",
    "plt.xticks(rotation=15);"
   ]
  },
  {
   "cell_type": "markdown",
   "metadata": {},
   "source": [
    "In this case, running with less than $k = 9$\n",
    "would fail miserably as an approximation."
   ]
  },
  {
   "cell_type": "markdown",
   "metadata": {},
   "source": [
    "#### Using TF-IDF instead of BoW"
   ]
  },
  {
   "cell_type": "markdown",
   "metadata": {},
   "source": [
    "We can use the TF-IDF of the documents\n",
    "instead of the bag of words vector while multiplying it\n",
    "by the similarity matrix,\n",
    "that is, we can use TF-IDF vectors instead of $X$ and $Y$\n",
    "on the soft cosine similarity formula."
   ]
  },
  {
   "cell_type": "code",
   "execution_count": 69,
   "metadata": {},
   "outputs": [],
   "source": [
    "from gensim.models import TfidfModel"
   ]
  },
  {
   "cell_type": "code",
   "execution_count": 70,
   "metadata": {},
   "outputs": [],
   "source": [
    "simple_tfidf = TfidfModel(simple_bow_corpus)\n",
    "simple_tfidf_corpus = simple_tfidf[simple_bow_corpus]\n",
    "simple_tfidf_dense = corpus2dense(simple_tfidf_corpus, num_terms=len(simple_dictionary))\n",
    "sysattack_tfidf = simple_tfidf[sysattack_bow]\n",
    "sysattack_tfidf_vect = corpus2dense([sysattack_tfidf], num_terms=len(simple_dictionary))"
   ]
  },
  {
   "cell_type": "code",
   "execution_count": 71,
   "metadata": {},
   "outputs": [
    {
     "data": {
      "image/png": "[encoded data removed]",
      "text/plain": [
       "<Figure size 864x288 with 2 Axes>"
      ]
     },
     "metadata": {
      "needs_background": "light"
     },
     "output_type": "display_data"
    }
   ],
   "source": [
    "sns.heatmap(\n",
    "    np.concatenate([simple_tfidf_dense,\n",
    "                    np.zeros_like(sysattack_tfidf_vect),\n",
    "                    sysattack_tfidf_vect],\n",
    "                    axis=1),\n",
    "    mask=np.concatenate([np.zeros_like(simple_tfidf_dense),\n",
    "                         np.ones_like(sysattack_tfidf_vect),\n",
    "                         np.zeros_like(sysattack_tfidf_vect)],\n",
    "                         axis=1),\n",
    "    annot=True,\n",
    "    ax=plt.subplots(figsize=(12, 4))[1],\n",
    "    xticklabels=[\" \".join(wlist) for wlist in common_texts] +\n",
    "                [\"\", sysattack_msg],\n",
    "    yticklabels=[simple_dictionary.id2token[k] for k in range(len(simple_dictionary))],\n",
    ").set(title=\"TF-IDF vectors for the $common\\_text$ corpus \"\n",
    "            \" and an external word list\");"
   ]
  },
  {
   "cell_type": "code",
   "execution_count": 72,
   "metadata": {},
   "outputs": [
    {
     "data": {
      "text/plain": [
       "array([0.47174263, 0.54879916, 0.27041999, 0.44257465, 0.00325998,\n",
       "       0.00947714, 0.02431947, 0.01769471, 0.01300443], dtype=float32)"
      ]
     },
     "execution_count": 72,
     "metadata": {},
     "output_type": "execute_result"
    }
   ],
   "source": [
    "st_docv = simple_u.A.T @ simple_tfidf_dense\n",
    "st_query = simple_u.A.T @ sysattack_tfidf_vect\n",
    "ss_tfidf = (\n",
    "    st_query.T * simple_eigvals @ st_docv /\n",
    "    np.sqrt(\n",
    "        np.sum(st_docv.T ** 2 * simple_eigvals, axis=1) *\n",
    "        np.sum(st_query.ravel() ** 2 * simple_eigvals)\n",
    "    )\n",
    ").ravel()\n",
    "ss_tfidf"
   ]
  },
  {
   "cell_type": "markdown",
   "metadata": {},
   "source": [
    "And we can do the same with the low rank approximation."
   ]
  },
  {
   "cell_type": "code",
   "execution_count": 73,
   "metadata": {},
   "outputs": [
    {
     "data": {
      "text/plain": [
       "array([ 0.476753  ,  0.5201011 ,  0.3738502 ,  0.6103001 , -0.03805855,\n",
       "        0.00346329,  0.09956918,  0.01500752,  0.01653036], dtype=float32)"
      ]
     },
     "execution_count": 73,
     "metadata": {},
     "output_type": "execute_result"
    }
   ],
   "source": [
    "t_docv = s_u.T @ simple_tfidf_dense\n",
    "t_query = s_u.T @ sysattack_tfidf_vect\n",
    "ss_tfidf_dimred = (\n",
    "    t_query.T * s_eigvals @ t_docv /\n",
    "    np.sqrt(\n",
    "        np.sum(t_docv.T ** 2 * s_eigvals, axis=1) *\n",
    "        np.sum(t_query.ravel() ** 2 * s_eigvals)\n",
    "    )\n",
    ").ravel()\n",
    "ss_tfidf_dimred"
   ]
  },
  {
   "cell_type": "code",
   "execution_count": 74,
   "metadata": {},
   "outputs": [],
   "source": [
    "sst_df = pd.DataFrame(\n",
    "    [(common_texts[idx],\n",
    "      sysattack_similarities[idx], ss_dimred[idx],\n",
    "      ss_tfidf[idx], ss_tfidf_dimred[idx])\n",
    "     for idx in np.argsort(sysattack_similarities)[::-1]],\n",
    "    columns=[\"wordlist\",\n",
    "             \"similarity\", \"approximation\",\n",
    "             \"tfidf_similarity\", \"tfidf_approximation\"]\n",
    ").set_index(\"wordlist\")"
   ]
  },
  {
   "cell_type": "code",
   "execution_count": 75,
   "metadata": {},
   "outputs": [
    {
     "data": {
      "image/png": "[encoded data removed]",
      "text/plain": [
       "<Figure size 432x288 with 2 Axes>"
      ]
     },
     "metadata": {
      "needs_background": "light"
     },
     "output_type": "display_data"
    }
   ],
   "source": [
    "sns.heatmap(sst_df, annot=True, fmt=\"f\").set(\n",
    "    title=f'Similarity with \"{sysattack_msg}\"',\n",
    ");"
   ]
  },
  {
   "cell_type": "markdown",
   "metadata": {},
   "source": [
    "The TF-IDF approximation looks fine in this example.\n",
    "However, changing $k$ from $9$ to anything smaller\n",
    "would give us a really different result.\n",
    "There are just $12$ words\n",
    "and removing $4$ dimensions would break the algorithm.\n",
    "Perhaps that would change for huge datasets with lots of synonyms,\n",
    "but up to now this approach still can't be said robust."
   ]
  },
  {
   "cell_type": "markdown",
   "metadata": {},
   "source": [
    "### Similarity matrix of the `word2vec` model trained with non-country text fields from Clea's CSV"
   ]
  },
  {
   "cell_type": "markdown",
   "metadata": {},
   "source": [
    "Calculating the word similarity matrix for this model is quite slow\n",
    "since we have a huge matrix\n",
    "(both the number of rows and columns are equal to the number of words)."
   ]
  },
  {
   "cell_type": "code",
   "execution_count": 76,
   "metadata": {},
   "outputs": [
    {
     "data": {
      "text/plain": [
       "102089"
      ]
     },
     "execution_count": 76,
     "metadata": {},
     "output_type": "execute_result"
    }
   ],
   "source": [
    "dictionary = Dictionary(wlist)\n",
    "len(dictionary) # Number of words"
   ]
  },
  {
   "cell_type": "code",
   "execution_count": 77,
   "metadata": {},
   "outputs": [
    {
     "name": "stdout",
     "output_type": "stream",
     "text": [
      "CPU times: user 28min 33s, sys: 3.75 s, total: 28min 36s\n",
      "Wall time: 7min 28s\n"
     ]
    },
    {
     "data": {
      "text/plain": [
       "<102089x102089 sparse matrix of type '<class 'numpy.float32'>'\n",
       "\twith 7270971 stored elements in Compressed Sparse Column format>"
      ]
     },
     "execution_count": 77,
     "metadata": {},
     "output_type": "execute_result"
    }
   ],
   "source": [
    "%time similarity_matrix = model.wv.similarity_matrix(dictionary)\n",
    "similarity_matrix"
   ]
  },
  {
   "cell_type": "markdown",
   "metadata": {},
   "source": [
    "We can't cast it to dense with `similarity_matrix.todense()`,\n",
    "as it would raise a `MemoryError`\n",
    "(it would be an $\\approx 38.8\\text{GB}$ dense matrix\n",
    " of 32-bits floating point numbers\n",
    " instead of this $\\approx 55\\text{MB}$ sparse matrix).\n",
    "\n",
    "We just need to find the matrix $U$ of eigenvectors.\n",
    "There's no option to perform this kind of decomposition\n",
    "but the `scipy.sparse.linalg` functions like `eigsh` or `svds`,\n",
    "since neither `np.linalg.svd` nor `scipy.linalg.svd`\n",
    "support sparse matrices."
   ]
  },
  {
   "cell_type": "markdown",
   "metadata": {},
   "source": [
    "Since $M = U \\Lambda U^T$,\n",
    "\n",
    "$$\n",
    "\\begin{align}\n",
    "M - I\n",
    "{}&= U \\Lambda U^T - I\n",
    "\\\\&= U \\Lambda U^T - U I U^T\n",
    "\\\\&= U \\left( \\Lambda - I \\right) U^T\n",
    "\\end{align}\n",
    "$$\n",
    "\n",
    "That is, subtracting the identity from $M$ won't change its eigenvectors,\n",
    "just its eigenvalues (it'll subtract $1$ from each eigenvalue)."
   ]
  },
  {
   "cell_type": "code",
   "execution_count": 78,
   "metadata": {},
   "outputs": [],
   "source": [
    "from scipy import sparse"
   ]
  },
  {
   "cell_type": "code",
   "execution_count": 79,
   "metadata": {},
   "outputs": [
    {
     "data": {
      "text/plain": [
       "<102089x102089 sparse matrix of type '<class 'numpy.float64'>'\n",
       "\twith 7168882 stored elements in Compressed Sparse Column format>"
      ]
     },
     "execution_count": 79,
     "metadata": {},
     "output_type": "execute_result"
    }
   ],
   "source": [
    "sm_nodiag = similarity_matrix - sparse.eye(len(dictionary))\n",
    "sm_nodiag"
   ]
  },
  {
   "cell_type": "markdown",
   "metadata": {},
   "source": [
    "Let's approximate this matrix by another with rank $k = 1000$.\n",
    "**Warning**: *It's really slow*!"
   ]
  },
  {
   "cell_type": "code",
   "execution_count": 80,
   "metadata": {},
   "outputs": [
    {
     "name": "stdout",
     "output_type": "stream",
     "text": [
      "CPU times: user 1h 10min 59s, sys: 7.15 s, total: 1h 11min 6s\n",
      "Wall time: 19min 19s\n"
     ]
    },
    {
     "data": {
      "text/plain": [
       "(102089, 1000)"
      ]
     },
     "execution_count": 80,
     "metadata": {},
     "output_type": "execute_result"
    }
   ],
   "source": [
    "np.random.seed(28934)\n",
    "v0 = np.random.rand(len(dictionary))\n",
    "%time eigvals_minus1, u = sla.eigsh(sm_nodiag, v0=v0, k=1000)\n",
    "u.shape"
   ]
  },
  {
   "cell_type": "markdown",
   "metadata": {},
   "source": [
    "We don't need to explicitly calculate\n",
    "the `u @ sparse.diags(eigvals_minus1 + 1) @ u.T` approximation matrix\n",
    "(actually, we couldn't: it would raise `MemoryError`).\n",
    "Instead, it suffices to estimate the error of this approximation.\n",
    "We can do that by calculating the Frobenius norm\n",
    "of both matrices."
   ]
  },
  {
   "cell_type": "markdown",
   "metadata": {},
   "source": [
    "Only $53.9\\%$ of the Frobenius norm was kept:"
   ]
  },
  {
   "cell_type": "code",
   "execution_count": 81,
   "metadata": {},
   "outputs": [
    {
     "data": {
      "text/plain": [
       "(1789.2423, 964.8499140272897, 0.5392505581085879)"
      ]
     },
     "execution_count": 81,
     "metadata": {},
     "output_type": "execute_result"
    }
   ],
   "source": [
    "frob_before = np.sqrt(similarity_matrix.multiply(similarity_matrix).sum())\n",
    "frob_after = np.sqrt(((eigvals_minus1 + 1) ** 2).sum())\n",
    "frob_before, frob_after, frob_after / frob_before"
   ]
  },
  {
   "cell_type": "markdown",
   "metadata": {},
   "source": [
    "As a reference, the simple model of $k=9$ out of $12$ words kept $87.9\\%$."
   ]
  },
  {
   "cell_type": "code",
   "execution_count": 82,
   "metadata": {},
   "outputs": [
    {
     "data": {
      "text/plain": [
       "(3.46715, 3.0480676, 0.8791277)"
      ]
     },
     "execution_count": 82,
     "metadata": {},
     "output_type": "execute_result"
    }
   ],
   "source": [
    "sfrob_before = np.sqrt(simple_similarity_matrix.multiply(simple_similarity_matrix).sum())\n",
    "sfrob_after = np.sqrt((s_eigvals ** 2).sum())\n",
    "sfrob_before, sfrob_after, sfrob_after / sfrob_before"
   ]
  },
  {
   "cell_type": "markdown",
   "metadata": {},
   "source": [
    "We're storing more than $50\\%$ of the \"information\" of a matrix\n",
    "in less than $1\\%$ of its number of dimensions\n",
    "(but with $7\\times$ more numbers being stored,\n",
    " since it's dense, not sparse)."
   ]
  },
  {
   "cell_type": "markdown",
   "metadata": {},
   "source": [
    "## Modeling a country classifier"
   ]
  },
  {
   "cell_type": "markdown",
   "metadata": {},
   "source": [
    "Can we use the `word2vec` result to predict the country?"
   ]
  },
  {
   "cell_type": "markdown",
   "metadata": {},
   "source": [
    "### Tabular data and train/test splitting"
   ]
  },
  {
   "cell_type": "code",
   "execution_count": 83,
   "metadata": {},
   "outputs": [],
   "source": [
    "from sklearn import model_selection"
   ]
  },
  {
   "cell_type": "markdown",
   "metadata": {},
   "source": [
    "We're using the similarity matrix found from Word2Vec model\n",
    "trained on the word lists coming from the Clea's CSV\n",
    "to build a matrix of features for each word list\n",
    "(the `X` variable),\n",
    "besides the country codes (the `y` variable),\n",
    "getting rid from the entries that don't have this country information."
   ]
  },
  {
   "cell_type": "code",
   "execution_count": 84,
   "metadata": {},
   "outputs": [],
   "source": [
    "y_field = \"addr_country_code\"\n",
    "is_filled = dataset[y_field] != \"\""
   ]
  },
  {
   "cell_type": "code",
   "execution_count": 85,
   "metadata": {},
   "outputs": [],
   "source": [
    "bow_corpus = wlist.apply(dictionary.doc2bow)\n",
    "bow_corpus_csc = corpus2csc(bow_corpus, num_terms=len(dictionary))\n",
    "w2v_doc_dimred = bow_corpus_csc.T @ u"
   ]
  },
  {
   "cell_type": "code",
   "execution_count": 86,
   "metadata": {},
   "outputs": [],
   "source": [
    "X = w2v_doc_dimred[is_filled]\n",
    "y = dataset[is_filled][\"addr_country_code\"].replace({\"BR; BR\": \"BR\"})"
   ]
  },
  {
   "cell_type": "markdown",
   "metadata": {},
   "source": [
    "Let's split these into a training set and a testing set,\n",
    "keeping the proportion of country."
   ]
  },
  {
   "cell_type": "code",
   "execution_count": 87,
   "metadata": {},
   "outputs": [],
   "source": [
    "y_counts = y.value_counts()\n",
    "y_strata = y.replace(y_counts[y_counts == 1].index, \"\")"
   ]
  },
  {
   "cell_type": "code",
   "execution_count": 88,
   "metadata": {},
   "outputs": [],
   "source": [
    "X_train, X_test, y_train, y_test = \\\n",
    "    model_selection.train_test_split(X, y,\n",
    "                                     test_size=.3,\n",
    "                                     random_state=1234,\n",
    "                                     stratify=y_strata)"
   ]
  },
  {
   "cell_type": "markdown",
   "metadata": {},
   "source": [
    "The stratified split is required\n",
    "since our data is biased towards Brazil\n",
    "(more than $83\\%$ are **BR**)."
   ]
  },
  {
   "cell_type": "code",
   "execution_count": 89,
   "metadata": {},
   "outputs": [
    {
     "data": {
      "text/plain": [
       "0.8356959034721343"
      ]
     },
     "execution_count": 89,
     "metadata": {},
     "output_type": "execute_result"
    }
   ],
   "source": [
    "y_train_counts = y_train.value_counts()\n",
    "y_train_counts[\"BR\"] / y_train_counts.sum()"
   ]
  },
  {
   "cell_type": "markdown",
   "metadata": {},
   "source": [
    "While training a machine learning algorithm,\n",
    "one can use the inverse of this information as the weights\n",
    "in order to \"compensate\" these size differences."
   ]
  },
  {
   "cell_type": "code",
   "execution_count": 90,
   "metadata": {},
   "outputs": [],
   "source": [
    "y_weights = y_train.replace(1 / y_train_counts).values"
   ]
  },
  {
   "cell_type": "markdown",
   "metadata": {},
   "source": [
    "### Random forest classifier based on the low-rank `word2vec` similarity matrix"
   ]
  },
  {
   "cell_type": "markdown",
   "metadata": {},
   "source": [
    "Here the code blocks are identical to the previous LSA experiment,\n",
    "and the goal is to compare the new results from this experiment\n",
    "with the results we've got from that previous experiment. "
   ]
  },
  {
   "cell_type": "code",
   "execution_count": 91,
   "metadata": {},
   "outputs": [],
   "source": [
    "import warnings"
   ]
  },
  {
   "cell_type": "code",
   "execution_count": 92,
   "metadata": {},
   "outputs": [],
   "source": [
    "from sklearn import ensemble, metrics"
   ]
  },
  {
   "cell_type": "code",
   "execution_count": 93,
   "metadata": {},
   "outputs": [],
   "source": [
    "warnings.filterwarnings(\n",
    "    action=\"ignore\",\n",
    "    message=\"(?:.* and F-score are ill-defined|F-score is ill-defined.*)\",\n",
    "    category=metrics.classification.UndefinedMetricWarning,\n",
    ")"
   ]
  },
  {
   "cell_type": "markdown",
   "metadata": {},
   "source": [
    "Training the model is REALLY slow!"
   ]
  },
  {
   "cell_type": "code",
   "execution_count": 94,
   "metadata": {},
   "outputs": [
    {
     "name": "stderr",
     "output_type": "stream",
     "text": [
      "/usr/lib/python3.7/site-packages/sklearn/model_selection/_split.py:652: Warning: The least populated class in y has only 1 members, which is too few. The minimum number of members in any class cannot be less than n_splits=3.\n",
      "  % (min_groups, self.n_splits)), Warning)\n"
     ]
    },
    {
     "name": "stdout",
     "output_type": "stream",
     "text": [
      "CPU times: user 1h 21min 27s, sys: 3.27 s, total: 1h 21min 30s\n",
      "Wall time: 1h 21min 40s\n"
     ]
    }
   ],
   "source": [
    "%%time\n",
    "rf_models = model_selection.GridSearchCV(\n",
    "    ensemble.RandomForestClassifier(random_state=101),\n",
    "    param_grid={\n",
    "        \"n_estimators\": [10, 90],\n",
    "        \"criterion\": [\"gini\", \"entropy\"],\n",
    "    },\n",
    "    cv=model_selection.StratifiedKFold(n_splits=3,\n",
    "                                       shuffle=True,\n",
    "                                       random_state=209),\n",
    "    return_train_score=True,\n",
    "    scoring=\"f1_micro\",\n",
    ").fit(X_train, y_train, sample_weight=y_weights)"
   ]
  },
  {
   "cell_type": "markdown",
   "metadata": {},
   "source": [
    "The `X_train` matrix from the LSA matrix had $k=200$ columns\n",
    "and it took about $24$ minutes to train the random forest model.\n",
    "On the other hand, this `X_train` has $k=1000$ columns,\n",
    "so it was already expected that, in some sense,\n",
    "this could be about $5$ times slower."
   ]
  },
  {
   "cell_type": "code",
   "execution_count": 95,
   "metadata": {},
   "outputs": [
    {
     "data": {
      "text/plain": [
       "RandomForestClassifier(bootstrap=True, class_weight=None, criterion='gini',\n",
       "            max_depth=None, max_features='auto', max_leaf_nodes=None,\n",
       "            min_impurity_decrease=0.0, min_impurity_split=None,\n",
       "            min_samples_leaf=1, min_samples_split=2,\n",
       "            min_weight_fraction_leaf=0.0, n_estimators=90, n_jobs=None,\n",
       "            oob_score=False, random_state=101, verbose=0, warm_start=False)"
      ]
     },
     "execution_count": 95,
     "metadata": {},
     "output_type": "execute_result"
    }
   ],
   "source": [
    "rf_model = rf_models.best_estimator_\n",
    "rf_model"
   ]
  },
  {
   "cell_type": "markdown",
   "metadata": {},
   "source": [
    "The best model is the one based on the Gini criterion w/ $90$ estimators,\n",
    "that's the same result found with LSA."
   ]
  },
  {
   "cell_type": "code",
   "execution_count": 96,
   "metadata": {},
   "outputs": [
    {
     "data": {
      "text/plain": [
       "{'mean_fit_time': array([ 61.98457249, 576.13366882,  67.54466558, 612.91540702]),\n",
       " 'std_fit_time': array([ 9.56184308, 82.09235158,  2.12661789, 30.30351566]),\n",
       " 'mean_score_time': array([0.14903259, 0.92694616, 0.13788549, 0.86296972]),\n",
       " 'std_score_time': array([0.00464733, 0.07645017, 0.00354342, 0.10307836]),\n",
       " 'param_criterion': masked_array(data=['gini', 'gini', 'entropy', 'entropy'],\n",
       "              mask=[False, False, False, False],\n",
       "        fill_value='?',\n",
       "             dtype=object),\n",
       " 'param_n_estimators': masked_array(data=[10, 90, 10, 90],\n",
       "              mask=[False, False, False, False],\n",
       "        fill_value='?',\n",
       "             dtype=object),\n",
       " 'params': [{'criterion': 'gini', 'n_estimators': 10},\n",
       "  {'criterion': 'gini', 'n_estimators': 90},\n",
       "  {'criterion': 'entropy', 'n_estimators': 10},\n",
       "  {'criterion': 'entropy', 'n_estimators': 90}],\n",
       " 'split0_test_score': array([0.97110592, 0.97621601, 0.96706832, 0.97564822]),\n",
       " 'split1_test_score': array([0.97055658, 0.97840816, 0.97131641, 0.97669854]),\n",
       " 'split2_test_score': array([0.96999112, 0.97817536, 0.96903946, 0.97595483]),\n",
       " 'mean_test_score': array([0.97055225, 0.97759777, 0.96913893, 0.97610007]),\n",
       " 'std_test_score': array([0.00045519, 0.00098392, 0.00173679, 0.00044113]),\n",
       " 'rank_test_score': array([3, 1, 4, 2], dtype=int32),\n",
       " 'split0_train_score': array([0.99873237, 1.        , 0.9989859 , 1.        ]),\n",
       " 'split1_train_score': array([0.99886123, 1.        , 0.99826021, 1.        ]),\n",
       " 'split2_train_score': array([0.99927316, 1.        , 0.99917836, 1.        ]),\n",
       " 'mean_train_score': array([0.99895559, 1.        , 0.99880816, 1.        ]),\n",
       " 'std_train_score': array([0.00023064, 0.        , 0.00039534, 0.        ])}"
      ]
     },
     "execution_count": 96,
     "metadata": {},
     "output_type": "execute_result"
    }
   ],
   "source": [
    "rf_models.cv_results_"
   ]
  },
  {
   "cell_type": "markdown",
   "metadata": {},
   "source": [
    "When using the features coming from LSA ($k=200$),\n",
    "the score in the training folds\n",
    "were in the $99.72\\%$ to $100\\%$ range,\n",
    "and the score in the testing folds\n",
    "were in the $94.3\\%$ to $95.9\\%$ range.\n",
    "These new results (Based on `word2vec`, $k=1000$)\n",
    "with training folds in the $99.82\\%$ to $100\\%$ range,\n",
    "and testing folds in the $96.9\\%$ to $97.8\\%$ range\n",
    "look promising!"
   ]
  },
  {
   "cell_type": "code",
   "execution_count": 97,
   "metadata": {},
   "outputs": [
    {
     "name": "stdout",
     "output_type": "stream",
     "text": [
      "CPU times: user 1.18 s, sys: 23 ms, total: 1.2 s\n",
      "Wall time: 1.21 s\n"
     ]
    }
   ],
   "source": [
    "%%time\n",
    "rf_y_pred = rf_model.predict(X_test)"
   ]
  },
  {
   "cell_type": "code",
   "execution_count": 98,
   "metadata": {},
   "outputs": [
    {
     "data": {
      "text/plain": [
       "0.9834137218230141"
      ]
     },
     "execution_count": 98,
     "metadata": {},
     "output_type": "execute_result"
    }
   ],
   "source": [
    "metrics.accuracy_score(y_test, rf_y_pred)"
   ]
  },
  {
   "cell_type": "markdown",
   "metadata": {},
   "source": [
    "The accuracy was $96.5\\%$ with LSA ($k=200$).\n",
    "This new accuracy suggests that either word2vec is a better aproach,\n",
    "or that $k=1000$ columns/dimensions instead of $k=200$\n",
    "is a way better model."
   ]
  },
  {
   "cell_type": "markdown",
   "metadata": {},
   "source": [
    "Below are the same statistics created for the LSA model ($k=200$),\n",
    "for comparison."
   ]
  },
  {
   "cell_type": "code",
   "execution_count": 99,
   "metadata": {},
   "outputs": [
    {
     "name": "stdout",
     "output_type": "stream",
     "text": [
      "              precision    recall  f1-score   support\n",
      "\n",
      "          BR       0.98      1.00      0.99     16980\n",
      "          CN       0.99      0.99      0.99       426\n",
      "          PT       0.99      0.95      0.97       306\n",
      "          US       0.97      0.92      0.94       297\n",
      "          TR       1.00      0.98      0.99       255\n",
      "          AR       0.99      0.98      0.98       207\n",
      "          ES       0.97      0.89      0.93       180\n",
      "          CO       0.96      0.96      0.96       162\n",
      "          MX       1.00      0.93      0.96       160\n",
      "          IR       0.98      0.98      0.98       124\n",
      "          IN       0.98      0.98      0.98       124\n",
      "          CL       0.97      0.93      0.95       111\n",
      "          FR       0.96      0.87      0.91        83\n",
      "          IT       0.99      0.95      0.97        73\n",
      "          GB       0.96      0.87      0.92        62\n",
      "          DE       1.00      0.72      0.84        53\n",
      "          MY       1.00      0.98      0.99        52\n",
      "          PK       1.00      0.88      0.94        43\n",
      "          CA       0.92      0.80      0.86        41\n",
      "          KR       1.00      0.97      0.98        29\n",
      "          AU       1.00      0.93      0.96        27\n",
      "          EG       1.00      0.89      0.94        27\n",
      "          PL       1.00      0.88      0.94        25\n",
      "          JP       1.00      0.88      0.94        25\n",
      "          UY       1.00      0.88      0.93        24\n",
      "          RS       1.00      0.96      0.98        24\n",
      "          SA       0.96      0.96      0.96        23\n",
      "          TH       1.00      0.74      0.85        19\n",
      "          PE       0.93      0.74      0.82        19\n",
      "          TN       1.00      0.94      0.97        18\n",
      "          BE       1.00      0.72      0.84        18\n",
      "          NL       1.00      0.50      0.67        16\n",
      "          RO       1.00      0.93      0.97        15\n",
      "          CH       1.00      0.43      0.60        14\n",
      "          ZA       1.00      0.67      0.80        12\n",
      "          TW       1.00      0.67      0.80        12\n",
      "          KP       1.00      0.82      0.90        11\n",
      "          VE       1.00      0.73      0.84        11\n",
      "          DZ       1.00      0.91      0.95        11\n",
      "          CU       1.00      0.70      0.82        10\n",
      "          GR       1.00      0.60      0.75        10\n",
      "          EC       1.00      0.50      0.67        10\n",
      "          NO       1.00      0.80      0.89        10\n",
      "          SK       1.00      0.78      0.88         9\n",
      "          RU       1.00      0.50      0.67         8\n",
      "          IL       1.00      0.38      0.55         8\n",
      "          DK       1.00      0.71      0.83         7\n",
      "          AT       1.00      0.33      0.50         6\n",
      "          NG       1.00      0.33      0.50         6\n",
      "          SE       0.00      0.00      0.00         5\n",
      "          IQ       1.00      0.20      0.33         5\n",
      "          PY       1.00      0.40      0.57         5\n",
      "          LB       1.00      0.75      0.86         4\n",
      "          MZ       0.00      0.00      0.00         4\n",
      "          ID       0.75      0.75      0.75         4\n",
      "          HR       0.00      0.00      0.00         4\n",
      "          AE       1.00      0.33      0.50         3\n",
      "          LK       1.00      0.67      0.80         3\n",
      "          TA       1.00      0.67      0.80         3\n",
      "          SI       1.00      1.00      1.00         3\n",
      "\n",
      "   micro avg       0.98      0.99      0.98     20246\n",
      "   macro avg       0.94      0.73      0.81     20246\n",
      "weighted avg       0.98      0.99      0.98     20246\n",
      "\n"
     ]
    }
   ],
   "source": [
    "print(metrics.classification_report(y_test, rf_y_pred,\n",
    "                                    labels=y_counts[y_counts >= 10].index))"
   ]
  },
  {
   "cell_type": "code",
   "execution_count": 100,
   "metadata": {},
   "outputs": [],
   "source": [
    "rf_prfs_tuple = metrics.precision_recall_fscore_support(y_test, rf_y_pred,\n",
    "                                                        labels=rf_model.classes_)\n",
    "rf_prfs_df = pd.DataFrame(np.array(rf_prfs_tuple).T,\n",
    "                          index=rf_model.classes_.tolist(),\n",
    "                          columns=[\"precision\", \"recall\", \"f1score\", \"support\"])"
   ]
  },
  {
   "cell_type": "code",
   "execution_count": 101,
   "metadata": {},
   "outputs": [
    {
     "data": {
      "text/html": [
       "<div>\n",
       "<style scoped>\n",
       "    .dataframe tbody tr th:only-of-type {\n",
       "        vertical-align: middle;\n",
       "    }\n",
       "\n",
       "    .dataframe tbody tr th {\n",
       "        vertical-align: top;\n",
       "    }\n",
       "\n",
       "    .dataframe thead th {\n",
       "        text-align: right;\n",
       "    }\n",
       "</style>\n",
       "<table border=\"1\" class=\"dataframe\">\n",
       "  <thead>\n",
       "    <tr style=\"text-align: right;\">\n",
       "      <th></th>\n",
       "      <th>precision</th>\n",
       "      <th>recall</th>\n",
       "      <th>f1score</th>\n",
       "      <th>support</th>\n",
       "      <th>support_proportion</th>\n",
       "    </tr>\n",
       "  </thead>\n",
       "  <tbody>\n",
       "    <tr>\n",
       "      <th>CN</th>\n",
       "      <td>0.990632</td>\n",
       "      <td>0.992958</td>\n",
       "      <td>0.991794</td>\n",
       "      <td>426.0</td>\n",
       "      <td>0.020972</td>\n",
       "    </tr>\n",
       "    <tr>\n",
       "      <th>BR</th>\n",
       "      <td>0.983701</td>\n",
       "      <td>0.998763</td>\n",
       "      <td>0.991175</td>\n",
       "      <td>16980.0</td>\n",
       "      <td>0.835918</td>\n",
       "    </tr>\n",
       "    <tr>\n",
       "      <th>MY</th>\n",
       "      <td>1.000000</td>\n",
       "      <td>0.980769</td>\n",
       "      <td>0.990291</td>\n",
       "      <td>52.0</td>\n",
       "      <td>0.002560</td>\n",
       "    </tr>\n",
       "    <tr>\n",
       "      <th>TR</th>\n",
       "      <td>0.996032</td>\n",
       "      <td>0.984314</td>\n",
       "      <td>0.990138</td>\n",
       "      <td>255.0</td>\n",
       "      <td>0.012554</td>\n",
       "    </tr>\n",
       "    <tr>\n",
       "      <th>KR</th>\n",
       "      <td>1.000000</td>\n",
       "      <td>0.965517</td>\n",
       "      <td>0.982456</td>\n",
       "      <td>29.0</td>\n",
       "      <td>0.001428</td>\n",
       "    </tr>\n",
       "    <tr>\n",
       "      <th>AR</th>\n",
       "      <td>0.985366</td>\n",
       "      <td>0.975845</td>\n",
       "      <td>0.980583</td>\n",
       "      <td>207.0</td>\n",
       "      <td>0.010191</td>\n",
       "    </tr>\n",
       "    <tr>\n",
       "      <th>IR</th>\n",
       "      <td>0.976000</td>\n",
       "      <td>0.983871</td>\n",
       "      <td>0.979920</td>\n",
       "      <td>124.0</td>\n",
       "      <td>0.006104</td>\n",
       "    </tr>\n",
       "    <tr>\n",
       "      <th>IN</th>\n",
       "      <td>0.983740</td>\n",
       "      <td>0.975806</td>\n",
       "      <td>0.979757</td>\n",
       "      <td>124.0</td>\n",
       "      <td>0.006104</td>\n",
       "    </tr>\n",
       "    <tr>\n",
       "      <th>RS</th>\n",
       "      <td>1.000000</td>\n",
       "      <td>0.958333</td>\n",
       "      <td>0.978723</td>\n",
       "      <td>24.0</td>\n",
       "      <td>0.001182</td>\n",
       "    </tr>\n",
       "    <tr>\n",
       "      <th>PT</th>\n",
       "      <td>0.993197</td>\n",
       "      <td>0.954248</td>\n",
       "      <td>0.973333</td>\n",
       "      <td>306.0</td>\n",
       "      <td>0.015064</td>\n",
       "    </tr>\n",
       "    <tr>\n",
       "      <th>TN</th>\n",
       "      <td>1.000000</td>\n",
       "      <td>0.944444</td>\n",
       "      <td>0.971429</td>\n",
       "      <td>18.0</td>\n",
       "      <td>0.000886</td>\n",
       "    </tr>\n",
       "    <tr>\n",
       "      <th>RO</th>\n",
       "      <td>1.000000</td>\n",
       "      <td>0.933333</td>\n",
       "      <td>0.965517</td>\n",
       "      <td>15.0</td>\n",
       "      <td>0.000738</td>\n",
       "    </tr>\n",
       "    <tr>\n",
       "      <th>IT</th>\n",
       "      <td>0.985714</td>\n",
       "      <td>0.945205</td>\n",
       "      <td>0.965035</td>\n",
       "      <td>73.0</td>\n",
       "      <td>0.003594</td>\n",
       "    </tr>\n",
       "    <tr>\n",
       "      <th>AU</th>\n",
       "      <td>1.000000</td>\n",
       "      <td>0.925926</td>\n",
       "      <td>0.961538</td>\n",
       "      <td>27.0</td>\n",
       "      <td>0.001329</td>\n",
       "    </tr>\n",
       "    <tr>\n",
       "      <th>MX</th>\n",
       "      <td>1.000000</td>\n",
       "      <td>0.925000</td>\n",
       "      <td>0.961039</td>\n",
       "      <td>160.0</td>\n",
       "      <td>0.007877</td>\n",
       "    </tr>\n",
       "    <tr>\n",
       "      <th>CO</th>\n",
       "      <td>0.957055</td>\n",
       "      <td>0.962963</td>\n",
       "      <td>0.960000</td>\n",
       "      <td>162.0</td>\n",
       "      <td>0.007975</td>\n",
       "    </tr>\n",
       "    <tr>\n",
       "      <th>SA</th>\n",
       "      <td>0.956522</td>\n",
       "      <td>0.956522</td>\n",
       "      <td>0.956522</td>\n",
       "      <td>23.0</td>\n",
       "      <td>0.001132</td>\n",
       "    </tr>\n",
       "    <tr>\n",
       "      <th>DZ</th>\n",
       "      <td>1.000000</td>\n",
       "      <td>0.909091</td>\n",
       "      <td>0.952381</td>\n",
       "      <td>11.0</td>\n",
       "      <td>0.000542</td>\n",
       "    </tr>\n",
       "    <tr>\n",
       "      <th>CL</th>\n",
       "      <td>0.971698</td>\n",
       "      <td>0.927928</td>\n",
       "      <td>0.949309</td>\n",
       "      <td>111.0</td>\n",
       "      <td>0.005464</td>\n",
       "    </tr>\n",
       "    <tr>\n",
       "      <th>US</th>\n",
       "      <td>0.968198</td>\n",
       "      <td>0.922559</td>\n",
       "      <td>0.944828</td>\n",
       "      <td>297.0</td>\n",
       "      <td>0.014621</td>\n",
       "    </tr>\n",
       "    <tr>\n",
       "      <th>EG</th>\n",
       "      <td>1.000000</td>\n",
       "      <td>0.888889</td>\n",
       "      <td>0.941176</td>\n",
       "      <td>27.0</td>\n",
       "      <td>0.001329</td>\n",
       "    </tr>\n",
       "    <tr>\n",
       "      <th>PK</th>\n",
       "      <td>1.000000</td>\n",
       "      <td>0.883721</td>\n",
       "      <td>0.938272</td>\n",
       "      <td>43.0</td>\n",
       "      <td>0.002117</td>\n",
       "    </tr>\n",
       "    <tr>\n",
       "      <th>JP</th>\n",
       "      <td>1.000000</td>\n",
       "      <td>0.880000</td>\n",
       "      <td>0.936170</td>\n",
       "      <td>25.0</td>\n",
       "      <td>0.001231</td>\n",
       "    </tr>\n",
       "    <tr>\n",
       "      <th>PL</th>\n",
       "      <td>1.000000</td>\n",
       "      <td>0.880000</td>\n",
       "      <td>0.936170</td>\n",
       "      <td>25.0</td>\n",
       "      <td>0.001231</td>\n",
       "    </tr>\n",
       "    <tr>\n",
       "      <th>UY</th>\n",
       "      <td>1.000000</td>\n",
       "      <td>0.875000</td>\n",
       "      <td>0.933333</td>\n",
       "      <td>24.0</td>\n",
       "      <td>0.001182</td>\n",
       "    </tr>\n",
       "    <tr>\n",
       "      <th>ES</th>\n",
       "      <td>0.969697</td>\n",
       "      <td>0.888889</td>\n",
       "      <td>0.927536</td>\n",
       "      <td>180.0</td>\n",
       "      <td>0.008861</td>\n",
       "    </tr>\n",
       "    <tr>\n",
       "      <th>GB</th>\n",
       "      <td>0.964286</td>\n",
       "      <td>0.870968</td>\n",
       "      <td>0.915254</td>\n",
       "      <td>62.0</td>\n",
       "      <td>0.003052</td>\n",
       "    </tr>\n",
       "    <tr>\n",
       "      <th>FR</th>\n",
       "      <td>0.960000</td>\n",
       "      <td>0.867470</td>\n",
       "      <td>0.911392</td>\n",
       "      <td>83.0</td>\n",
       "      <td>0.004086</td>\n",
       "    </tr>\n",
       "    <tr>\n",
       "      <th>KP</th>\n",
       "      <td>1.000000</td>\n",
       "      <td>0.818182</td>\n",
       "      <td>0.900000</td>\n",
       "      <td>11.0</td>\n",
       "      <td>0.000542</td>\n",
       "    </tr>\n",
       "    <tr>\n",
       "      <th>NO</th>\n",
       "      <td>1.000000</td>\n",
       "      <td>0.800000</td>\n",
       "      <td>0.888889</td>\n",
       "      <td>10.0</td>\n",
       "      <td>0.000492</td>\n",
       "    </tr>\n",
       "    <tr>\n",
       "      <th>SK</th>\n",
       "      <td>1.000000</td>\n",
       "      <td>0.777778</td>\n",
       "      <td>0.875000</td>\n",
       "      <td>9.0</td>\n",
       "      <td>0.000443</td>\n",
       "    </tr>\n",
       "    <tr>\n",
       "      <th>CA</th>\n",
       "      <td>0.916667</td>\n",
       "      <td>0.804878</td>\n",
       "      <td>0.857143</td>\n",
       "      <td>41.0</td>\n",
       "      <td>0.002018</td>\n",
       "    </tr>\n",
       "    <tr>\n",
       "      <th>TH</th>\n",
       "      <td>1.000000</td>\n",
       "      <td>0.736842</td>\n",
       "      <td>0.848485</td>\n",
       "      <td>19.0</td>\n",
       "      <td>0.000935</td>\n",
       "    </tr>\n",
       "    <tr>\n",
       "      <th>VE</th>\n",
       "      <td>1.000000</td>\n",
       "      <td>0.727273</td>\n",
       "      <td>0.842105</td>\n",
       "      <td>11.0</td>\n",
       "      <td>0.000542</td>\n",
       "    </tr>\n",
       "    <tr>\n",
       "      <th>BE</th>\n",
       "      <td>1.000000</td>\n",
       "      <td>0.722222</td>\n",
       "      <td>0.838710</td>\n",
       "      <td>18.0</td>\n",
       "      <td>0.000886</td>\n",
       "    </tr>\n",
       "    <tr>\n",
       "      <th>DE</th>\n",
       "      <td>1.000000</td>\n",
       "      <td>0.716981</td>\n",
       "      <td>0.835165</td>\n",
       "      <td>53.0</td>\n",
       "      <td>0.002609</td>\n",
       "    </tr>\n",
       "    <tr>\n",
       "      <th>DK</th>\n",
       "      <td>1.000000</td>\n",
       "      <td>0.714286</td>\n",
       "      <td>0.833333</td>\n",
       "      <td>7.0</td>\n",
       "      <td>0.000345</td>\n",
       "    </tr>\n",
       "    <tr>\n",
       "      <th>PE</th>\n",
       "      <td>0.933333</td>\n",
       "      <td>0.736842</td>\n",
       "      <td>0.823529</td>\n",
       "      <td>19.0</td>\n",
       "      <td>0.000935</td>\n",
       "    </tr>\n",
       "    <tr>\n",
       "      <th>CU</th>\n",
       "      <td>1.000000</td>\n",
       "      <td>0.700000</td>\n",
       "      <td>0.823529</td>\n",
       "      <td>10.0</td>\n",
       "      <td>0.000492</td>\n",
       "    </tr>\n",
       "    <tr>\n",
       "      <th>TW</th>\n",
       "      <td>1.000000</td>\n",
       "      <td>0.666667</td>\n",
       "      <td>0.800000</td>\n",
       "      <td>12.0</td>\n",
       "      <td>0.000591</td>\n",
       "    </tr>\n",
       "    <tr>\n",
       "      <th>ZA</th>\n",
       "      <td>1.000000</td>\n",
       "      <td>0.666667</td>\n",
       "      <td>0.800000</td>\n",
       "      <td>12.0</td>\n",
       "      <td>0.000591</td>\n",
       "    </tr>\n",
       "    <tr>\n",
       "      <th>GR</th>\n",
       "      <td>1.000000</td>\n",
       "      <td>0.600000</td>\n",
       "      <td>0.750000</td>\n",
       "      <td>10.0</td>\n",
       "      <td>0.000492</td>\n",
       "    </tr>\n",
       "    <tr>\n",
       "      <th>NL</th>\n",
       "      <td>1.000000</td>\n",
       "      <td>0.500000</td>\n",
       "      <td>0.666667</td>\n",
       "      <td>16.0</td>\n",
       "      <td>0.000788</td>\n",
       "    </tr>\n",
       "    <tr>\n",
       "      <th>EC</th>\n",
       "      <td>1.000000</td>\n",
       "      <td>0.500000</td>\n",
       "      <td>0.666667</td>\n",
       "      <td>10.0</td>\n",
       "      <td>0.000492</td>\n",
       "    </tr>\n",
       "    <tr>\n",
       "      <th>RU</th>\n",
       "      <td>1.000000</td>\n",
       "      <td>0.500000</td>\n",
       "      <td>0.666667</td>\n",
       "      <td>8.0</td>\n",
       "      <td>0.000394</td>\n",
       "    </tr>\n",
       "    <tr>\n",
       "      <th>CH</th>\n",
       "      <td>1.000000</td>\n",
       "      <td>0.428571</td>\n",
       "      <td>0.600000</td>\n",
       "      <td>14.0</td>\n",
       "      <td>0.000689</td>\n",
       "    </tr>\n",
       "    <tr>\n",
       "      <th>IL</th>\n",
       "      <td>1.000000</td>\n",
       "      <td>0.375000</td>\n",
       "      <td>0.545455</td>\n",
       "      <td>8.0</td>\n",
       "      <td>0.000394</td>\n",
       "    </tr>\n",
       "    <tr>\n",
       "      <th>AT</th>\n",
       "      <td>1.000000</td>\n",
       "      <td>0.333333</td>\n",
       "      <td>0.500000</td>\n",
       "      <td>6.0</td>\n",
       "      <td>0.000295</td>\n",
       "    </tr>\n",
       "    <tr>\n",
       "      <th>NG</th>\n",
       "      <td>1.000000</td>\n",
       "      <td>0.333333</td>\n",
       "      <td>0.500000</td>\n",
       "      <td>6.0</td>\n",
       "      <td>0.000295</td>\n",
       "    </tr>\n",
       "  </tbody>\n",
       "</table>\n",
       "</div>"
      ],
      "text/plain": [
       "    precision    recall   f1score  support  support_proportion\n",
       "CN   0.990632  0.992958  0.991794    426.0            0.020972\n",
       "BR   0.983701  0.998763  0.991175  16980.0            0.835918\n",
       "MY   1.000000  0.980769  0.990291     52.0            0.002560\n",
       "TR   0.996032  0.984314  0.990138    255.0            0.012554\n",
       "KR   1.000000  0.965517  0.982456     29.0            0.001428\n",
       "AR   0.985366  0.975845  0.980583    207.0            0.010191\n",
       "IR   0.976000  0.983871  0.979920    124.0            0.006104\n",
       "IN   0.983740  0.975806  0.979757    124.0            0.006104\n",
       "RS   1.000000  0.958333  0.978723     24.0            0.001182\n",
       "PT   0.993197  0.954248  0.973333    306.0            0.015064\n",
       "TN   1.000000  0.944444  0.971429     18.0            0.000886\n",
       "RO   1.000000  0.933333  0.965517     15.0            0.000738\n",
       "IT   0.985714  0.945205  0.965035     73.0            0.003594\n",
       "AU   1.000000  0.925926  0.961538     27.0            0.001329\n",
       "MX   1.000000  0.925000  0.961039    160.0            0.007877\n",
       "CO   0.957055  0.962963  0.960000    162.0            0.007975\n",
       "SA   0.956522  0.956522  0.956522     23.0            0.001132\n",
       "DZ   1.000000  0.909091  0.952381     11.0            0.000542\n",
       "CL   0.971698  0.927928  0.949309    111.0            0.005464\n",
       "US   0.968198  0.922559  0.944828    297.0            0.014621\n",
       "EG   1.000000  0.888889  0.941176     27.0            0.001329\n",
       "PK   1.000000  0.883721  0.938272     43.0            0.002117\n",
       "JP   1.000000  0.880000  0.936170     25.0            0.001231\n",
       "PL   1.000000  0.880000  0.936170     25.0            0.001231\n",
       "UY   1.000000  0.875000  0.933333     24.0            0.001182\n",
       "ES   0.969697  0.888889  0.927536    180.0            0.008861\n",
       "GB   0.964286  0.870968  0.915254     62.0            0.003052\n",
       "FR   0.960000  0.867470  0.911392     83.0            0.004086\n",
       "KP   1.000000  0.818182  0.900000     11.0            0.000542\n",
       "NO   1.000000  0.800000  0.888889     10.0            0.000492\n",
       "SK   1.000000  0.777778  0.875000      9.0            0.000443\n",
       "CA   0.916667  0.804878  0.857143     41.0            0.002018\n",
       "TH   1.000000  0.736842  0.848485     19.0            0.000935\n",
       "VE   1.000000  0.727273  0.842105     11.0            0.000542\n",
       "BE   1.000000  0.722222  0.838710     18.0            0.000886\n",
       "DE   1.000000  0.716981  0.835165     53.0            0.002609\n",
       "DK   1.000000  0.714286  0.833333      7.0            0.000345\n",
       "PE   0.933333  0.736842  0.823529     19.0            0.000935\n",
       "CU   1.000000  0.700000  0.823529     10.0            0.000492\n",
       "TW   1.000000  0.666667  0.800000     12.0            0.000591\n",
       "ZA   1.000000  0.666667  0.800000     12.0            0.000591\n",
       "GR   1.000000  0.600000  0.750000     10.0            0.000492\n",
       "NL   1.000000  0.500000  0.666667     16.0            0.000788\n",
       "EC   1.000000  0.500000  0.666667     10.0            0.000492\n",
       "RU   1.000000  0.500000  0.666667      8.0            0.000394\n",
       "CH   1.000000  0.428571  0.600000     14.0            0.000689\n",
       "IL   1.000000  0.375000  0.545455      8.0            0.000394\n",
       "AT   1.000000  0.333333  0.500000      6.0            0.000295\n",
       "NG   1.000000  0.333333  0.500000      6.0            0.000295"
      ]
     },
     "execution_count": 101,
     "metadata": {},
     "output_type": "execute_result"
    }
   ],
   "source": [
    "rf_prfs_df_top = rf_prfs_df[rf_prfs_df[\"support\"] > 5] \\\n",
    "    .sort_values([\"f1score\", \"support\"], ascending=False) \\\n",
    "    .assign(support_proportion=lambda df: df[\"support\"] / rf_prfs_df[\"support\"].sum())\n",
    "rf_prfs_df_top"
   ]
  },
  {
   "cell_type": "code",
   "execution_count": 102,
   "metadata": {},
   "outputs": [
    {
     "data": {
      "text/plain": [
       "precision               0.989629\n",
       "recall                  0.802392\n",
       "f1score                 0.871968\n",
       "support               412.306122\n",
       "support_proportion      0.020298\n",
       "dtype: float64"
      ]
     },
     "execution_count": 102,
     "metadata": {},
     "output_type": "execute_result"
    }
   ],
   "source": [
    "rf_prfs_df_top.mean()"
   ]
  },
  {
   "cell_type": "markdown",
   "metadata": {},
   "source": [
    "These latest numbers, the macro averages, were,\n",
    "in the LSA model with $k=200$:\n",
    "\n",
    "- Precision = $96.9\\%$\n",
    "- Recall = $66.6\\%$\n",
    "- F1 = $76.4\\%$"
   ]
  },
  {
   "cell_type": "code",
   "execution_count": 103,
   "metadata": {},
   "outputs": [
    {
     "data": {
      "image/png": "[encoded data removed]",
      "text/plain": [
       "<Figure size 1152x144 with 1 Axes>"
      ]
     },
     "metadata": {
      "needs_background": "light"
     },
     "output_type": "display_data"
    }
   ],
   "source": [
    "rf_support_log = np.log2(rf_prfs_df_top[\"support\"])\n",
    "rf_prfs_image_df = rf_prfs_df_top.assign(support_log=rf_support_log / rf_support_log.max()) \\\n",
    "                                 .drop(columns=[\"support\", \"support_proportion\"])\n",
    "fig, ax = plt.subplots(figsize=(16, 2))\n",
    "ax.grid(False)\n",
    "ax.imshow(rf_prfs_image_df.T, cmap=plt.cm.gray_r)\n",
    "ax.set(\n",
    "    title=\"Precision, recall, F1 score and normalized $log(support)$\",\n",
    "    xticks=range(rf_prfs_image_df.shape[0]),\n",
    "    xticklabels=rf_prfs_image_df.index,\n",
    "    yticks=range(rf_prfs_image_df.shape[1]),\n",
    "    yticklabels=rf_prfs_image_df.columns,\n",
    ");"
   ]
  },
  {
   "cell_type": "markdown",
   "metadata": {},
   "source": [
    "It's \"darker\" than the LSA row.\n",
    "Some great results include **GB** and **US**,\n",
    "which performed way better in this new model.\n",
    "How many misclassifications are there?"
   ]
  },
  {
   "cell_type": "code",
   "execution_count": 104,
   "metadata": {},
   "outputs": [
    {
     "name": "stdout",
     "output_type": "stream",
     "text": [
      "337 out of 20318\n"
     ]
    }
   ],
   "source": [
    "print(f\"{sum(rf_y_pred != y_test)} out of {rf_y_pred.shape[0]}\")"
   ]
  },
  {
   "cell_type": "markdown",
   "metadata": {},
   "source": [
    "The precision row isn't $100\\%$ black, i.e.,\n",
    "there are some false positives but they're small\n",
    "when compared with the country support.\n",
    "Whose are they?"
   ]
  },
  {
   "cell_type": "code",
   "execution_count": 105,
   "metadata": {},
   "outputs": [
    {
     "data": {
      "text/plain": [
       "BR    281\n",
       "US      9\n",
       "CO      7\n",
       "ES      5\n",
       "CN      4\n",
       "NI      4\n",
       "IR      3\n",
       "CL      3\n",
       "FR      3\n",
       "CA      3\n",
       "AR      3\n",
       "PT      2\n",
       "GB      2\n",
       "IN      2\n",
       "ID      1\n",
       "IT      1\n",
       "TR      1\n",
       "PE      1\n",
       "SA      1\n",
       "CR      1\n",
       "dtype: int64"
      ]
     },
     "execution_count": 105,
     "metadata": {},
     "output_type": "execute_result"
    }
   ],
   "source": [
    "pd.Series(rf_y_pred[rf_y_pred != y_test]).value_counts()"
   ]
  },
  {
   "cell_type": "markdown",
   "metadata": {},
   "source": [
    "All other country names were never a false positive.\n",
    "How about false negatives, how many countries have been missed?\n",
    "Which are the top $10$ countries with more false negatives?"
   ]
  },
  {
   "cell_type": "code",
   "execution_count": 106,
   "metadata": {},
   "outputs": [
    {
     "name": "stdout",
     "output_type": "stream",
     "text": [
      "91\n"
     ]
    },
    {
     "data": {
      "text/plain": [
       "US    23\n",
       "BR    21\n",
       "ES    20\n",
       "DE    15\n",
       "PT    14\n",
       "MX    12\n",
       "FR    11\n",
       "NL     8\n",
       "CL     8\n",
       "CA     8\n",
       "Name: addr_country_code, dtype: int64"
      ]
     },
     "execution_count": 106,
     "metadata": {},
     "output_type": "execute_result"
    }
   ],
   "source": [
    "y_fn_count = y_test[rf_y_pred != y_test].value_counts()\n",
    "print(len(y_fn_count))\n",
    "y_fn_count.head(10)"
   ]
  },
  {
   "cell_type": "markdown",
   "metadata": {},
   "source": [
    "$281$ names classified as Brazil aren't Brazil,\n",
    "and $21$ actual Brazil entries were misclassified.\n",
    "$23$ United States entries were misclassified,\n",
    "whereas just $9$ names classified as US aren't from US.\n",
    "\n",
    "There might be actual misclassifications,\n",
    "but we're perhaps already dealing with the data noise,\n",
    "and we should take care not to overfit.\n",
    "It's known that\n",
    "sometimes the country is wrong in an entry (noise),\n",
    "these \"false positives\" and \"false negatives\"\n",
    "should be manually inspected for a proper interpretation,\n",
    "but that's not the goal of this experiment/notebook."
   ]
  },
  {
   "cell_type": "markdown",
   "metadata": {},
   "source": [
    "That's all about the testing set.\n",
    "How many training examples are misclassified?"
   ]
  },
  {
   "cell_type": "code",
   "execution_count": 107,
   "metadata": {},
   "outputs": [
    {
     "name": "stdout",
     "output_type": "stream",
     "text": [
      "0 out of 47406\n"
     ]
    }
   ],
   "source": [
    "print(f\"{sum(rf_model.predict(X_train) != y_train)} out of {len(y_train)}\")"
   ]
  },
  {
   "cell_type": "markdown",
   "metadata": {},
   "source": [
    "## Fair comparison"
   ]
  },
  {
   "cell_type": "markdown",
   "metadata": {},
   "source": [
    "It's quite unfair that\n",
    "the number of dimensions in each model is different.\n",
    "We can't say LSA is worse than Word2Vec by this experiment,\n",
    "we can just say that this Word2Vec with these parameters\n",
    "got a better result than LSA with other parameters.\n",
    "The difference in the number of dimensions is huge,\n",
    "what would happen if the document vector from the `word2vec` model\n",
    "had the same number of dimensions?\n",
    "That is, $k=200$ values/dimensions instead of $k=1000$?"
   ]
  },
  {
   "cell_type": "markdown",
   "metadata": {},
   "source": [
    "Now we don't need to apply the whole cross validation stuff\n",
    "on a grid wiht several input parameters,\n",
    "it suffices to have just the parameters we've previously found\n",
    "in both models (LSA with $k=200$ and Word2Vec with $k=1000$).\n",
    "Also, we don't need to run all those statistics again,\n",
    "it suffices to have the plot and some summary\n",
    "like the overall accuracy\n",
    "and the macro averages for a certain support threshold,\n",
    "and that's what the function below does."
   ]
  },
  {
   "cell_type": "code",
   "execution_count": 108,
   "metadata": {},
   "outputs": [],
   "source": [
    "def show_stats(model, Xt, yt, min_support=6):\n",
    "    yp = model.predict(Xt)\n",
    "    print(f\"Accuracy: {metrics.accuracy_score(yt, yp)}\")\n",
    "    prfs_df = pd.DataFrame(\n",
    "        metrics.precision_recall_fscore_support(yt, yp, labels=model.classes_),\n",
    "        index=[\"precision\", \"recall\", \"f1score\", \"support\"],\n",
    "        columns=rf200_model.classes_.tolist(),\n",
    "    ).T\n",
    "    prfs_df_top = prfs_df[prfs_df[\"support\"] >= min_support]\n",
    "    slog2 = np.log2(prfs_df_top[\"support\"])\n",
    "    prfs_image_df = prfs_df_top.assign(support_log=slog2 / slog2.max()) \\\n",
    "                               .drop(columns=[\"support\"]) \\\n",
    "                               .sort_values(by=\"f1score\", ascending=False)\n",
    "    fig, ax = plt.subplots(figsize=(16, 2))\n",
    "    ax.grid(False)\n",
    "    ax.imshow(prfs_image_df.T, cmap=plt.cm.gray_r)\n",
    "    ax.set(\n",
    "        title=\"Precision, recall, F1 score and normalized $log(support)$\",\n",
    "        xticks=range(prfs_image_df.shape[0]),\n",
    "        xticklabels=prfs_image_df.index,\n",
    "        yticks=range(prfs_image_df.shape[1]),\n",
    "        yticklabels=prfs_image_df.columns,\n",
    "    )\n",
    "    return prfs_df_top.drop(columns=[\"support\"]).mean()"
   ]
  },
  {
   "cell_type": "markdown",
   "metadata": {},
   "source": [
    "### Document vectors based on `word2vec`, $k=200$"
   ]
  },
  {
   "cell_type": "markdown",
   "metadata": {},
   "source": [
    "Finding just the $200$ eigenvectors\n",
    "with the highest absolute eigenvalues is faster."
   ]
  },
  {
   "cell_type": "code",
   "execution_count": 109,
   "metadata": {},
   "outputs": [
    {
     "name": "stdout",
     "output_type": "stream",
     "text": [
      "CPU times: user 5min 11s, sys: 744 ms, total: 5min 11s\n",
      "Wall time: 1min 29s\n"
     ]
    },
    {
     "data": {
      "text/plain": [
       "(102089, 200)"
      ]
     },
     "execution_count": 109,
     "metadata": {},
     "output_type": "execute_result"
    }
   ],
   "source": [
    "np.random.seed(28934)\n",
    "%time eigvals200_minus1, u200 = sla.eigsh(sm_nodiag, v0=v0, k=200)\n",
    "u200.shape"
   ]
  },
  {
   "cell_type": "markdown",
   "metadata": {},
   "source": [
    "How much information does this model retain/keep?"
   ]
  },
  {
   "cell_type": "code",
   "execution_count": 110,
   "metadata": {},
   "outputs": [
    {
     "data": {
      "text/plain": [
       "(1789.2423, 634.0961162319127, 0.35439365190519734)"
      ]
     },
     "execution_count": 110,
     "metadata": {},
     "output_type": "execute_result"
    }
   ],
   "source": [
    "frob200_after = np.sqrt(((eigvals200_minus1 + 1) ** 2).sum())\n",
    "frob_before, frob200_after, frob200_after / frob_before"
   ]
  },
  {
   "cell_type": "markdown",
   "metadata": {},
   "source": [
    "With $k=200$, we're retaining just $35.4\\%$ of the information\n",
    "(Frobenius norm).\n",
    "With $k=1000$, we have been retaining of $53.9\\%$."
   ]
  },
  {
   "cell_type": "code",
   "execution_count": 111,
   "metadata": {},
   "outputs": [],
   "source": [
    "X200 = pd.DataFrame(bow_corpus_csc.T @ u200, index=dataset.index)\n",
    "X200_train = X200.loc[y_train.index]\n",
    "X200_test = X200.loc[y_test.index]"
   ]
  },
  {
   "cell_type": "markdown",
   "metadata": {},
   "source": [
    "We don't need to tune hyperparameters:\n",
    "let's simply use the ones we've found in the previous cases."
   ]
  },
  {
   "cell_type": "code",
   "execution_count": 112,
   "metadata": {},
   "outputs": [
    {
     "name": "stdout",
     "output_type": "stream",
     "text": [
      "CPU times: user 4min 16s, sys: 113 ms, total: 4min 16s\n",
      "Wall time: 4min 17s\n"
     ]
    }
   ],
   "source": [
    "%%time\n",
    "rf200_model = ensemble.RandomForestClassifier(\n",
    "    random_state=101,\n",
    "    n_estimators=90,\n",
    "    criterion=\"gini\"\n",
    ").fit(X200_train, y_train, sample_weight=y_weights)"
   ]
  },
  {
   "cell_type": "markdown",
   "metadata": {},
   "source": [
    "Macro averages for $support \\ge 5$ and accuracy:"
   ]
  },
  {
   "cell_type": "code",
   "execution_count": 113,
   "metadata": {},
   "outputs": [
    {
     "name": "stdout",
     "output_type": "stream",
     "text": [
      "Accuracy: 0.9848410276602028\n"
     ]
    },
    {
     "data": {
      "text/plain": [
       "precision    0.960086\n",
       "recall       0.787883\n",
       "f1score      0.845477\n",
       "dtype: float64"
      ]
     },
     "execution_count": 113,
     "metadata": {},
     "output_type": "execute_result"
    },
    {
     "data": {
      "image/png": "[encoded data removed]",
      "text/plain": [
       "<Figure size 1152x144 with 1 Axes>"
      ]
     },
     "metadata": {
      "needs_background": "light"
     },
     "output_type": "display_data"
    }
   ],
   "source": [
    "show_stats(rf200_model, X200_test, y_test)"
   ]
  },
  {
   "cell_type": "markdown",
   "metadata": {},
   "source": [
    "### Document vectors based on LSA, $k=1000$"
   ]
  },
  {
   "cell_type": "markdown",
   "metadata": {},
   "source": [
    "This notebook isn't about LSA,\n",
    "this is made based on the code from the previous experiment\n",
    "just to create a comparison with `word2vec` results with $k=1000$."
   ]
  },
  {
   "cell_type": "code",
   "execution_count": 114,
   "metadata": {},
   "outputs": [],
   "source": [
    "from gensim.models import LsiModel"
   ]
  },
  {
   "cell_type": "code",
   "execution_count": 115,
   "metadata": {},
   "outputs": [
    {
     "name": "stderr",
     "output_type": "stream",
     "text": [
      "/usr/lib/python3.7/site-packages/gensim/matutils.py:502: FutureWarning: arrays to stack must be passed as a \"sequence\" type such as list or tuple. Support for non-sequence iterables such as generators is deprecated as of NumPy 1.16 and will raise an error in the future.\n",
      "  result = np.column_stack(sparse2full(doc, num_terms) for doc in corpus)\n"
     ]
    },
    {
     "name": "stdout",
     "output_type": "stream",
     "text": [
      "CPU times: user 22min 7s, sys: 1min 29s, total: 23min 36s\n",
      "Wall time: 7min 57s\n"
     ]
    }
   ],
   "source": [
    "%%time\n",
    "tfidf_corpus = TfidfModel(bow_corpus)[bow_corpus]\n",
    "lsi = LsiModel(tfidf_corpus, id2word=dictionary, num_topics=1000)\n",
    "lsi_corpus = lsi[tfidf_corpus]\n",
    "lsi_dense = corpus2dense(lsi_corpus, num_terms=lsi.num_topics)"
   ]
  },
  {
   "cell_type": "code",
   "execution_count": 116,
   "metadata": {},
   "outputs": [],
   "source": [
    "df_lsi = pd.DataFrame(lsi_dense.T / lsi.projection.s[None, :],\n",
    "                      index=dataset.index)\n",
    "X_lsi = df_lsi[is_filled]\n",
    "X_lsi_train = X_lsi.loc[y_train.index]\n",
    "X_lsi_test = X_lsi.loc[y_test.index]"
   ]
  },
  {
   "cell_type": "code",
   "execution_count": 117,
   "metadata": {},
   "outputs": [
    {
     "name": "stdout",
     "output_type": "stream",
     "text": [
      "CPU times: user 9min 16s, sys: 290 ms, total: 9min 16s\n",
      "Wall time: 9min 20s\n"
     ]
    }
   ],
   "source": [
    "%%time\n",
    "rf_lsi_model = ensemble.RandomForestClassifier(\n",
    "    random_state=101,\n",
    "    n_estimators=90,\n",
    "    criterion=\"gini\"\n",
    ").fit(X_lsi_train, y_train, sample_weight=y_weights)"
   ]
  },
  {
   "cell_type": "markdown",
   "metadata": {},
   "source": [
    "Macro averages for $support \\ge 5$ and accuracy:"
   ]
  },
  {
   "cell_type": "code",
   "execution_count": 118,
   "metadata": {},
   "outputs": [
    {
     "name": "stdout",
     "output_type": "stream",
     "text": [
      "Accuracy: 0.9602323063293631\n"
     ]
    },
    {
     "data": {
      "text/plain": [
       "precision    0.991185\n",
       "recall       0.718037\n",
       "f1score      0.815065\n",
       "dtype: float64"
      ]
     },
     "execution_count": 118,
     "metadata": {},
     "output_type": "execute_result"
    },
    {
     "data": {
      "image/png": "[encoded data removed]",
      "text/plain": [
       "<Figure size 1152x144 with 1 Axes>"
      ]
     },
     "metadata": {
      "needs_background": "light"
     },
     "output_type": "display_data"
    }
   ],
   "source": [
    "show_stats(rf_lsi_model, X_lsi_test, y_test)"
   ]
  },
  {
   "cell_type": "markdown",
   "metadata": {},
   "source": [
    "### Summary"
   ]
  },
  {
   "cell_type": "code",
   "execution_count": 119,
   "metadata": {},
   "outputs": [
    {
     "data": {
      "text/html": [
       "<div>\n",
       "<style scoped>\n",
       "    .dataframe tbody tr th:only-of-type {\n",
       "        vertical-align: middle;\n",
       "    }\n",
       "\n",
       "    .dataframe tbody tr th {\n",
       "        vertical-align: top;\n",
       "    }\n",
       "\n",
       "    .dataframe thead th {\n",
       "        text-align: right;\n",
       "    }\n",
       "</style>\n",
       "<table border=\"1\" class=\"dataframe\">\n",
       "  <thead>\n",
       "    <tr style=\"text-align: right;\">\n",
       "      <th></th>\n",
       "      <th>LSA 200</th>\n",
       "      <th>LSA 1000</th>\n",
       "      <th>Word2Vec 200</th>\n",
       "      <th>Word2Vec 1000</th>\n",
       "    </tr>\n",
       "  </thead>\n",
       "  <tbody>\n",
       "    <tr>\n",
       "      <th>accuracy</th>\n",
       "      <td>0.965302</td>\n",
       "      <td>0.960232</td>\n",
       "      <td>0.984841</td>\n",
       "      <td>0.983414</td>\n",
       "    </tr>\n",
       "    <tr>\n",
       "      <th>f1score</th>\n",
       "      <td>0.763888</td>\n",
       "      <td>0.815065</td>\n",
       "      <td>0.845477</td>\n",
       "      <td>0.871968</td>\n",
       "    </tr>\n",
       "    <tr>\n",
       "      <th>precision</th>\n",
       "      <td>0.969332</td>\n",
       "      <td>0.991185</td>\n",
       "      <td>0.960086</td>\n",
       "      <td>0.989629</td>\n",
       "    </tr>\n",
       "    <tr>\n",
       "      <th>recall</th>\n",
       "      <td>0.666339</td>\n",
       "      <td>0.718037</td>\n",
       "      <td>0.787883</td>\n",
       "      <td>0.802392</td>\n",
       "    </tr>\n",
       "  </tbody>\n",
       "</table>\n",
       "</div>"
      ],
      "text/plain": [
       "            LSA 200  LSA 1000  Word2Vec 200  Word2Vec 1000\n",
       "accuracy   0.965302  0.960232      0.984841       0.983414\n",
       "f1score    0.763888  0.815065      0.845477       0.871968\n",
       "precision  0.969332  0.991185      0.960086       0.989629\n",
       "recall     0.666339  0.718037      0.787883       0.802392"
      ]
     },
     "execution_count": 119,
     "metadata": {},
     "output_type": "execute_result"
    }
   ],
   "source": [
    "pd.DataFrame({\n",
    "  \"LSA 200\": {\n",
    "      \"accuracy\": 0.965302,\n",
    "      \"precision\": 0.969332,\n",
    "      \"recall\": 0.666339,\n",
    "      \"f1score\": 0.763888,\n",
    "  },\n",
    "  \"LSA 1000\": {\n",
    "      \"accuracy\": 0.960232,\n",
    "      \"precision\": 0.991185,\n",
    "      \"recall\": 0.718037,\n",
    "      \"f1score\": 0.815065,\n",
    "  },\n",
    "  \"Word2Vec 200\": {\n",
    "      \"accuracy\": 0.984841,\n",
    "      \"precision\": 0.960086,\n",
    "      \"recall\": 0.787883,\n",
    "      \"f1score\": 0.845477,\n",
    "  },\n",
    "  \"Word2Vec 1000\": {\n",
    "      \"accuracy\": 0.983414,\n",
    "      \"precision\": 0.989629,\n",
    "      \"recall\": 0.802392,\n",
    "      \"f1score\": 0.871968,\n",
    "  },\n",
    "})"
   ]
  },
  {
   "cell_type": "markdown",
   "metadata": {},
   "source": [
    "It's worth noting that:\n",
    "\n",
    "- The accuracy is higher when $k=200$,\n",
    "  everything else is higher when $k=1000$;\n",
    "- Precision is better for LSA models, but for everything else\n",
    "  the models based on `word2vec` have better statistics.\n",
    "  \n",
    "That said, it's probably worth using the models based on `word2vec`\n",
    "instead of the LSA ones\n",
    "for this country classification job."
   ]
  },
  {
   "cell_type": "markdown",
   "metadata": {},
   "source": [
    "## Using and saving a model"
   ]
  },
  {
   "cell_type": "markdown",
   "metadata": {},
   "source": [
    "Is there a way to use a model directly from a message string\n",
    "built from the joined metadata?\n",
    "Yes! Why would we build a model otherwise?\n",
    "\n",
    "An example based on `dataset.loc[276]`,\n",
    "which should be classified as ES,\n",
    "though it has some strong information regarding Brazil\n",
    "due to the publisher name:"
   ]
  },
  {
   "cell_type": "code",
   "execution_count": 120,
   "metadata": {},
   "outputs": [
    {
     "data": {
      "text/plain": [
       "array(['ES'], dtype=object)"
      ]
     },
     "execution_count": 120,
     "metadata": {},
     "output_type": "execute_result"
    }
   ],
   "source": [
    "msg = (\n",
    "    \"Cádiz \"\n",
    "    \"2 Universidad de Cádiz Facultad de Ciencias del Mar y Ambientales \"\n",
    "        \"Departamento de Química-Física Cádiz \"\n",
    "        \"Departamento de Química-Física, \"\n",
    "        \"Facultad de Ciencias del Mar y Ambientales, \"\n",
    "        \"Universidad de Cádiz, \"\n",
    "        \"UNESCO/UNITWIN WiCoP, \"\n",
    "        \"Campus de Excelencia International del Mar (CEIMAR). \"\n",
    "        \"(Polígono Río San Pedro s/n, Puerto Real 11510) \"\n",
    "        \"Universidad de Cádiz \"\n",
    "    \"Metals impact into the Paranaguá Estuarine Complex (Brazil) \"\n",
    "        \"during the exceptional flood of 2011 \"\n",
    "    \"Rocha Marilia Lopes da \"\n",
    "    \"Rocha \"\n",
    "    \"Facultad de Ciencias del Mar y Ambientales \"\n",
    "    \"Departamento de Química-Física \"\n",
    "    \"Universidad de Cádiz \"\n",
    "    \"Universidad de Cádiz \"\n",
    "    \"Departamento de Química-Física, \"\n",
    "        \"Facultad de Ciencias del Mar y Ambientales, \"\n",
    "        \"Universidad de Cádiz, \"\n",
    "        \"UNESCO/UNITWIN WiCoP, \"\n",
    "        \"Campus de Excelencia International del Mar (CEIMAR). \"\n",
    "        \"(Polígono Río San Pedro s/n, Puerto Real 11510, Cádiz, ) \"\n",
    "    \"Universidad de Cádiz \"\n",
    "    \"Brazilian Journal of Oceanography \"\n",
    "    \"Universidade de São Paulo, Instituto Oceanográfico\"\n",
    ")\n",
    "rf200_model.predict(\n",
    "    corpus2csc([\n",
    "        dictionary.doc2bow(pre_normalize(msg).split())\n",
    "    ], num_terms=len(dictionary)).T @ u200\n",
    ")"
   ]
  },
  {
   "cell_type": "markdown",
   "metadata": {},
   "source": [
    "Is there some way to use these results afterwards,\n",
    "without re-training every time?\n",
    "This notebook takes a lot of time to run,\n",
    "and the result we've got is useful:\n",
    "we can estimate the country code of a document\n",
    "from a sequence of words\n",
    "created from the document metadata.\n",
    "Documents with that field left unfilled can have a suggested country,\n",
    "and documents whose filled country doesn't match the estimated country\n",
    "might be manually evaluated to see what's going on\n",
    "(misclassification or something wrong in the metadata)."
   ]
  },
  {
   "cell_type": "markdown",
   "metadata": {},
   "source": [
    "This should save the result from both `word2vec` models\n",
    "required in order to compute \n",
    "(but not actual the neural network / `word2vec` models themselves):"
   ]
  },
  {
   "cell_type": "code",
   "execution_count": 121,
   "metadata": {},
   "outputs": [],
   "source": [
    "from joblib import dump"
   ]
  },
  {
   "cell_type": "code",
   "execution_count": 122,
   "metadata": {},
   "outputs": [],
   "source": [
    "dump(dictionary, \"dictionary_w2v_both.dump\");"
   ]
  },
  {
   "cell_type": "code",
   "execution_count": 123,
   "metadata": {},
   "outputs": [],
   "source": [
    "rf200_model.u = u200\n",
    "dump(rf200_model, \"rf_w2v_200.dump\");"
   ]
  },
  {
   "cell_type": "code",
   "execution_count": 124,
   "metadata": {},
   "outputs": [],
   "source": [
    "rf_model.u = u\n",
    "dump(rf_model, \"rf_w2v_1000.dump\");"
   ]
  },
  {
   "cell_type": "markdown",
   "metadata": {},
   "source": [
    "In order to use the model afterwards,\n",
    "one just need to run something like:\n",
    "\n",
    "```python\n",
    "import re\n",
    "from unidecode import unidecode\n",
    "\n",
    "from gensim.matutils import corpus2csc\n",
    "from joblib import load\n",
    "\n",
    "TEXT_ONLY_REGEX = re.compile(\"[^a-zA-Z ]\")\n",
    "\n",
    "def pre_normalize(name):\n",
    "    return TEXT_ONLY_REGEX.sub(\"\", unidecode(name).lower())\n",
    "\n",
    "dictionary = load(\"dictionary_w2v_both.dump\")\n",
    "rf_model = load(\"rf_w2v_<NUMBER>.dump\")\n",
    "\n",
    "def predict(msg):\n",
    "    return rf_model.predict(\n",
    "        corpus2csc([\n",
    "            dictionary.doc2bow(pre_normalize(msg).split())\n",
    "        ], num_terms=len(dictionary)).T @ rf_model.u\n",
    "    )[0]\n",
    "\n",
    "result = predict(\"<SOME MESSAGE>\")\n",
    "```"
   ]
  },
  {
   "cell_type": "markdown",
   "metadata": {},
   "source": [
    "Or, to get the probabilities for each country:\n",
    "\n",
    "```python\n",
    "import pandas as pd\n",
    "\n",
    "def predict_proba(msg):\n",
    "    result = rf_model.predict_proba(\n",
    "        corpus2csc([\n",
    "            dictionary.doc2bow(pre_normalize(msg).split())\n",
    "        ], num_terms=len(dictionary)).T @ rf_model.u\n",
    "    )\n",
    "    result_series = pd.Series(result.ravel(), index=rf_model.classes_)\n",
    "    return result_series[result_series > 0].sort_values(ascending=False)\n",
    "\n",
    "probabilities = predict_proba(\"<SOME MESSAGE>\")\n",
    "```"
   ]
  },
  {
   "cell_type": "markdown",
   "metadata": {},
   "source": [
    "Trained files to download:\n",
    "\n",
    "* [dictionary_w2v_both.dump](https://drive.google.com/open?id=1z4vAm2m3ANp48b2XnRtSlNDM2Gp4vrMX)\n",
    "* [rf_w2v_200.dump](https://drive.google.com/open?id=1EEI-sY-nprjzQ1yyS11F_fhocAKzRpIt)\n",
    "* [rf_w2v_1000.dump](https://drive.google.com/open?id=1_HeYOyjPlM6s1taoXSpG48XjIWd6A921)"
   ]
  }
 ],
 "metadata": {
  "kernelspec": {
   "display_name": "Python 3",
   "language": "python",
   "name": "python3"
  },
  "language_info": {
   "codemirror_mode": {
    "name": "ipython",
    "version": 3
   },
   "file_extension": ".py",
   "mimetype": "text/x-python",
   "name": "python",
   "nbconvert_exporter": "python",
   "pygments_lexer": "ipython3",
   "version": "3.7.2"
  }
 },
 "nbformat": 4,
 "nbformat_minor": 2
}
